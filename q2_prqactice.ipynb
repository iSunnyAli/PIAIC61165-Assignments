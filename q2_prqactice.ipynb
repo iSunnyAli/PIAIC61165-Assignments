{
  "nbformat": 4,
  "nbformat_minor": 0,
  "metadata": {
    "colab": {
      "name": "q2_prqactice",
      "provenance": [],
      "collapsed_sections": [],
      "include_colab_link": true
    },
    "kernelspec": {
      "name": "python3",
      "display_name": "Python 3"
    }
  },
  "cells": [
    {
      "cell_type": "markdown",
      "metadata": {
        "id": "view-in-github",
        "colab_type": "text"
      },
      "source": [
        "<a href=\"https://colab.research.google.com/github/iSunnyAli/PIAIC61165-Assignments/blob/main/q2_prqactice.ipynb\" target=\"_parent\"><img src=\"https://colab.research.google.com/assets/colab-badge.svg\" alt=\"Open In Colab\"/></a>"
      ]
    },
    {
      "cell_type": "code",
      "metadata": {
        "id": "a1-ngvqui_WF"
      },
      "source": [
        "import numpy as np"
      ],
      "execution_count": null,
      "outputs": []
    },
    {
      "cell_type": "code",
      "metadata": {
        "id": "ItrNeQKGbcmH"
      },
      "source": [
        ""
      ],
      "execution_count": null,
      "outputs": []
    },
    {
      "cell_type": "code",
      "metadata": {
        "id": "jcc_X2c2bfI6"
      },
      "source": [
        ""
      ],
      "execution_count": null,
      "outputs": []
    },
    {
      "cell_type": "code",
      "metadata": {
        "id": "ZR4Ic6EAjGom"
      },
      "source": [
        "my_arr = np.arange(1000000)"
      ],
      "execution_count": null,
      "outputs": []
    },
    {
      "cell_type": "code",
      "metadata": {
        "colab": {
          "base_uri": "https://localhost:8080/",
          "height": 210
        },
        "id": "X2xXO9IgjVgr",
        "outputId": "81c39780-2479-4ef5-82a3-5601ab1f69c3"
      },
      "source": [
        "print(my_arr)\n",
        "my_arr"
      ],
      "execution_count": null,
      "outputs": [
        {
          "output_type": "error",
          "ename": "NameError",
          "evalue": "ignored",
          "traceback": [
            "\u001b[0;31m---------------------------------------------------------------------------\u001b[0m",
            "\u001b[0;31mNameError\u001b[0m                                 Traceback (most recent call last)",
            "\u001b[0;32m<ipython-input-1-8974bc12abb9>\u001b[0m in \u001b[0;36m<module>\u001b[0;34m()\u001b[0m\n\u001b[0;32m----> 1\u001b[0;31m \u001b[0mprint\u001b[0m\u001b[0;34m(\u001b[0m\u001b[0mmy_arr\u001b[0m\u001b[0;34m)\u001b[0m\u001b[0;34m\u001b[0m\u001b[0;34m\u001b[0m\u001b[0m\n\u001b[0m\u001b[1;32m      2\u001b[0m \u001b[0mmy_arr\u001b[0m\u001b[0;34m\u001b[0m\u001b[0;34m\u001b[0m\u001b[0m\n",
            "\u001b[0;31mNameError\u001b[0m: name 'my_arr' is not defined"
          ]
        }
      ]
    },
    {
      "cell_type": "code",
      "metadata": {
        "id": "bjcXCUxJjIip"
      },
      "source": [
        "my_list = list(range(1000000))"
      ],
      "execution_count": null,
      "outputs": []
    },
    {
      "cell_type": "code",
      "metadata": {
        "colab": {
          "base_uri": "https://localhost:8080/"
        },
        "id": "QM2M-0CljL1Y",
        "outputId": "6e32ab8a-c4a3-4a0b-e152-d8dd42700550"
      },
      "source": [
        "%time for _ in range(10): my_arr2 = my_arr * 2 # vectorized operation"
      ],
      "execution_count": null,
      "outputs": [
        {
          "output_type": "stream",
          "text": [
            "CPU times: user 70 ms, sys: 2.96 ms, total: 73 ms\n",
            "Wall time: 75.4 ms\n"
          ],
          "name": "stdout"
        }
      ]
    },
    {
      "cell_type": "code",
      "metadata": {
        "colab": {
          "base_uri": "https://localhost:8080/"
        },
        "id": "UOyZw73ko5mc",
        "outputId": "5d895051-b54d-47a9-cddb-554553a939b2"
      },
      "source": [
        "%time for _ in range(10): my_arr2 = [x * 2 for x in my_arr]"
      ],
      "execution_count": null,
      "outputs": [
        {
          "output_type": "stream",
          "text": [
            "CPU times: user 3.47 s, sys: 102 ms, total: 3.57 s\n",
            "Wall time: 3.58 s\n"
          ],
          "name": "stdout"
        }
      ]
    },
    {
      "cell_type": "code",
      "metadata": {
        "colab": {
          "base_uri": "https://localhost:8080/"
        },
        "id": "ssb7M620jN7h",
        "outputId": "ce18aa4a-1813-4ab8-e3eb-65baad530c6a"
      },
      "source": [
        "%time for _ in range(10): my_list2 = [x * 2 for x in my_list]\n",
        "my_list = my_list.append(100)"
      ],
      "execution_count": null,
      "outputs": [
        {
          "output_type": "stream",
          "text": [
            "CPU times: user 560 ms, sys: 118 ms, total: 678 ms\n",
            "Wall time: 680 ms\n"
          ],
          "name": "stdout"
        }
      ]
    },
    {
      "cell_type": "code",
      "metadata": {
        "colab": {
          "base_uri": "https://localhost:8080/"
        },
        "id": "ftW0nAaUUmoi",
        "outputId": "347b8dc8-0643-4322-ebeb-31162c7b6f2b"
      },
      "source": [
        "import numpy as np\n",
        "data1 = [6, 7.5, 8, 0, 1]\n",
        "arr1 = np.array(data1)\n",
        "arr1\n",
        "type(arr1)\n",
        "type(data1)"
      ],
      "execution_count": null,
      "outputs": [
        {
          "output_type": "execute_result",
          "data": {
            "text/plain": [
              "list"
            ]
          },
          "metadata": {
            "tags": []
          },
          "execution_count": 4
        }
      ]
    },
    {
      "cell_type": "code",
      "metadata": {
        "colab": {
          "base_uri": "https://localhost:8080/"
        },
        "id": "P2riLsGQVFPX",
        "outputId": "d28af410-ba9e-4d4b-cc0f-5b3d11990db8"
      },
      "source": [
        "data1 = [ 1,2,3] # one dimension = vector\n",
        "data2 = np.array ([[1, 2, 3, 4, 5, 6], [5, 6, 7, 8, 9, 10]]) # two dimension # math matrix\n",
        "\n",
        "print(data2.ndim, data2.shape)\n",
        "data3 = np.array ([ [ [ 1 ,1], [2,2], [3,3], [4,4 ] ], [ [5,5],  [6,6], [7,7], [8,8] ] ])\n",
        "print(data3)\n",
        "print(data3.ndim, data3.shape )"
      ],
      "execution_count": null,
      "outputs": [
        {
          "output_type": "stream",
          "text": [
            "2 (2, 6)\n",
            "[[[1 1]\n",
            "  [2 2]\n",
            "  [3 3]\n",
            "  [4 4]]\n",
            "\n",
            " [[5 5]\n",
            "  [6 6]\n",
            "  [7 7]\n",
            "  [8 8]]]\n",
            "3 (2, 4, 2)\n"
          ],
          "name": "stdout"
        }
      ]
    },
    {
      "cell_type": "code",
      "metadata": {
        "id": "Xy2-CgLtnwGk"
      },
      "source": [
        " # how to slice\n",
        " # for each dimension \n",
        "    # use start : end\n",
        "    # defaults\n",
        "    # no start specify = from first value\n",
        "    # no end specify = till the end (last value)\n",
        "\n",
        "# more dimension means more start:end notation\n",
        "# for example you have two dimension \n",
        "array[start:end, start:end, start:end] # comma means next dimenstion\n",
        "\n"
      ],
      "execution_count": null,
      "outputs": []
    },
    {
      "cell_type": "code",
      "metadata": {
        "colab": {
          "base_uri": "https://localhost:8080/"
        },
        "id": "U4PYRrJ0VLeh",
        "outputId": "640071fd-d87e-4b18-8079-14be8dd22e39"
      },
      "source": [
        "arr2 = np.array(data2)\n",
        "print(arr2)\n",
        "arr2.shape\n"
      ],
      "execution_count": null,
      "outputs": [
        {
          "output_type": "stream",
          "text": [
            "[[1 2 3 4]\n",
            " [5 6 7 8]]\n"
          ],
          "name": "stdout"
        },
        {
          "output_type": "execute_result",
          "data": {
            "text/plain": [
              "(2, 4)"
            ]
          },
          "metadata": {
            "tags": []
          },
          "execution_count": 9
        }
      ]
    },
    {
      "cell_type": "code",
      "metadata": {
        "colab": {
          "base_uri": "https://localhost:8080/"
        },
        "id": "Xzc5kkEMdHq-",
        "outputId": "713e5478-a393-4852-f0df-24a5e574e46c"
      },
      "source": [
        "np.zeros((3, 6))\n",
        "np.dtype"
      ],
      "execution_count": null,
      "outputs": [
        {
          "output_type": "execute_result",
          "data": {
            "text/plain": [
              "numpy.dtype"
            ]
          },
          "metadata": {
            "tags": []
          },
          "execution_count": 26
        }
      ]
    },
    {
      "cell_type": "code",
      "metadata": {
        "colab": {
          "base_uri": "https://localhost:8080/"
        },
        "id": "NvEF8iBve-Z8",
        "outputId": "6e01b056-046c-41fd-cdc5-8e0c7be420fb"
      },
      "source": [
        "array = np.array ( [1, 2, 3, 4, 5, 6, 7, 8, 9,10] )\n",
        "print(array)\n",
        "print(array[5])\n",
        "print(array[5:8] )\n",
        "a = np.array( [array[0] , array[-1]] )\n",
        "print(a)\n",
        "print(type(a))"
      ],
      "execution_count": null,
      "outputs": [
        {
          "output_type": "stream",
          "text": [
            "[ 1  2  3  4  5  6  7  8  9 10]\n",
            "6\n",
            "[6 7 8]\n",
            "[ 1 10]\n",
            "<class 'numpy.ndarray'>\n"
          ],
          "name": "stdout"
        }
      ]
    },
    {
      "cell_type": "code",
      "metadata": {
        "colab": {
          "base_uri": "https://localhost:8080/"
        },
        "id": "V5JcUm6qnSOM",
        "outputId": "385dd44d-4534-41be-8dbd-976d9bc2388b"
      },
      "source": [
        "arr2d = np.array([[1, 2, 3], [4, 5, 6], [7, 8, 9]])\n",
        "print(arr2d)\n",
        "arr2d[0][2]"
      ],
      "execution_count": null,
      "outputs": [
        {
          "output_type": "stream",
          "text": [
            "[[1 2 3]\n",
            " [4 5 6]\n",
            " [7 8 9]]\n"
          ],
          "name": "stdout"
        },
        {
          "output_type": "execute_result",
          "data": {
            "text/plain": [
              "3"
            ]
          },
          "metadata": {
            "tags": []
          },
          "execution_count": 45
        }
      ]
    },
    {
      "cell_type": "code",
      "metadata": {
        "colab": {
          "base_uri": "https://localhost:8080/"
        },
        "id": "en-0bbcSnTjQ",
        "outputId": "57e25786-588a-4292-8a97-d9e96755ea9f"
      },
      "source": [
        "arr2d[:,:2]"
      ],
      "execution_count": null,
      "outputs": [
        {
          "output_type": "execute_result",
          "data": {
            "text/plain": [
              "array([[1, 2],\n",
              "       [4, 5],\n",
              "       [7, 8]])"
            ]
          },
          "metadata": {
            "tags": []
          },
          "execution_count": 48
        }
      ]
    },
    {
      "cell_type": "code",
      "metadata": {
        "id": "I18tVKcdbh31"
      },
      "source": [
        "import numpy as np"
      ],
      "execution_count": null,
      "outputs": []
    },
    {
      "cell_type": "code",
      "metadata": {
        "id": "Atz1rMvCbroz"
      },
      "source": [
        "# Objective to learn Numpy\n",
        "# 1 as a machinelearning /Datascience expert\n",
        "# we need data\n",
        "# data type ? how many types of data computer can process\n",
        "## comptuer can process only numbers\n",
        "## machinelearning alog can process only numbers\n",
        "## we need to convert verything into numbers \n",
        "\n",
        "# we need to convert unstructured data in to stuctured data\n",
        "1) Fast Execution :\n",
        "2) Memory Management ( less memory more data )\n",
        "3) Create placehodler ( first create a array to store our data) \n",
        "4) data profiling (   ranges min()  maximum(), describe() )\n",
        "\n",
        "5) mathematical operation ( add, less,80 > public uni)\n",
        "6) statistical operation ( regerssion, grouping, , \n",
        "                          avg, max, min, sum, sorting)\n",
        "6) dimension (reshaping)\n",
        "9) conversion (transform) \n",
        "3) Filter out (uncessary data \n",
        "    ( on column , on rows) \n",
        "    ( find ( how many, age > 20), \n",
        "     age above 200 years ,\n",
        "\n",
        "     null value replacement)\n",
        "\n",
        "\n",
        "\n",
        "Numpy needs ? homogenous data (same type data)\n",
        "\n",
        "1) Create any Array ( all zero, or all one, or random number, all nulls, or all \"\" ( blank for string))\n",
        "2) convert data to any arra(list to nparray)"
      ],
      "execution_count": null,
      "outputs": []
    },
    {
      "cell_type": "code",
      "metadata": {
        "id": "W4gDymLkowfU"
      },
      "source": [
        ""
      ],
      "execution_count": null,
      "outputs": []
    },
    {
      "cell_type": "code",
      "metadata": {
        "colab": {
          "base_uri": "https://localhost:8080/"
        },
        "id": "DNj-XY-rl3sk",
        "outputId": "4258e718-003b-4744-8da1-83e60c9cf967"
      },
      "source": [
        "import numpy as np\n",
        "data1 = [6, 7.5, 8, 0, 1]\n",
        "arr1 = np.array(data1)\n",
        "print(type(data1),type(arr1))\n",
        "print(data1)\n",
        "print(arr1)\n"
      ],
      "execution_count": null,
      "outputs": [
        {
          "output_type": "stream",
          "text": [
            "<class 'list'> <class 'numpy.ndarray'>\n",
            "[6, 7.5, 8, 0, 1]\n",
            "[6.  7.5 8.  0.  1. ]\n"
          ],
          "name": "stdout"
        }
      ]
    },
    {
      "cell_type": "code",
      "metadata": {
        "colab": {
          "base_uri": "https://localhost:8080/",
          "height": 117
        },
        "id": "RY-5Tldwmujl",
        "outputId": "15756b72-a487-4d88-d8c9-caf5439eafbc"
      },
      "source": [
        "data2 = [[1, 2, 3, 4], [5, 6, 7, 8]]\n",
        "#aar2 is a numpy array object\n",
        "# an object can contain, methods, attributes\n",
        "# attributes = variables (set, or get value)\n",
        "# method = functions (provide parameter(s), get results as output)\n",
        "\n",
        "arr2 = np.array(data2)\n",
        "data1 = [6, 7.5, 8, 0, 1]\n",
        "arr1 = np.array(data1)\n",
        "\n",
        "display(data2, arr2)\n",
        "print(arr2.ndim, arr2.shape)\n",
        "print(arr1.ndim, arr1.shape)\n",
        "# don't confuse with np.array or np.zeros etc these are function"
      ],
      "execution_count": null,
      "outputs": [
        {
          "output_type": "display_data",
          "data": {
            "text/plain": [
              "[[1, 2, 3, 4], [5, 6, 7, 8]]"
            ]
          },
          "metadata": {
            "tags": []
          }
        },
        {
          "output_type": "display_data",
          "data": {
            "text/plain": [
              "array([[1, 2, 3, 4],\n",
              "       [5, 6, 7, 8]])"
            ]
          },
          "metadata": {
            "tags": []
          }
        },
        {
          "output_type": "stream",
          "text": [
            "2 (2, 4)\n",
            "1 (5,)\n"
          ],
          "name": "stdout"
        }
      ]
    },
    {
      "cell_type": "code",
      "metadata": {
        "id": "oaNCCU9_nK1M"
      },
      "source": [
        "# attirbute, function, method, object\n"
      ],
      "execution_count": null,
      "outputs": []
    },
    {
      "cell_type": "code",
      "metadata": {
        "colab": {
          "base_uri": "https://localhost:8080/"
        },
        "id": "lELtKQPSozsO",
        "outputId": "853a9240-eb0c-4ee8-c03d-9e8f3cdf3c63"
      },
      "source": [
        "# we have 10,000 pictures each picture have 100 by 100 in size\n",
        "# how much memroy we need\n",
        "import numpy as np\n",
        "#default data type for numbers in numpy ?\n",
        "# numpy infer, int64, float64\n",
        "# memory storage smallest unit ? byte = 8 bit \n",
        "pixels = 100 * 100 * 10000 * 1 # height * weidht * number of photos * number of color\n",
        "print(pixels)\n",
        "memoryBytes = pixels * (8/8) # each values will take n bytes\n",
        "memoryinMB = memoryBytes  /1024 / 1024\n",
        "print(memoryinMB)\n",
        "print(\"Memory in GB\", memoryinMB / 1024)\n",
        "\n",
        "# how much value you can store in 1 bit = 2 values (0 or 1)\n",
        "# in 2 bit = 2 ** number of bits = 2 ** 2 = 4\n",
        "valueStores = 2 **8   # 2 power 8, minus 1 for signed bit\n",
        "# signed bit = 2 power (8 -1) # one bit used for sign \n",
        "# signed values = 2 ** 7 =  \n",
        "#k unsigned = 2 ** 8\n",
        "valueStores = 2 ** 8 # becuse last bit will be used for sign\n",
        "# -128 to  +127\n",
        "# total values in 8 bit = 256  -> zero center  - 128 to 127\n",
        "# unsigned -> 0 staring value = 0 255\n",
        "x = 1000000  # how much bits i need to store that value\n",
        "# we need 32\n",
        "bits = np.log2(x)\n",
        "print(\"x\", x, bits)\n",
        "print(valueStores)\n",
        "# value range = -128 to 127\n",
        "# only unsigned  will provide 0 to 255\n"
      ],
      "execution_count": 1,
      "outputs": [
        {
          "output_type": "stream",
          "text": [
            "100000000\n",
            "95.367431640625\n",
            "Memory in GB 0.09313225746154785\n",
            "x 1000000 19.931568569324174\n",
            "256\n"
          ],
          "name": "stdout"
        }
      ]
    },
    {
      "cell_type": "code",
      "metadata": {
        "colab": {
          "base_uri": "https://localhost:8080/"
        },
        "id": "doQ6dHDYhWBE",
        "outputId": "6ab157d1-c457-48f7-a47e-9dcb16a867fe"
      },
      "source": [
        "import numpy as np\n",
        "x = \"20\" # here x is stgring variable\n",
        "x = int(x) # return a integer converted value of x but it does not change x \n",
        "# not a new integer value will be store in x. now x is an integer variables\n",
        "print(type(x))\n",
        "arr = np.array([1, 2, 3, 4, 5])\n",
        "print(\"line 6\", arr.dtype)\n",
        "arr= arr.astype(np.float64)\n",
        "print(\"line 8\", arr.dtype)\n",
        "arr = np.array( [1, 2, 3, 4, 5], np.uint8)\n",
        "#print(help(np.array))\n",
        "print( \"line 12\", arr.dtype)\n"
      ],
      "execution_count": null,
      "outputs": [
        {
          "output_type": "stream",
          "text": [
            "<class 'int'>\n",
            "line 6 int64\n",
            "line 8 float64\n",
            "line 12 uint8\n"
          ],
          "name": "stdout"
        }
      ]
    },
    {
      "cell_type": "code",
      "metadata": {
        "id": "99qp9JmEsfCa",
        "colab": {
          "base_uri": "https://localhost:8080/"
        },
        "outputId": "ac7ec74f-c0cc-4c0f-95d2-a15d7cca4041"
      },
      "source": [
        "arr = np.array([3.7, -1.2, -2.6, 0.5, 12.9, 10.1])\n",
        "arr"
      ],
      "execution_count": null,
      "outputs": [
        {
          "output_type": "execute_result",
          "data": {
            "text/plain": [
              "array([ 3.7, -1.2, -2.6,  0.5, 12.9, 10.1])"
            ]
          },
          "metadata": {
            "tags": []
          },
          "execution_count": 10
        }
      ]
    },
    {
      "cell_type": "code",
      "metadata": {
        "colab": {
          "base_uri": "https://localhost:8080/"
        },
        "id": "v6sYQnt9aDTQ",
        "outputId": "873d99ef-ee2d-4f5b-b60b-ddc2db66cbc3"
      },
      "source": [
        "arr = arr.astype(np.int32)\n",
        "arr"
      ],
      "execution_count": null,
      "outputs": [
        {
          "output_type": "execute_result",
          "data": {
            "text/plain": [
              "array([ 3, -1, -2,  0, 12, 10], dtype=int32)"
            ]
          },
          "metadata": {
            "tags": []
          },
          "execution_count": 12
        }
      ]
    },
    {
      "cell_type": "code",
      "metadata": {
        "colab": {
          "base_uri": "https://localhost:8080/"
        },
        "id": "Wjp2cMOLasK4",
        "outputId": "69a5bdd4-5182-44f0-a1c0-ed7289029ca4"
      },
      "source": [
        "numeric_strings = np.array(['1.25', '-9.6', '42'] , dtype=np.string_)\n",
        "numeric_strings"
      ],
      "execution_count": null,
      "outputs": [
        {
          "output_type": "execute_result",
          "data": {
            "text/plain": [
              "array([b'1.25', b'-9.6', b'42'], dtype='|S4')"
            ]
          },
          "metadata": {
            "tags": []
          },
          "execution_count": 19
        }
      ]
    },
    {
      "cell_type": "code",
      "metadata": {
        "colab": {
          "base_uri": "https://localhost:8080/"
        },
        "id": "MUMSFwDvb9Wn",
        "outputId": "14acb892-3cf0-4617-840f-c00280e76d16"
      },
      "source": [
        "# slightly different then book code pg # 94\n",
        "arr = np.array([1, 2, 3, 4, 5, 6, 7, 8, 9, 10])\n",
        "#vl = arr(5)\n",
        "#v9\n",
        "# above codes are example of indexing\n",
        "vl1 = arr[2] # for single value\n",
        "print(vl1, type(vl1) )\n",
        "\n",
        "vl2 = arr[ [2,5, 9] ] # multiple values\n",
        "print(vl2)\n",
        "print(type(vl2))\n",
        "# slicing means range :\n",
        "vl2 = arr[2:5]\n",
        "print(vl2)\n"
      ],
      "execution_count": null,
      "outputs": [
        {
          "output_type": "stream",
          "text": [
            "3 <class 'numpy.int64'>\n",
            "[ 3  6 10]\n",
            "<class 'numpy.ndarray'>\n",
            "[3 4 5]\n"
          ],
          "name": "stdout"
        }
      ]
    },
    {
      "cell_type": "code",
      "metadata": {
        "colab": {
          "base_uri": "https://localhost:8080/"
        },
        "id": "N3zkuAxAfLTn",
        "outputId": "41080c12-420b-4546-f358-0bcba6be1f9e"
      },
      "source": [
        "# multi dimensional array ( ndArray)\n",
        "import numpy as np\n",
        "\n",
        "\n",
        "nda = np.array(\n",
        "    [\n",
        "     [ \n",
        "      [ 111, 112, 113, 114 ], [121, 122, 123, 124] , [131, 132, 133, 134]  ],\n",
        "     [ \n",
        "      [211, 212, 213, 214], [221, 222, 223, 224], [231, 232, 233, 234] ],\n",
        "     [ \n",
        "      [311, 312, 313, 314], [321, 322, 323, 324], [331, 332, 333, 334] ],\n",
        "     [  \n",
        "      [411, 412, 413, 414], [421, 422, 423, 424], [431, 432, 433, 434] ]\n",
        "    ]\n",
        ", dtype = np.uint16)\n",
        "#print(nda.dtype)\n",
        "#print(nda)\n",
        "print( \"dimensions:\", nda.ndim, \"Shape:\", nda.shape)\n",
        "# Indexing (key player = comma )\n",
        "#print(nda[2,2,2]) # indivudal element\n",
        "#print(nda[ [0,3], 2, ])\n",
        "\n",
        "# SLICING\n",
        "# range or sequence of elements\n",
        "# colon :\n",
        "print(nda[1:3, :, 1:3]) # indivudal element\n",
        "# : wihtout values means from start and till end\n",
        "\n",
        "\n"
      ],
      "execution_count": null,
      "outputs": [
        {
          "output_type": "stream",
          "text": [
            "dimensions: 3 Shape: (4, 3, 4)\n",
            "[[[212 213]\n",
            "  [222 223]\n",
            "  [232 233]]\n",
            "\n",
            " [[312 313]\n",
            "  [322 323]\n",
            "  [332 333]]]\n"
          ],
          "name": "stdout"
        }
      ]
    },
    {
      "cell_type": "code",
      "metadata": {
        "colab": {
          "base_uri": "https://localhost:8080/"
        },
        "id": "9JB_DecAoT1R",
        "outputId": "de535d90-44fc-4448-e8ba-c0483df57704"
      },
      "source": [
        "!pwd # i want to know what is current directory of the notebook"
      ],
      "execution_count": null,
      "outputs": [
        {
          "output_type": "stream",
          "text": [
            "/content\n"
          ],
          "name": "stdout"
        }
      ]
    },
    {
      "cell_type": "code",
      "metadata": {
        "colab": {
          "base_uri": "https://localhost:8080/",
          "height": 406
        },
        "id": "PyZYfbiKoY4t",
        "outputId": "983be99e-2ec5-44e8-f84c-3e2dd68e7d48"
      },
      "source": [
        "import numpy as np\n",
        "# for image reading\n",
        "import matplotlib.pylab as plt\n",
        "#import matplotlib.image\n",
        "\n",
        "def plti(im, h=8, **kwargs):\n",
        "    \"\"\"\n",
        "    Helper function to plot an image.\n",
        "    \"\"\"\n",
        "    y = im.shape[0]\n",
        "    x = im.shape[1]\n",
        "    w = (y/x) * h\n",
        "    print(\"w value\",w)\n",
        "    plt.figure(figsize=(w,h))\n",
        "    plt.imshow(im, interpolation=\"none\", **kwargs)\n",
        "    plt.axis('off')\n",
        "    #input('press <ENTER> to continue')\n",
        "\n",
        "def main():\n",
        "    #%matplotlib pltinline\n",
        "    im = plt.imread(\"airplane.jpg\")\n",
        "    print(type(im), im.shape, im.ndim)\n",
        "    plti(im)\n",
        "    im = im[300:700,:1000,:]\n",
        "    plti(im)\n",
        "\n",
        "    im = im[200:700,:1000,:]\n",
        "    plti(im)\n",
        "\n",
        "main()\n",
        "\n"
      ],
      "execution_count": null,
      "outputs": [
        {
          "output_type": "stream",
          "text": [
            "<class 'numpy.ndarray'> (1200, 1900, 3) 3\n",
            "w value 5.052631578947368\n",
            "w value 3.2\n",
            "w value 1.6\n"
          ],
          "name": "stdout"
        },
        {
          "output_type": "display_data",
          "data": {
            "image/png": "[encoded data removed]",
            "text/plain": [
              "<Figure size 363.789x576 with 1 Axes>"
            ]
          },
          "metadata": {
            "tags": [],
            "needs_background": "light"
          }
        },
        {
          "output_type": "display_data",
          "data": {
            "image/png": "[encoded data removed]",
            "text/plain": [
              "<Figure size 230.4x576 with 1 Axes>"
            ]
          },
          "metadata": {
            "tags": [],
            "needs_background": "light"
          }
        },
        {
          "output_type": "display_data",
          "data": {
            "image/png": "[encoded data removed]",
            "text/plain": [
              "<Figure size 115.2x576 with 1 Axes>"
            ]
          },
          "metadata": {
            "tags": [],
            "needs_background": "light"
          }
        }
      ]
    },
    {
      "cell_type": "code",
      "metadata": {
        "id": "KZjrWJQz3mhl"
      },
      "source": [
        ""
      ],
      "execution_count": null,
      "outputs": []
    },
    {
      "cell_type": "code",
      "metadata": {
        "id": "BVi7KVkM3nCj"
      },
      "source": [
        ""
      ],
      "execution_count": null,
      "outputs": []
    },
    {
      "cell_type": "code",
      "metadata": {
        "id": "N9eYTGTloZPo"
      },
      "source": [
        ""
      ],
      "execution_count": null,
      "outputs": []
    },
    {
      "cell_type": "markdown",
      "metadata": {
        "id": "lR4eGngeoZ63"
      },
      "source": [
        "# New Section"
      ]
    },
    {
      "cell_type": "code",
      "metadata": {
        "id": "HP1A-JA4nJJe"
      },
      "source": [
        " score = []"
      ],
      "execution_count": null,
      "outputs": []
    },
    {
      "cell_type": "markdown",
      "metadata": {
        "id": "Wh2qKDBVcs59"
      },
      "source": [
        ""
      ]
    }
  ]
}