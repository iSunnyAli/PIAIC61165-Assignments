{
 "cells": [
  {
   "cell_type": "markdown",
   "metadata": {},
   "source": [
    "# Credit Card Fraud Detection::"
   ]
  },
  {
   "cell_type": "markdown",
   "metadata": {},
   "source": [
    "Download dataset from this link:\n",
    "\n",
    "https://www.kaggle.com/mlg-ulb/creditcardfraud"
   ]
  },
  {
   "cell_type": "markdown",
   "metadata": {},
   "source": [
    "# Description about dataset::"
   ]
  },
  {
   "cell_type": "markdown",
   "metadata": {},
   "source": [
    "The datasets contains transactions made by credit cards in September 2013 by european cardholders.\n",
    "This dataset presents transactions that occurred in two days, where we have 492 frauds out of 284,807 transactions. The dataset is highly unbalanced, the positive class (frauds) account for 0.172% of all transactions.\n",
    "\n",
    "It contains only numerical input variables which are the result of a PCA transformation. Unfortunately, due to confidentiality issues, we cannot provide the original features and more background information about the data. Features V1, V2, … V28 are the principal components obtained with PCA, the only features which have not been transformed with PCA are 'Time' and 'Amount'. Feature 'Time' contains the seconds elapsed between each transaction and the first transaction in the dataset. The feature 'Amount' is the transaction Amount, this feature can be used for example-dependant cost-senstive learning. \n",
    "\n",
    "\n",
    "### Feature 'Class' is the response variable and it takes value 1 in case of fraud and 0 otherwise."
   ]
  },
  {
   "cell_type": "markdown",
   "metadata": {},
   "source": [
    "# WORKFLOW :"
   ]
  },
  {
   "cell_type": "markdown",
   "metadata": {},
   "source": [
    "1.Load Data\n",
    "\n",
    "2.Check Missing Values ( If Exist ; Fill each record with mean of its feature )\n",
    "\n",
    "3.Standardized the Input Variables. \n",
    "\n",
    "4.Split into 50% Training(Samples,Labels) , 30% Test(Samples,Labels) and 20% Validation Data(Samples,Labels).\n",
    "\n",
    "5.Model : input Layer (No. of features ), 3 hidden layers including 10,8,6 unit & Output Layer with activation function relu/tanh (check by experiment).\n",
    "\n",
    "6.Compilation Step (Note : Its a Binary problem , select loss , metrics according to it)\n",
    "\n",
    "7.Train the Model with Epochs (100).\n",
    "\n",
    "8.If the model gets overfit tune your model by changing the units , No. of layers , epochs , add dropout layer or add Regularizer according to the need .\n",
    "\n",
    "9.Prediction should be > 92%\n",
    "10.Evaluation Step\n",
    "11Prediction\n"
   ]
  },
  {
   "cell_type": "markdown",
   "metadata": {},
   "source": [
    "# Task::"
   ]
  },
  {
   "cell_type": "markdown",
   "metadata": {},
   "source": [
    "## Identify fraudulent credit card transactions."
   ]
  },
  {
   "cell_type": "code",
   "execution_count": 2,
   "metadata": {},
   "outputs": [],
   "source": [
    "import pandas as pd\n",
    "import numpy as np\n",
    "import matplotlib.pyplot as plt\n",
    "import tensorflow as tf"
   ]
  },
  {
   "cell_type": "code",
   "execution_count": 3,
   "metadata": {},
   "outputs": [],
   "source": [
    "data = pd.read_csv('creditcard.csv')"
   ]
  },
  {
   "cell_type": "code",
   "execution_count": 4,
   "metadata": {},
   "outputs": [
    {
     "data": {
      "text/html": [
       "<div>\n",
       "<style scoped>\n",
       "    .dataframe tbody tr th:only-of-type {\n",
       "        vertical-align: middle;\n",
       "    }\n",
       "\n",
       "    .dataframe tbody tr th {\n",
       "        vertical-align: top;\n",
       "    }\n",
       "\n",
       "    .dataframe thead th {\n",
       "        text-align: right;\n",
       "    }\n",
       "</style>\n",
       "<table border=\"1\" class=\"dataframe\">\n",
       "  <thead>\n",
       "    <tr style=\"text-align: right;\">\n",
       "      <th></th>\n",
       "      <th>Time</th>\n",
       "      <th>V1</th>\n",
       "      <th>V2</th>\n",
       "      <th>V3</th>\n",
       "      <th>V4</th>\n",
       "      <th>V5</th>\n",
       "      <th>V6</th>\n",
       "      <th>V7</th>\n",
       "      <th>V8</th>\n",
       "      <th>V9</th>\n",
       "      <th>...</th>\n",
       "      <th>V21</th>\n",
       "      <th>V22</th>\n",
       "      <th>V23</th>\n",
       "      <th>V24</th>\n",
       "      <th>V25</th>\n",
       "      <th>V26</th>\n",
       "      <th>V27</th>\n",
       "      <th>V28</th>\n",
       "      <th>Amount</th>\n",
       "      <th>Class</th>\n",
       "    </tr>\n",
       "  </thead>\n",
       "  <tbody>\n",
       "    <tr>\n",
       "      <th>count</th>\n",
       "      <td>284807.000000</td>\n",
       "      <td>2.848070e+05</td>\n",
       "      <td>2.848070e+05</td>\n",
       "      <td>2.848070e+05</td>\n",
       "      <td>2.848070e+05</td>\n",
       "      <td>2.848070e+05</td>\n",
       "      <td>2.848070e+05</td>\n",
       "      <td>2.848070e+05</td>\n",
       "      <td>2.848070e+05</td>\n",
       "      <td>2.848070e+05</td>\n",
       "      <td>...</td>\n",
       "      <td>2.848070e+05</td>\n",
       "      <td>2.848070e+05</td>\n",
       "      <td>2.848070e+05</td>\n",
       "      <td>2.848070e+05</td>\n",
       "      <td>2.848070e+05</td>\n",
       "      <td>2.848070e+05</td>\n",
       "      <td>2.848070e+05</td>\n",
       "      <td>2.848070e+05</td>\n",
       "      <td>284807.000000</td>\n",
       "      <td>284807.000000</td>\n",
       "    </tr>\n",
       "    <tr>\n",
       "      <th>mean</th>\n",
       "      <td>94813.859575</td>\n",
       "      <td>3.918649e-15</td>\n",
       "      <td>5.682686e-16</td>\n",
       "      <td>-8.761736e-15</td>\n",
       "      <td>2.811118e-15</td>\n",
       "      <td>-1.552103e-15</td>\n",
       "      <td>2.040130e-15</td>\n",
       "      <td>-1.698953e-15</td>\n",
       "      <td>-1.893285e-16</td>\n",
       "      <td>-3.147640e-15</td>\n",
       "      <td>...</td>\n",
       "      <td>1.473120e-16</td>\n",
       "      <td>8.042109e-16</td>\n",
       "      <td>5.282512e-16</td>\n",
       "      <td>4.456271e-15</td>\n",
       "      <td>1.426896e-15</td>\n",
       "      <td>1.701640e-15</td>\n",
       "      <td>-3.662252e-16</td>\n",
       "      <td>-1.217809e-16</td>\n",
       "      <td>88.349619</td>\n",
       "      <td>0.001727</td>\n",
       "    </tr>\n",
       "    <tr>\n",
       "      <th>std</th>\n",
       "      <td>47488.145955</td>\n",
       "      <td>1.958696e+00</td>\n",
       "      <td>1.651309e+00</td>\n",
       "      <td>1.516255e+00</td>\n",
       "      <td>1.415869e+00</td>\n",
       "      <td>1.380247e+00</td>\n",
       "      <td>1.332271e+00</td>\n",
       "      <td>1.237094e+00</td>\n",
       "      <td>1.194353e+00</td>\n",
       "      <td>1.098632e+00</td>\n",
       "      <td>...</td>\n",
       "      <td>7.345240e-01</td>\n",
       "      <td>7.257016e-01</td>\n",
       "      <td>6.244603e-01</td>\n",
       "      <td>6.056471e-01</td>\n",
       "      <td>5.212781e-01</td>\n",
       "      <td>4.822270e-01</td>\n",
       "      <td>4.036325e-01</td>\n",
       "      <td>3.300833e-01</td>\n",
       "      <td>250.120109</td>\n",
       "      <td>0.041527</td>\n",
       "    </tr>\n",
       "    <tr>\n",
       "      <th>min</th>\n",
       "      <td>0.000000</td>\n",
       "      <td>-5.640751e+01</td>\n",
       "      <td>-7.271573e+01</td>\n",
       "      <td>-4.832559e+01</td>\n",
       "      <td>-5.683171e+00</td>\n",
       "      <td>-1.137433e+02</td>\n",
       "      <td>-2.616051e+01</td>\n",
       "      <td>-4.355724e+01</td>\n",
       "      <td>-7.321672e+01</td>\n",
       "      <td>-1.343407e+01</td>\n",
       "      <td>...</td>\n",
       "      <td>-3.483038e+01</td>\n",
       "      <td>-1.093314e+01</td>\n",
       "      <td>-4.480774e+01</td>\n",
       "      <td>-2.836627e+00</td>\n",
       "      <td>-1.029540e+01</td>\n",
       "      <td>-2.604551e+00</td>\n",
       "      <td>-2.256568e+01</td>\n",
       "      <td>-1.543008e+01</td>\n",
       "      <td>0.000000</td>\n",
       "      <td>0.000000</td>\n",
       "    </tr>\n",
       "    <tr>\n",
       "      <th>25%</th>\n",
       "      <td>54201.500000</td>\n",
       "      <td>-9.203734e-01</td>\n",
       "      <td>-5.985499e-01</td>\n",
       "      <td>-8.903648e-01</td>\n",
       "      <td>-8.486401e-01</td>\n",
       "      <td>-6.915971e-01</td>\n",
       "      <td>-7.682956e-01</td>\n",
       "      <td>-5.540759e-01</td>\n",
       "      <td>-2.086297e-01</td>\n",
       "      <td>-6.430976e-01</td>\n",
       "      <td>...</td>\n",
       "      <td>-2.283949e-01</td>\n",
       "      <td>-5.423504e-01</td>\n",
       "      <td>-1.618463e-01</td>\n",
       "      <td>-3.545861e-01</td>\n",
       "      <td>-3.171451e-01</td>\n",
       "      <td>-3.269839e-01</td>\n",
       "      <td>-7.083953e-02</td>\n",
       "      <td>-5.295979e-02</td>\n",
       "      <td>5.600000</td>\n",
       "      <td>0.000000</td>\n",
       "    </tr>\n",
       "    <tr>\n",
       "      <th>50%</th>\n",
       "      <td>84692.000000</td>\n",
       "      <td>1.810880e-02</td>\n",
       "      <td>6.548556e-02</td>\n",
       "      <td>1.798463e-01</td>\n",
       "      <td>-1.984653e-02</td>\n",
       "      <td>-5.433583e-02</td>\n",
       "      <td>-2.741871e-01</td>\n",
       "      <td>4.010308e-02</td>\n",
       "      <td>2.235804e-02</td>\n",
       "      <td>-5.142873e-02</td>\n",
       "      <td>...</td>\n",
       "      <td>-2.945017e-02</td>\n",
       "      <td>6.781943e-03</td>\n",
       "      <td>-1.119293e-02</td>\n",
       "      <td>4.097606e-02</td>\n",
       "      <td>1.659350e-02</td>\n",
       "      <td>-5.213911e-02</td>\n",
       "      <td>1.342146e-03</td>\n",
       "      <td>1.124383e-02</td>\n",
       "      <td>22.000000</td>\n",
       "      <td>0.000000</td>\n",
       "    </tr>\n",
       "    <tr>\n",
       "      <th>75%</th>\n",
       "      <td>139320.500000</td>\n",
       "      <td>1.315642e+00</td>\n",
       "      <td>8.037239e-01</td>\n",
       "      <td>1.027196e+00</td>\n",
       "      <td>7.433413e-01</td>\n",
       "      <td>6.119264e-01</td>\n",
       "      <td>3.985649e-01</td>\n",
       "      <td>5.704361e-01</td>\n",
       "      <td>3.273459e-01</td>\n",
       "      <td>5.971390e-01</td>\n",
       "      <td>...</td>\n",
       "      <td>1.863772e-01</td>\n",
       "      <td>5.285536e-01</td>\n",
       "      <td>1.476421e-01</td>\n",
       "      <td>4.395266e-01</td>\n",
       "      <td>3.507156e-01</td>\n",
       "      <td>2.409522e-01</td>\n",
       "      <td>9.104512e-02</td>\n",
       "      <td>7.827995e-02</td>\n",
       "      <td>77.165000</td>\n",
       "      <td>0.000000</td>\n",
       "    </tr>\n",
       "    <tr>\n",
       "      <th>max</th>\n",
       "      <td>172792.000000</td>\n",
       "      <td>2.454930e+00</td>\n",
       "      <td>2.205773e+01</td>\n",
       "      <td>9.382558e+00</td>\n",
       "      <td>1.687534e+01</td>\n",
       "      <td>3.480167e+01</td>\n",
       "      <td>7.330163e+01</td>\n",
       "      <td>1.205895e+02</td>\n",
       "      <td>2.000721e+01</td>\n",
       "      <td>1.559499e+01</td>\n",
       "      <td>...</td>\n",
       "      <td>2.720284e+01</td>\n",
       "      <td>1.050309e+01</td>\n",
       "      <td>2.252841e+01</td>\n",
       "      <td>4.584549e+00</td>\n",
       "      <td>7.519589e+00</td>\n",
       "      <td>3.517346e+00</td>\n",
       "      <td>3.161220e+01</td>\n",
       "      <td>3.384781e+01</td>\n",
       "      <td>25691.160000</td>\n",
       "      <td>1.000000</td>\n",
       "    </tr>\n",
       "  </tbody>\n",
       "</table>\n",
       "<p>8 rows × 31 columns</p>\n",
       "</div>"
      ],
      "text/plain": [
       "                Time            V1            V2            V3            V4  \\\n",
       "count  284807.000000  2.848070e+05  2.848070e+05  2.848070e+05  2.848070e+05   \n",
       "mean    94813.859575  3.918649e-15  5.682686e-16 -8.761736e-15  2.811118e-15   \n",
       "std     47488.145955  1.958696e+00  1.651309e+00  1.516255e+00  1.415869e+00   \n",
       "min         0.000000 -5.640751e+01 -7.271573e+01 -4.832559e+01 -5.683171e+00   \n",
       "25%     54201.500000 -9.203734e-01 -5.985499e-01 -8.903648e-01 -8.486401e-01   \n",
       "50%     84692.000000  1.810880e-02  6.548556e-02  1.798463e-01 -1.984653e-02   \n",
       "75%    139320.500000  1.315642e+00  8.037239e-01  1.027196e+00  7.433413e-01   \n",
       "max    172792.000000  2.454930e+00  2.205773e+01  9.382558e+00  1.687534e+01   \n",
       "\n",
       "                 V5            V6            V7            V8            V9  \\\n",
       "count  2.848070e+05  2.848070e+05  2.848070e+05  2.848070e+05  2.848070e+05   \n",
       "mean  -1.552103e-15  2.040130e-15 -1.698953e-15 -1.893285e-16 -3.147640e-15   \n",
       "std    1.380247e+00  1.332271e+00  1.237094e+00  1.194353e+00  1.098632e+00   \n",
       "min   -1.137433e+02 -2.616051e+01 -4.355724e+01 -7.321672e+01 -1.343407e+01   \n",
       "25%   -6.915971e-01 -7.682956e-01 -5.540759e-01 -2.086297e-01 -6.430976e-01   \n",
       "50%   -5.433583e-02 -2.741871e-01  4.010308e-02  2.235804e-02 -5.142873e-02   \n",
       "75%    6.119264e-01  3.985649e-01  5.704361e-01  3.273459e-01  5.971390e-01   \n",
       "max    3.480167e+01  7.330163e+01  1.205895e+02  2.000721e+01  1.559499e+01   \n",
       "\n",
       "       ...           V21           V22           V23           V24  \\\n",
       "count  ...  2.848070e+05  2.848070e+05  2.848070e+05  2.848070e+05   \n",
       "mean   ...  1.473120e-16  8.042109e-16  5.282512e-16  4.456271e-15   \n",
       "std    ...  7.345240e-01  7.257016e-01  6.244603e-01  6.056471e-01   \n",
       "min    ... -3.483038e+01 -1.093314e+01 -4.480774e+01 -2.836627e+00   \n",
       "25%    ... -2.283949e-01 -5.423504e-01 -1.618463e-01 -3.545861e-01   \n",
       "50%    ... -2.945017e-02  6.781943e-03 -1.119293e-02  4.097606e-02   \n",
       "75%    ...  1.863772e-01  5.285536e-01  1.476421e-01  4.395266e-01   \n",
       "max    ...  2.720284e+01  1.050309e+01  2.252841e+01  4.584549e+00   \n",
       "\n",
       "                V25           V26           V27           V28         Amount  \\\n",
       "count  2.848070e+05  2.848070e+05  2.848070e+05  2.848070e+05  284807.000000   \n",
       "mean   1.426896e-15  1.701640e-15 -3.662252e-16 -1.217809e-16      88.349619   \n",
       "std    5.212781e-01  4.822270e-01  4.036325e-01  3.300833e-01     250.120109   \n",
       "min   -1.029540e+01 -2.604551e+00 -2.256568e+01 -1.543008e+01       0.000000   \n",
       "25%   -3.171451e-01 -3.269839e-01 -7.083953e-02 -5.295979e-02       5.600000   \n",
       "50%    1.659350e-02 -5.213911e-02  1.342146e-03  1.124383e-02      22.000000   \n",
       "75%    3.507156e-01  2.409522e-01  9.104512e-02  7.827995e-02      77.165000   \n",
       "max    7.519589e+00  3.517346e+00  3.161220e+01  3.384781e+01   25691.160000   \n",
       "\n",
       "               Class  \n",
       "count  284807.000000  \n",
       "mean        0.001727  \n",
       "std         0.041527  \n",
       "min         0.000000  \n",
       "25%         0.000000  \n",
       "50%         0.000000  \n",
       "75%         0.000000  \n",
       "max         1.000000  \n",
       "\n",
       "[8 rows x 31 columns]"
      ]
     },
     "execution_count": 4,
     "metadata": {},
     "output_type": "execute_result"
    }
   ],
   "source": [
    "data.describe()"
   ]
  },
  {
   "cell_type": "code",
   "execution_count": 5,
   "metadata": {},
   "outputs": [
    {
     "name": "stdout",
     "output_type": "stream",
     "text": [
      "<class 'pandas.core.frame.DataFrame'>\n",
      "RangeIndex: 284807 entries, 0 to 284806\n",
      "Data columns (total 31 columns):\n",
      " #   Column  Non-Null Count   Dtype  \n",
      "---  ------  --------------   -----  \n",
      " 0   Time    284807 non-null  float64\n",
      " 1   V1      284807 non-null  float64\n",
      " 2   V2      284807 non-null  float64\n",
      " 3   V3      284807 non-null  float64\n",
      " 4   V4      284807 non-null  float64\n",
      " 5   V5      284807 non-null  float64\n",
      " 6   V6      284807 non-null  float64\n",
      " 7   V7      284807 non-null  float64\n",
      " 8   V8      284807 non-null  float64\n",
      " 9   V9      284807 non-null  float64\n",
      " 10  V10     284807 non-null  float64\n",
      " 11  V11     284807 non-null  float64\n",
      " 12  V12     284807 non-null  float64\n",
      " 13  V13     284807 non-null  float64\n",
      " 14  V14     284807 non-null  float64\n",
      " 15  V15     284807 non-null  float64\n",
      " 16  V16     284807 non-null  float64\n",
      " 17  V17     284807 non-null  float64\n",
      " 18  V18     284807 non-null  float64\n",
      " 19  V19     284807 non-null  float64\n",
      " 20  V20     284807 non-null  float64\n",
      " 21  V21     284807 non-null  float64\n",
      " 22  V22     284807 non-null  float64\n",
      " 23  V23     284807 non-null  float64\n",
      " 24  V24     284807 non-null  float64\n",
      " 25  V25     284807 non-null  float64\n",
      " 26  V26     284807 non-null  float64\n",
      " 27  V27     284807 non-null  float64\n",
      " 28  V28     284807 non-null  float64\n",
      " 29  Amount  284807 non-null  float64\n",
      " 30  Class   284807 non-null  int64  \n",
      "dtypes: float64(30), int64(1)\n",
      "memory usage: 67.4 MB\n"
     ]
    }
   ],
   "source": [
    "data.info()"
   ]
  },
  {
   "cell_type": "markdown",
   "metadata": {},
   "source": [
    "### 2.Check Missing Values ( If Exist ; Fill each record with mean of its feature )"
   ]
  },
  {
   "cell_type": "code",
   "execution_count": 6,
   "metadata": {},
   "outputs": [
    {
     "data": {
      "text/plain": [
       "Time      0\n",
       "V1        0\n",
       "V2        0\n",
       "V3        0\n",
       "V4        0\n",
       "V5        0\n",
       "V6        0\n",
       "V7        0\n",
       "V8        0\n",
       "V9        0\n",
       "V10       0\n",
       "V11       0\n",
       "V12       0\n",
       "V13       0\n",
       "V14       0\n",
       "V15       0\n",
       "V16       0\n",
       "V17       0\n",
       "V18       0\n",
       "V19       0\n",
       "V20       0\n",
       "V21       0\n",
       "V22       0\n",
       "V23       0\n",
       "V24       0\n",
       "V25       0\n",
       "V26       0\n",
       "V27       0\n",
       "V28       0\n",
       "Amount    0\n",
       "Class     0\n",
       "dtype: int64"
      ]
     },
     "execution_count": 6,
     "metadata": {},
     "output_type": "execute_result"
    }
   ],
   "source": [
    "data.isna().sum()"
   ]
  },
  {
   "cell_type": "code",
   "execution_count": 9,
   "metadata": {},
   "outputs": [
    {
     "data": {
      "text/plain": [
       "array([0, 1], dtype=int64)"
      ]
     },
     "execution_count": 9,
     "metadata": {},
     "output_type": "execute_result"
    }
   ],
   "source": [
    "data.Class.unique()"
   ]
  },
  {
   "cell_type": "code",
   "execution_count": 11,
   "metadata": {},
   "outputs": [
    {
     "name": "stdout",
     "output_type": "stream",
     "text": [
      "Not Fraud    284315\n",
      "Fraud           492\n",
      "Name: Class, dtype: int64\n"
     ]
    }
   ],
   "source": [
    "class_names = {0:'Not Fraud', 1:'Fraud'}\n",
    "print(data.Class.value_counts().rename(index = class_names))"
   ]
  },
  {
   "cell_type": "markdown",
   "metadata": {},
   "source": [
    "### 3.Standardized the Input Variables."
   ]
  },
  {
   "cell_type": "markdown",
   "metadata": {},
   "source": [
    "### 4.Split into 50% Training(Samples,Labels) , 30% Test(Samples,Labels) and 20% Validation Data(Samples,Labels)."
   ]
  },
  {
   "cell_type": "code",
   "execution_count": 14,
   "metadata": {},
   "outputs": [
    {
     "name": "stdout",
     "output_type": "stream",
     "text": [
      "Index(['V1', 'V2', 'V3', 'V4', 'V5', 'V6', 'V7', 'V8', 'V9', 'V10', 'V11',\n",
      "       'V12', 'V13', 'V14', 'V15', 'V16', 'V17', 'V18', 'V19', 'V20', 'V21',\n",
      "       'V22', 'V23', 'V24', 'V25', 'V26', 'V27', 'V28', 'Amount'],\n",
      "      dtype='object')\n",
      "Index(['Class'], dtype='object')\n"
     ]
    }
   ],
   "source": [
    "#from sklearn.cross_validation import train_test_split\n",
    "from sklearn.model_selection import train_test_split\n",
    "feature_names = data.iloc[:, 1:30].columns\n",
    "target = data.iloc[:1, 30: ].columns\n",
    "print(feature_names)\n",
    "print(target)"
   ]
  },
  {
   "cell_type": "code",
   "execution_count": 16,
   "metadata": {},
   "outputs": [
    {
     "name": "stdout",
     "output_type": "stream",
     "text": [
      "Length of X_train is: 199364\n",
      "Length of X_test is: 85443\n",
      "Length of y_train is: 199364\n",
      "Length of y_test is: 85443\n"
     ]
    }
   ],
   "source": [
    "data_features = data[feature_names]\n",
    "data_target = data[target]\n",
    "\n",
    "xtrain, xtest, ytrain, ytest = train_test_split(data_features, data_target, train_size=0.70, test_size=0.30, random_state=1)\n",
    "print(\"Length of X_train is: {X_train}\".format(X_train = len(xtrain)))\n",
    "print(\"Length of X_test is: {X_test}\".format(X_test = len(xtest)))\n",
    "print(\"Length of y_train is: {y_train}\".format(y_train = len(ytrain)))\n",
    "print(\"Length of y_test is: {y_test}\".format(y_test = len(ytest)))"
   ]
  },
  {
   "cell_type": "code",
   "execution_count": 17,
   "metadata": {},
   "outputs": [],
   "source": [
    "#Normalize\n",
    "mean = xtrain.mean(axis=0)\n",
    "xtrain -= mean\n",
    "std = xtrain.std(axis=0)\n",
    "xtrain /= std\n",
    "xtest -= mean\n",
    "xtest /= std"
   ]
  },
  {
   "cell_type": "markdown",
   "metadata": {},
   "source": [
    "### 5.Model : input Layer (No. of features ), 3 hidden layers including 10,8,6 unit & Output Layer with activation function relu/tanh (check by experiment)."
   ]
  },
  {
   "cell_type": "markdown",
   "metadata": {},
   "source": [
    "### 6.Compilation Step (Note : Its a Binary problem , select loss , metrics according to it)"
   ]
  },
  {
   "cell_type": "code",
   "execution_count": 21,
   "metadata": {},
   "outputs": [],
   "source": [
    "from tensorflow.keras import models\n",
    "from tensorflow.keras import layers\n",
    "import tensorflow as tf\n",
    "network = models.Sequential()\n",
    "network.add(layers.Dense(10,activation=\"relu\",input_shape=(len(xtrain.columns),) ))\n",
    "network.add(layers.Dense(8,activation=\"relu\"))\n",
    "network.add(layers.Dense(6,activation=\"relu\"))\n",
    "network.add(layers.Dense(1,activation=\"sigmoid\"))\n",
    "network.compile(optimizer='rmsprop',loss='binary_crossentropy',metrics=['accuracy'])"
   ]
  },
  {
   "cell_type": "markdown",
   "metadata": {},
   "source": [
    "### 7.Train the Model with Epochs (100)."
   ]
  },
  {
   "cell_type": "code",
   "execution_count": 22,
   "metadata": {},
   "outputs": [
    {
     "name": "stdout",
     "output_type": "stream",
     "text": [
      "Epoch 1/100\n",
      "779/779 [==============================] - 7s 5ms/step - loss: 0.1572 - acc: 0.9811\n",
      "Epoch 2/100\n",
      "779/779 [==============================] - 2s 3ms/step - loss: 0.0050 - acc: 0.9986\n",
      "Epoch 3/100\n",
      "779/779 [==============================] - 2s 3ms/step - loss: 0.0052 - acc: 0.9992\n",
      "Epoch 4/100\n",
      "779/779 [==============================] - 2s 3ms/step - loss: 0.0039 - acc: 0.9993\n",
      "Epoch 5/100\n",
      "779/779 [==============================] - 2s 2ms/step - loss: 0.0034 - acc: 0.9995\n",
      "Epoch 6/100\n",
      "779/779 [==============================] - 2s 2ms/step - loss: 0.0042 - acc: 0.9993\n",
      "Epoch 7/100\n",
      "779/779 [==============================] - 1s 1ms/step - loss: 0.0039 - acc: 0.9993\n",
      "Epoch 8/100\n",
      "779/779 [==============================] - 1s 2ms/step - loss: 0.0037 - acc: 0.9994\n",
      "Epoch 9/100\n",
      "779/779 [==============================] - 1s 1ms/step - loss: 0.0031 - acc: 0.9994\n",
      "Epoch 10/100\n",
      "779/779 [==============================] - 1s 1ms/step - loss: 0.0040 - acc: 0.9994\n",
      "Epoch 11/100\n",
      "779/779 [==============================] - 1s 1ms/step - loss: 0.0037 - acc: 0.9994\n",
      "Epoch 12/100\n",
      "779/779 [==============================] - 1s 1ms/step - loss: 0.0032 - acc: 0.9994\n",
      "Epoch 13/100\n",
      "779/779 [==============================] - 1s 1ms/step - loss: 0.0033 - acc: 0.9994\n",
      "Epoch 14/100\n",
      "779/779 [==============================] - 1s 2ms/step - loss: 0.0035 - acc: 0.9994\n",
      "Epoch 15/100\n",
      "779/779 [==============================] - 4s 5ms/step - loss: 0.0032 - acc: 0.9994\n",
      "Epoch 16/100\n",
      "779/779 [==============================] - 3s 4ms/step - loss: 0.0031 - acc: 0.9995\n",
      "Epoch 17/100\n",
      "779/779 [==============================] - 2s 2ms/step - loss: 0.0033 - acc: 0.9994\n",
      "Epoch 18/100\n",
      "779/779 [==============================] - 1s 2ms/step - loss: 0.0032 - acc: 0.9994\n",
      "Epoch 19/100\n",
      "779/779 [==============================] - 1s 2ms/step - loss: 0.0038 - acc: 0.9993\n",
      "Epoch 20/100\n",
      "779/779 [==============================] - 1s 2ms/step - loss: 0.0030 - acc: 0.9995\n",
      "Epoch 21/100\n",
      "779/779 [==============================] - 1s 2ms/step - loss: 0.0035 - acc: 0.9994\n",
      "Epoch 22/100\n",
      "779/779 [==============================] - 1s 2ms/step - loss: 0.0033 - acc: 0.9994\n",
      "Epoch 23/100\n",
      "779/779 [==============================] - 1s 2ms/step - loss: 0.0031 - acc: 0.9994\n",
      "Epoch 24/100\n",
      "779/779 [==============================] - 1s 2ms/step - loss: 0.0031 - acc: 0.9994\n",
      "Epoch 25/100\n",
      "779/779 [==============================] - 1s 2ms/step - loss: 0.0035 - acc: 0.9994\n",
      "Epoch 26/100\n",
      "779/779 [==============================] - 1s 2ms/step - loss: 0.0033 - acc: 0.9994\n",
      "Epoch 27/100\n",
      "779/779 [==============================] - 1s 2ms/step - loss: 0.0029 - acc: 0.9995\n",
      "Epoch 28/100\n",
      "779/779 [==============================] - 1s 2ms/step - loss: 0.0031 - acc: 0.9994\n",
      "Epoch 29/100\n",
      "779/779 [==============================] - 1s 2ms/step - loss: 0.0027 - acc: 0.9995\n",
      "Epoch 30/100\n",
      "779/779 [==============================] - 1s 2ms/step - loss: 0.0031 - acc: 0.9993\n",
      "Epoch 31/100\n",
      "779/779 [==============================] - 1s 2ms/step - loss: 0.0029 - acc: 0.9994\n",
      "Epoch 32/100\n",
      "779/779 [==============================] - 1s 2ms/step - loss: 0.0033 - acc: 0.9994\n",
      "Epoch 33/100\n",
      "779/779 [==============================] - 1s 2ms/step - loss: 0.0028 - acc: 0.9994A: 1s - lo\n",
      "Epoch 34/100\n",
      "779/779 [==============================] - ETA: 0s - loss: 0.0030 - acc: 0.999 - 1s 2ms/step - loss: 0.0030 - acc: 0.9994\n",
      "Epoch 35/100\n",
      "779/779 [==============================] - 1s 2ms/step - loss: 0.0026 - acc: 0.9995\n",
      "Epoch 36/100\n",
      "779/779 [==============================] - 1s 2ms/step - loss: 0.0030 - acc: 0.9994\n",
      "Epoch 37/100\n",
      "779/779 [==============================] - 1s 2ms/step - loss: 0.0028 - acc: 0.9994\n",
      "Epoch 38/100\n",
      "779/779 [==============================] - 1s 2ms/step - loss: 0.0031 - acc: 0.9994\n",
      "Epoch 39/100\n",
      "779/779 [==============================] - 1s 1ms/step - loss: 0.0027 - acc: 0.9994\n",
      "Epoch 40/100\n",
      "779/779 [==============================] - 1s 2ms/step - loss: 0.0030 - acc: 0.9994\n",
      "Epoch 41/100\n",
      "779/779 [==============================] - 1s 1ms/step - loss: 0.0029 - acc: 0.9994\n",
      "Epoch 42/100\n",
      "779/779 [==============================] - 1s 1ms/step - loss: 0.0027 - acc: 0.9995\n",
      "Epoch 43/100\n",
      "779/779 [==============================] - 1s 2ms/step - loss: 0.0028 - acc: 0.9994\n",
      "Epoch 44/100\n",
      "779/779 [==============================] - 1s 1ms/step - loss: 0.0031 - acc: 0.9994\n",
      "Epoch 45/100\n",
      "779/779 [==============================] - 4s 5ms/step - loss: 0.0027 - acc: 0.9995\n",
      "Epoch 46/100\n",
      "779/779 [==============================] - 2s 3ms/step - loss: 0.0030 - acc: 0.9995\n",
      "Epoch 47/100\n",
      "779/779 [==============================] - 1s 2ms/step - loss: 0.0030 - acc: 0.9994\n",
      "Epoch 48/100\n",
      "779/779 [==============================] - 1s 2ms/step - loss: 0.0026 - acc: 0.9995\n",
      "Epoch 49/100\n",
      "779/779 [==============================] - 1s 2ms/step - loss: 0.0028 - acc: 0.9995\n",
      "Epoch 50/100\n",
      "779/779 [==============================] - 1s 2ms/step - loss: 0.0028 - acc: 0.9994\n",
      "Epoch 51/100\n",
      "779/779 [==============================] - 1s 2ms/step - loss: 0.0025 - acc: 0.9995\n",
      "Epoch 52/100\n",
      "779/779 [==============================] - 1s 2ms/step - loss: 0.0029 - acc: 0.9995\n",
      "Epoch 53/100\n",
      "779/779 [==============================] - 1s 2ms/step - loss: 0.0025 - acc: 0.9995\n",
      "Epoch 54/100\n",
      "779/779 [==============================] - 1s 2ms/step - loss: 0.0032 - acc: 0.9994\n",
      "Epoch 55/100\n",
      "779/779 [==============================] - 1s 2ms/step - loss: 0.0026 - acc: 0.9994\n",
      "Epoch 56/100\n",
      "779/779 [==============================] - 1s 2ms/step - loss: 0.0032 - acc: 0.9994\n",
      "Epoch 57/100\n",
      "779/779 [==============================] - 1s 2ms/step - loss: 0.0028 - acc: 0.9995\n",
      "Epoch 58/100\n",
      "779/779 [==============================] - 1s 2ms/step - loss: 0.0026 - acc: 0.9996\n",
      "Epoch 59/100\n",
      "779/779 [==============================] - 1s 2ms/step - loss: 0.0026 - acc: 0.9995\n",
      "Epoch 60/100\n",
      "779/779 [==============================] - 1s 2ms/step - loss: 0.0026 - acc: 0.9995\n",
      "Epoch 61/100\n",
      "779/779 [==============================] - 3s 4ms/step - loss: 0.0029 - acc: 0.9995\n",
      "Epoch 62/100\n",
      "779/779 [==============================] - 3s 3ms/step - loss: 0.0027 - acc: 0.9995\n",
      "Epoch 63/100\n",
      "779/779 [==============================] - 2s 3ms/step - loss: 0.0024 - acc: 0.9995\n",
      "Epoch 64/100\n",
      "779/779 [==============================] - 2s 2ms/step - loss: 0.0028 - acc: 0.9995\n",
      "Epoch 65/100\n",
      "779/779 [==============================] - 1s 2ms/step - loss: 0.0033 - acc: 0.9994\n",
      "Epoch 66/100\n",
      "779/779 [==============================] - 1s 2ms/step - loss: 0.0027 - acc: 0.9994\n",
      "Epoch 67/100\n",
      "779/779 [==============================] - 1s 2ms/step - loss: 0.0027 - acc: 0.9995\n",
      "Epoch 68/100\n",
      "779/779 [==============================] - 1s 2ms/step - loss: 0.0026 - acc: 0.9995\n",
      "Epoch 69/100\n",
      "779/779 [==============================] - 1s 2ms/step - loss: 0.0023 - acc: 0.9995\n",
      "Epoch 70/100\n",
      "779/779 [==============================] - 1s 2ms/step - loss: 0.0024 - acc: 0.9995\n",
      "Epoch 71/100\n",
      "779/779 [==============================] - 1s 2ms/step - loss: 0.0025 - acc: 0.9995- ETA: 1s - loss: \n",
      "Epoch 72/100\n",
      "779/779 [==============================] - 1s 2ms/step - loss: 0.0026 - acc: 0.9994\n",
      "Epoch 73/100\n",
      "779/779 [==============================] - 1s 2ms/step - loss: 0.0032 - acc: 0.9995\n",
      "Epoch 74/100\n",
      "779/779 [==============================] - 1s 2ms/step - loss: 0.0023 - acc: 0.9996\n",
      "Epoch 75/100\n",
      "779/779 [==============================] - 3s 4ms/step - loss: 0.0028 - acc: 0.9995\n",
      "Epoch 76/100\n",
      "779/779 [==============================] - 3s 3ms/step - loss: 0.0023 - acc: 0.9995\n",
      "Epoch 77/100\n",
      "779/779 [==============================] - 2s 2ms/step - loss: 0.0022 - acc: 0.9996\n",
      "Epoch 78/100\n",
      "779/779 [==============================] - 2s 3ms/step - loss: 0.0025 - acc: 0.9995\n",
      "Epoch 79/100\n",
      "779/779 [==============================] - 2s 2ms/step - loss: 0.0028 - acc: 0.9995\n",
      "Epoch 80/100\n",
      "779/779 [==============================] - 1s 2ms/step - loss: 0.0028 - acc: 0.9995\n",
      "Epoch 81/100\n",
      "779/779 [==============================] - 1s 2ms/step - loss: 0.0035 - acc: 0.9994\n",
      "Epoch 82/100\n",
      "779/779 [==============================] - 1s 2ms/step - loss: 0.0029 - acc: 0.9994\n",
      "Epoch 83/100\n",
      "779/779 [==============================] - 1s 2ms/step - loss: 0.0025 - acc: 0.9995\n",
      "Epoch 84/100\n"
     ]
    },
    {
     "name": "stdout",
     "output_type": "stream",
     "text": [
      "779/779 [==============================] - 2s 2ms/step - loss: 0.0026 - acc: 0.9995\n",
      "Epoch 85/100\n",
      "779/779 [==============================] - 2s 2ms/step - loss: 0.0025 - acc: 0.9995\n",
      "Epoch 86/100\n",
      "779/779 [==============================] - 1s 2ms/step - loss: 0.0029 - acc: 0.9995\n",
      "Epoch 87/100\n",
      "779/779 [==============================] - 1s 2ms/step - loss: 0.0029 - acc: 0.9995\n",
      "Epoch 88/100\n",
      "779/779 [==============================] - 1s 1ms/step - loss: 0.0021 - acc: 0.9996\n",
      "Epoch 89/100\n",
      "779/779 [==============================] - 1s 1ms/step - loss: 0.0028 - acc: 0.9995\n",
      "Epoch 90/100\n",
      "779/779 [==============================] - 1s 1ms/step - loss: 0.0025 - acc: 0.9995\n",
      "Epoch 91/100\n",
      "779/779 [==============================] - 3s 4ms/step - loss: 0.0029 - acc: 0.9995\n",
      "Epoch 92/100\n",
      "779/779 [==============================] - 3s 4ms/step - loss: 0.0030 - acc: 0.9994\n",
      "Epoch 93/100\n",
      "779/779 [==============================] - 2s 3ms/step - loss: 0.0029 - acc: 0.9995\n",
      "Epoch 94/100\n",
      "779/779 [==============================] - 2s 2ms/step - loss: 0.0029 - acc: 0.9994\n",
      "Epoch 95/100\n",
      "779/779 [==============================] - 2s 2ms/step - loss: 0.0032 - acc: 0.9994\n",
      "Epoch 96/100\n",
      "779/779 [==============================] - 1s 2ms/step - loss: 0.0024 - acc: 0.9995\n",
      "Epoch 97/100\n",
      "779/779 [==============================] - 1s 2ms/step - loss: 0.0026 - acc: 0.9995\n",
      "Epoch 98/100\n",
      "779/779 [==============================] - 1s 2ms/step - loss: 0.0030 - acc: 0.9995\n",
      "Epoch 99/100\n",
      "779/779 [==============================] - 1s 1ms/step - loss: 0.0027 - acc: 0.9995\n",
      "Epoch 100/100\n",
      "779/779 [==============================] - 1s 1ms/step - loss: 0.0027 - acc: 0.9995\n",
      "Wall time: 2min 38s\n"
     ]
    }
   ],
   "source": [
    "with tf.device('/device:GPU:1'):\n",
    "  %time MODEL = network.fit(xtrain,ytrain,epochs=100,batch_size=256)"
   ]
  },
  {
   "cell_type": "markdown",
   "metadata": {},
   "source": [
    "### 8.If the model gets overfit tune your model by changing the units , No. of layers , epochs , add dropout layer or add Regularizer according to the need ."
   ]
  },
  {
   "cell_type": "code",
   "execution_count": 23,
   "metadata": {},
   "outputs": [],
   "source": [
    "from keras import optimizers\n",
    "network.compile(optimizer=optimizers.RMSprop(lr=0.001),\n",
    "loss='binary_crossentropy',\n",
    "metrics=['accuracy'])"
   ]
  },
  {
   "cell_type": "code",
   "execution_count": 24,
   "metadata": {},
   "outputs": [],
   "source": [
    "from keras import losses\n",
    "from keras import metrics\n",
    "network.compile(optimizer=optimizers.RMSprop(lr=0.001),\n",
    "loss=losses.binary_crossentropy,\n",
    "metrics=[metrics.binary_accuracy])"
   ]
  },
  {
   "cell_type": "code",
   "execution_count": 25,
   "metadata": {},
   "outputs": [],
   "source": [
    "x_val = xtrain[:10000]\n",
    "partial_x_train = xtrain[10000:]"
   ]
  },
  {
   "cell_type": "code",
   "execution_count": 26,
   "metadata": {},
   "outputs": [],
   "source": [
    "y_val = ytrain[:10000]\n",
    "partial_y_train = ytrain[10000:]"
   ]
  },
  {
   "cell_type": "code",
   "execution_count": 28,
   "metadata": {},
   "outputs": [
    {
     "name": "stdout",
     "output_type": "stream",
     "text": [
      "Epoch 1/20\n",
      "370/370 [==============================] - 6s 9ms/step - loss: 0.0028 - acc: 0.9995 - val_loss: 0.0016 - val_acc: 0.9995\n",
      "Epoch 2/20\n",
      "370/370 [==============================] - 3s 7ms/step - loss: 0.0024 - acc: 0.9996 - val_loss: 0.0014 - val_acc: 0.9995\n",
      "Epoch 3/20\n",
      "370/370 [==============================] - 1s 4ms/step - loss: 0.0031 - acc: 0.9994 - val_loss: 0.0017 - val_acc: 0.9995\n",
      "Epoch 4/20\n",
      "370/370 [==============================] - 1s 4ms/step - loss: 0.0025 - acc: 0.9995 - val_loss: 0.0013 - val_acc: 0.9996\n",
      "Epoch 5/20\n",
      "370/370 [==============================] - 1s 3ms/step - loss: 0.0026 - acc: 0.9995 - val_loss: 0.0015 - val_acc: 0.9995\n",
      "Epoch 6/20\n",
      "370/370 [==============================] - 1s 3ms/step - loss: 0.0025 - acc: 0.9995 - val_loss: 0.0016 - val_acc: 0.9996\n",
      "Epoch 7/20\n",
      "370/370 [==============================] - 2s 5ms/step - loss: 0.0026 - acc: 0.9995 - val_loss: 0.0035 - val_acc: 0.9995\n",
      "Epoch 8/20\n",
      "370/370 [==============================] - 2s 5ms/step - loss: 0.0028 - acc: 0.9995 - val_loss: 0.0015 - val_acc: 0.9995\n",
      "Epoch 9/20\n",
      "370/370 [==============================] - 1s 4ms/step - loss: 0.0026 - acc: 0.9995 - val_loss: 0.0015 - val_acc: 0.9995\n",
      "Epoch 10/20\n",
      "370/370 [==============================] - 1s 4ms/step - loss: 0.0031 - acc: 0.9994 - val_loss: 0.0016 - val_acc: 0.9995\n",
      "Epoch 11/20\n",
      "370/370 [==============================] - 1s 3ms/step - loss: 0.0027 - acc: 0.9995 - val_loss: 0.0015 - val_acc: 0.9995\n",
      "Epoch 12/20\n",
      "370/370 [==============================] - 2s 6ms/step - loss: 0.0022 - acc: 0.9996 - val_loss: 0.0015 - val_acc: 0.9995\n",
      "Epoch 13/20\n",
      "370/370 [==============================] - 2s 5ms/step - loss: 0.0032 - acc: 0.9994 - val_loss: 0.0016 - val_acc: 0.9994\n",
      "Epoch 14/20\n",
      "370/370 [==============================] - 2s 4ms/step - loss: 0.0023 - acc: 0.9996 - val_loss: 0.0016 - val_acc: 0.9995\n",
      "Epoch 15/20\n",
      "370/370 [==============================] - 2s 5ms/step - loss: 0.0023 - acc: 0.9995 - val_loss: 0.0016 - val_acc: 0.9995\n",
      "Epoch 16/20\n",
      "370/370 [==============================] - 2s 5ms/step - loss: 0.0023 - acc: 0.9995 - val_loss: 0.0017 - val_acc: 0.9995\n",
      "Epoch 17/20\n",
      "370/370 [==============================] - 2s 5ms/step - loss: 0.0028 - acc: 0.9995 - val_loss: 0.0018 - val_acc: 0.9995\n",
      "Epoch 18/20\n",
      "370/370 [==============================] - 2s 4ms/step - loss: 0.0027 - acc: 0.9995 - val_loss: 0.0015 - val_acc: 0.9995\n",
      "Epoch 19/20\n",
      "370/370 [==============================] - 1s 3ms/step - loss: 0.0021 - acc: 0.9996 - val_loss: 0.0017 - val_acc: 0.9995\n",
      "Epoch 20/20\n",
      "370/370 [==============================] - 1s 2ms/step - loss: 0.0026 - acc: 0.9995 - val_loss: 0.0016 - val_acc: 0.9995\n"
     ]
    }
   ],
   "source": [
    "network.compile(optimizer='rmsprop',\n",
    "loss='binary_crossentropy',\n",
    "metrics=['acc'])\n",
    "history = network.fit(partial_x_train,partial_y_train,epochs=20,batch_size=512,validation_data=(x_val, y_val))"
   ]
  },
  {
   "cell_type": "code",
   "execution_count": 33,
   "metadata": {},
   "outputs": [
    {
     "data": {
      "text/plain": [
       "dict_keys(['loss', 'acc', 'val_loss', 'val_acc'])"
      ]
     },
     "execution_count": 33,
     "metadata": {},
     "output_type": "execute_result"
    }
   ],
   "source": [
    "history_dict = history.history\n",
    "history_dict.keys()"
   ]
  },
  {
   "cell_type": "code",
   "execution_count": 31,
   "metadata": {},
   "outputs": [
    {
     "data": {
      "image/png": "[encoded data removed]",
      "text/plain": [
       "<Figure size 432x288 with 1 Axes>"
      ]
     },
     "metadata": {
      "needs_background": "light"
     },
     "output_type": "display_data"
    }
   ],
   "source": [
    "import matplotlib.pyplot as plt\n",
    "history_dict = history.history\n",
    "loss_values = history_dict['loss']\n",
    "val_loss_values = history_dict['val_loss']\n",
    "acc = history.history['acc']\n",
    "epochs = range(1, len(acc) + 1)\n",
    "plt.plot(epochs, loss_values, 'bo', label='Training loss')\n",
    "plt.plot(epochs, val_loss_values, 'b', label='Validation loss')\n",
    "plt.title('Training and validation loss')\n",
    "plt.xlabel('Epochs')\n",
    "plt.ylabel('Loss')\n",
    "plt.legend()\n",
    "plt.show()"
   ]
  },
  {
   "cell_type": "code",
   "execution_count": 34,
   "metadata": {},
   "outputs": [
    {
     "data": {
      "image/png": "[encoded data removed]",
      "text/plain": [
       "<Figure size 432x288 with 1 Axes>"
      ]
     },
     "metadata": {
      "needs_background": "light"
     },
     "output_type": "display_data"
    }
   ],
   "source": [
    "plt.clf()\n",
    "acc_values = history_dict['acc']\n",
    "val_acc_values = history_dict['val_acc']\n",
    "plt.plot(epochs, acc_values, 'bo', label='Training acc')\n",
    "plt.plot(epochs, val_acc_values, 'b', label='Validation acc')\n",
    "plt.title('Training and validation accuracy')\n",
    "plt.xlabel('Epochs')\n",
    "plt.ylabel('Loss')\n",
    "plt.legend()\n",
    "plt.show()"
   ]
  },
  {
   "cell_type": "markdown",
   "metadata": {},
   "source": [
    "### 9.Prediction should be > 92% "
   ]
  },
  {
   "cell_type": "markdown",
   "metadata": {},
   "source": [
    "### 10.Evaluation Step 11Prediction"
   ]
  },
  {
   "cell_type": "code",
   "execution_count": 35,
   "metadata": {},
   "outputs": [
    {
     "name": "stdout",
     "output_type": "stream",
     "text": [
      "2671/2671 [==============================] - 9s 3ms/step - loss: 0.0039 - acc: 0.9993\n"
     ]
    }
   ],
   "source": [
    "test_loss , test_acc = network.evaluate(xtest,ytest)"
   ]
  },
  {
   "cell_type": "code",
   "execution_count": 36,
   "metadata": {},
   "outputs": [
    {
     "name": "stdout",
     "output_type": "stream",
     "text": [
      "85443 out of 85443 \n"
     ]
    }
   ],
   "source": [
    "prediction_test_data = xtest\n",
    "predictions = network.predict(prediction_test_data)\n",
    "hit = np.argmax(predictions) == np.array(ytest)\n",
    "print(f\"{len(hit)} out of {len(predictions)} \")"
   ]
  },
  {
   "cell_type": "code",
   "execution_count": null,
   "metadata": {},
   "outputs": [],
   "source": []
  }
 ],
 "metadata": {
  "kernelspec": {
   "display_name": "Python 3",
   "language": "python",
   "name": "python3"
  },
  "language_info": {
   "codemirror_mode": {
    "name": "ipython",
    "version": 3
   },
   "file_extension": ".py",
   "mimetype": "text/x-python",
   "name": "python",
   "nbconvert_exporter": "python",
   "pygments_lexer": "ipython3",
   "version": "3.7.6"
  }
 },
 "nbformat": 4,
 "nbformat_minor": 2
}
