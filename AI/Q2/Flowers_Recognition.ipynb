{
 "cells": [
  {
   "cell_type": "markdown",
   "metadata": {
    "id": "BXgJ6uT1NydQ"
   },
   "source": [
    "Assignment: Flowers Recognition <br>\n",
    "Dataset Description:<br>\n",
    "\n",
    "This dataset contains 4242 images of flowers.<br>\n",
    "The data collection is based on the data flicr, google images, yandex images.<br>\n",
    "You can use this datastet to recognize plants from the photo.<br>\n",
    "\n",
    "Attribute Information:<br>\n",
    "The pictures are divided into five classes: chamomile, tulip, rose, sunflower, dandelion.<br>\n",
    "For each class there are about 800 photos. Photos are not high resolution, about 320x240 pixels. <br>\n",
    "<b>Also explore how to resize images in tensorflow and then resize all the images to a same size. </b> <br>\n",
    "This is a Multiclass Classification Problem.<br>\n",
    "\n",
    "\n"
   ]
  },
  {
   "cell_type": "markdown",
   "metadata": {
    "id": "T7vy-ktuOKJH"
   },
   "source": [
    "WORKFLOW : <br>\n",
    "Load Data <br>\n",
    "Split into 60 and 40 ratio.<br>\n",
    "Encode labels.<br>\n",
    "Create Model<br>\n",
    "Compilation Step (Note : Its a Multiclass Classification problem , select loss , metrics according to it)<br>\n",
    "Train the Model.<br>\n",
    "If the model gets overfit tune your model by changing the units , No. of layers , epochs , add dropout layer or add Regularizer according to the need .<br>\n",
    "Prediction should be > 85%<br>\n",
    "Evaluation Step<br>\n",
    "Prediction<br>\n",
    "\n",
    "\n"
   ]
  },
  {
   "cell_type": "markdown",
   "metadata": {
    "id": "ri3Bg5qfPRic"
   },
   "source": [
    "Data : <br>\n",
    "https://drive.google.com/file/d/1-OX6wn5gA-bJpjPNfSyaYQLz-A-AB_uj/view?usp=sharing"
   ]
  },
  {
   "cell_type": "code",
   "execution_count": 1,
   "metadata": {
    "id": "hTtg3WuGTA1o"
   },
   "outputs": [],
   "source": [
    "import numpy as np\n",
    "import pandas as pd \n",
    "import tensorflow as tf\n",
    "from tensorflow import keras\n",
    "from tensorflow.keras import layers\n",
    "import os\n",
    "from pathlib import Path"
   ]
  },
  {
   "cell_type": "code",
   "execution_count": 2,
   "metadata": {},
   "outputs": [
    {
     "name": "stdout",
     "output_type": "stream",
     "text": [
      "daisy\n",
      "dandelion\n",
      "rose\n",
      "sunflower\n",
      "tulip\n"
     ]
    }
   ],
   "source": [
    "from keras.preprocessing import image\n",
    "p = Path('flowers')\n",
    "dirs = p.glob('*')\n",
    "image_data = []\n",
    "labels = []\n",
    "label_dict = {'dandelion':0,'daisy':1,'flowers':2,'sunflower':3,'tulip':4,'rose':5}\n",
    "for folder_dir in dirs:\n",
    "    label= str(folder_dir).split('\\\\')[-1]\n",
    "    cnt = 0\n",
    "    print(label)\n",
    "    for image_path in folder_dir.glob('*.jpg'):\n",
    "        img = image.load_img(image_path,target_size = (64,64))\n",
    "        img_array = image.img_to_array(img)\n",
    "        image_data.append(img_array)\n",
    "        #print('img_array',img_array)\n",
    "        labels.append(label_dict[label])"
   ]
  },
  {
   "cell_type": "code",
   "execution_count": 3,
   "metadata": {},
   "outputs": [
    {
     "name": "stdout",
     "output_type": "stream",
     "text": [
      "4323 4323\n"
     ]
    }
   ],
   "source": [
    "print(len(image_data),len(labels))"
   ]
  },
  {
   "cell_type": "code",
   "execution_count": 4,
   "metadata": {},
   "outputs": [],
   "source": [
    "x = np.array(image_data)\n",
    "y = np.array(labels)"
   ]
  },
  {
   "cell_type": "code",
   "execution_count": 5,
   "metadata": {},
   "outputs": [
    {
     "data": {
      "text/plain": [
       "(4323, 64, 64, 3)"
      ]
     },
     "execution_count": 5,
     "metadata": {},
     "output_type": "execute_result"
    }
   ],
   "source": [
    "x.shape"
   ]
  },
  {
   "cell_type": "code",
   "execution_count": 6,
   "metadata": {},
   "outputs": [
    {
     "data": {
      "text/plain": [
       "(4323,)"
      ]
     },
     "execution_count": 6,
     "metadata": {},
     "output_type": "execute_result"
    }
   ],
   "source": [
    "y.shape"
   ]
  },
  {
   "cell_type": "code",
   "execution_count": 7,
   "metadata": {},
   "outputs": [],
   "source": [
    "rgb_weights = [0.2989, 0.5870, 0.1140]\n",
    "#Rec. 601 Color Transform\n",
    "gx=x\n",
    "grayscale_image = np.dot(gx[...,:3], rgb_weights)"
   ]
  },
  {
   "cell_type": "code",
   "execution_count": 8,
   "metadata": {},
   "outputs": [
    {
     "data": {
      "text/plain": [
       "(4323, 64, 64)"
      ]
     },
     "execution_count": 8,
     "metadata": {},
     "output_type": "execute_result"
    }
   ],
   "source": [
    "grayscale_image.shape"
   ]
  },
  {
   "cell_type": "code",
   "execution_count": 9,
   "metadata": {},
   "outputs": [
    {
     "data": {
      "text/plain": [
       "array([[140.7579, 148.9851, 152.2128, ..., 161.8528, 153.7566, 152.9847],\n",
       "       [134.8294, 145.0564, 168.9661, ..., 158.8531, 154.7565, 148.9851],\n",
       "       [124.0755, 139.0462, 151.9848, ..., 155.9844, 156.7563, 142.0567],\n",
       "       ...,\n",
       "       [ 40.7049,  42.7047,  48.8011, ..., 124.8412, 121.8415, 122.3145],\n",
       "       [ 42.7047,  42.7047,  52.6436, ..., 127.069 , 126.0691, 124.0693],\n",
       "       [ 43.7046,  44.7045,  52.0027, ..., 134.0683, 130.0687, 127.069 ]])"
      ]
     },
     "execution_count": 9,
     "metadata": {},
     "output_type": "execute_result"
    }
   ],
   "source": [
    "grayscale_image[0]"
   ]
  },
  {
   "cell_type": "code",
   "execution_count": 10,
   "metadata": {},
   "outputs": [
    {
     "data": {
      "image/png": "[encoded data removed]",
      "text/plain": [
       "<Figure size 432x288 with 1 Axes>"
      ]
     },
     "metadata": {
      "needs_background": "light"
     },
     "output_type": "display_data"
    },
    {
     "data": {
      "image/png": "[encoded data removed]",
      "text/plain": [
       "<Figure size 432x288 with 1 Axes>"
      ]
     },
     "metadata": {
      "needs_background": "light"
     },
     "output_type": "display_data"
    },
    {
     "data": {
      "text/plain": [
       "1"
      ]
     },
     "execution_count": 10,
     "metadata": {},
     "output_type": "execute_result"
    }
   ],
   "source": [
    "import matplotlib.pyplot as plt\n",
    "plt.imshow(x[2]/255.0)\n",
    "plt.show()\n",
    "plt.imshow(grayscale_image[2]/255.0)\n",
    "plt.show()\n",
    "y[2]"
   ]
  },
  {
   "cell_type": "code",
   "execution_count": 11,
   "metadata": {},
   "outputs": [
    {
     "data": {
      "text/plain": [
       "array([0, 1, 3, 4, 5])"
      ]
     },
     "execution_count": 11,
     "metadata": {},
     "output_type": "execute_result"
    }
   ],
   "source": [
    "np.unique(y)"
   ]
  },
  {
   "cell_type": "code",
   "execution_count": 12,
   "metadata": {},
   "outputs": [],
   "source": [
    "All_images = grayscale_image.reshape((len(grayscale_image), 64 * 64))\n",
    "All_images = All_images.astype('float32') / 255.0"
   ]
  },
  {
   "cell_type": "code",
   "execution_count": 13,
   "metadata": {},
   "outputs": [],
   "source": [
    "from keras import models\n",
    "from keras import layers\n",
    "model = models.Sequential()\n",
    "model.add(layers.Dense(64, activation='relu', input_shape=(64 * 64,)))\n",
    "model.add(layers.Flatten())\n",
    "model.add(layers.Dense(64, activation='relu'))\n",
    "model.add(layers.Dense(6, activation='softmax'))\n"
   ]
  },
  {
   "cell_type": "code",
   "execution_count": 14,
   "metadata": {},
   "outputs": [],
   "source": [
    "from sklearn.model_selection import train_test_split\n",
    "xtrain, xtest, ytrain,ytest = train_test_split(All_images,y,test_size=0.20,random_state=55)"
   ]
  },
  {
   "cell_type": "code",
   "execution_count": 15,
   "metadata": {},
   "outputs": [],
   "source": [
    "from keras.utils import to_categorical\n",
    "train_labels = to_categorical(ytrain)\n",
    "test_labels = to_categorical(ytest)"
   ]
  },
  {
   "cell_type": "code",
   "execution_count": 16,
   "metadata": {},
   "outputs": [
    {
     "data": {
      "text/plain": [
       "(3458, 6)"
      ]
     },
     "execution_count": 16,
     "metadata": {},
     "output_type": "execute_result"
    }
   ],
   "source": [
    "train_labels.shape"
   ]
  },
  {
   "cell_type": "code",
   "execution_count": 17,
   "metadata": {},
   "outputs": [
    {
     "data": {
      "text/plain": [
       "array([[1., 0., 0., 0., 0., 0.],\n",
       "       [0., 0., 0., 0., 1., 0.],\n",
       "       [0., 0., 0., 0., 1., 0.],\n",
       "       ...,\n",
       "       [0., 0., 0., 0., 1., 0.],\n",
       "       [0., 0., 0., 0., 0., 1.],\n",
       "       [1., 0., 0., 0., 0., 0.]], dtype=float32)"
      ]
     },
     "execution_count": 17,
     "metadata": {},
     "output_type": "execute_result"
    }
   ],
   "source": [
    "train_labels"
   ]
  },
  {
   "cell_type": "code",
   "execution_count": 18,
   "metadata": {},
   "outputs": [],
   "source": [
    "model.compile(optimizer='rmsprop',\n",
    "loss='categorical_crossentropy',\n",
    "metrics=['accuracy'])"
   ]
  },
  {
   "cell_type": "code",
   "execution_count": 19,
   "metadata": {},
   "outputs": [
    {
     "name": "stdout",
     "output_type": "stream",
     "text": [
      "Epoch 1/100\n",
      "14/14 [==============================] - 3s 39ms/step - loss: 2.2061 - accuracy: 0.2091\n",
      "Epoch 2/100\n",
      "14/14 [==============================] - 0s 35ms/step - loss: 1.6286 - accuracy: 0.2620\n",
      "Epoch 3/100\n",
      "14/14 [==============================] - 0s 31ms/step - loss: 1.6077 - accuracy: 0.2757\n",
      "Epoch 4/100\n",
      "14/14 [==============================] - 0s 30ms/step - loss: 1.5854 - accuracy: 0.2797\n",
      "Epoch 5/100\n",
      "14/14 [==============================] - 0s 28ms/step - loss: 1.6194 - accuracy: 0.2756\n",
      "Epoch 6/100\n",
      "14/14 [==============================] - 0s 22ms/step - loss: 1.5350 - accuracy: 0.3009\n",
      "Epoch 7/100\n",
      "14/14 [==============================] - 0s 26ms/step - loss: 1.5525 - accuracy: 0.3058\n",
      "Epoch 8/100\n",
      "14/14 [==============================] - 0s 22ms/step - loss: 1.6480 - accuracy: 0.2813\n",
      "Epoch 9/100\n",
      "14/14 [==============================] - 0s 29ms/step - loss: 1.5328 - accuracy: 0.3035\n",
      "Epoch 10/100\n",
      "14/14 [==============================] - 0s 24ms/step - loss: 1.5601 - accuracy: 0.3060\n",
      "Epoch 11/100\n",
      "14/14 [==============================] - 0s 21ms/step - loss: 1.5186 - accuracy: 0.3068\n",
      "Epoch 12/100\n",
      "14/14 [==============================] - 0s 23ms/step - loss: 1.5303 - accuracy: 0.3142\n",
      "Epoch 13/100\n",
      "14/14 [==============================] - 0s 24ms/step - loss: 1.5352 - accuracy: 0.3118\n",
      "Epoch 14/100\n",
      "14/14 [==============================] - 0s 16ms/step - loss: 1.4922 - accuracy: 0.3279\n",
      "Epoch 15/100\n",
      "14/14 [==============================] - 0s 17ms/step - loss: 1.5850 - accuracy: 0.2840\n",
      "Epoch 16/100\n",
      "14/14 [==============================] - 0s 14ms/step - loss: 1.4929 - accuracy: 0.3193\n",
      "Epoch 17/100\n",
      "14/14 [==============================] - 0s 13ms/step - loss: 1.4957 - accuracy: 0.3390\n",
      "Epoch 18/100\n",
      "14/14 [==============================] - 0s 14ms/step - loss: 1.4673 - accuracy: 0.3481\n",
      "Epoch 19/100\n",
      "14/14 [==============================] - 0s 12ms/step - loss: 1.4629 - accuracy: 0.3506\n",
      "Epoch 20/100\n",
      "14/14 [==============================] - 0s 12ms/step - loss: 1.4755 - accuracy: 0.3482\n",
      "Epoch 21/100\n",
      "14/14 [==============================] - 0s 14ms/step - loss: 1.4637 - accuracy: 0.3451\n",
      "Epoch 22/100\n",
      "14/14 [==============================] - 0s 14ms/step - loss: 1.4753 - accuracy: 0.3372\n",
      "Epoch 23/100\n",
      "14/14 [==============================] - 0s 11ms/step - loss: 1.4918 - accuracy: 0.3448\n",
      "Epoch 24/100\n",
      "14/14 [==============================] - 0s 15ms/step - loss: 1.4445 - accuracy: 0.3683\n",
      "Epoch 25/100\n",
      "14/14 [==============================] - 0s 12ms/step - loss: 1.4293 - accuracy: 0.3895\n",
      "Epoch 26/100\n",
      "14/14 [==============================] - 0s 13ms/step - loss: 1.4663 - accuracy: 0.3652\n",
      "Epoch 27/100\n",
      "14/14 [==============================] - 0s 14ms/step - loss: 1.4267 - accuracy: 0.3807\n",
      "Epoch 28/100\n",
      "14/14 [==============================] - 0s 13ms/step - loss: 1.4886 - accuracy: 0.3567\n",
      "Epoch 29/100\n",
      "14/14 [==============================] - 0s 14ms/step - loss: 1.4425 - accuracy: 0.3786\n",
      "Epoch 30/100\n",
      "14/14 [==============================] - 0s 15ms/step - loss: 1.4606 - accuracy: 0.3713\n",
      "Epoch 31/100\n",
      "14/14 [==============================] - 0s 16ms/step - loss: 1.3943 - accuracy: 0.4077\n",
      "Epoch 32/100\n",
      "14/14 [==============================] - 0s 12ms/step - loss: 1.4002 - accuracy: 0.4013\n",
      "Epoch 33/100\n",
      "14/14 [==============================] - 0s 14ms/step - loss: 1.3991 - accuracy: 0.4104\n",
      "Epoch 34/100\n",
      "14/14 [==============================] - 0s 12ms/step - loss: 1.3919 - accuracy: 0.4102\n",
      "Epoch 35/100\n",
      "14/14 [==============================] - 0s 14ms/step - loss: 1.3908 - accuracy: 0.4017\n",
      "Epoch 36/100\n",
      "14/14 [==============================] - 0s 13ms/step - loss: 1.4003 - accuracy: 0.4067\n",
      "Epoch 37/100\n",
      "14/14 [==============================] - 0s 14ms/step - loss: 1.3890 - accuracy: 0.3959\n",
      "Epoch 38/100\n",
      "14/14 [==============================] - 0s 12ms/step - loss: 1.3865 - accuracy: 0.4082\n",
      "Epoch 39/100\n",
      "14/14 [==============================] - 0s 17ms/step - loss: 1.3624 - accuracy: 0.4215\n",
      "Epoch 40/100\n",
      "14/14 [==============================] - 0s 15ms/step - loss: 1.3565 - accuracy: 0.4291\n",
      "Epoch 41/100\n",
      "14/14 [==============================] - 0s 13ms/step - loss: 1.3686 - accuracy: 0.4191\n",
      "Epoch 42/100\n",
      "14/14 [==============================] - 0s 13ms/step - loss: 1.3554 - accuracy: 0.4289\n",
      "Epoch 43/100\n",
      "14/14 [==============================] - 0s 13ms/step - loss: 1.3560 - accuracy: 0.4382\n",
      "Epoch 44/100\n",
      "14/14 [==============================] - 0s 11ms/step - loss: 1.3310 - accuracy: 0.4337\n",
      "Epoch 45/100\n",
      "14/14 [==============================] - 0s 14ms/step - loss: 1.3529 - accuracy: 0.4533\n",
      "Epoch 46/100\n",
      "14/14 [==============================] - 0s 15ms/step - loss: 1.3876 - accuracy: 0.4331\n",
      "Epoch 47/100\n",
      "14/14 [==============================] - 0s 14ms/step - loss: 1.3667 - accuracy: 0.4438\n",
      "Epoch 48/100\n",
      "14/14 [==============================] - 0s 14ms/step - loss: 1.3053 - accuracy: 0.4575\n",
      "Epoch 49/100\n",
      "14/14 [==============================] - 0s 14ms/step - loss: 1.3266 - accuracy: 0.4455\n",
      "Epoch 50/100\n",
      "14/14 [==============================] - 0s 12ms/step - loss: 1.2938 - accuracy: 0.4654\n",
      "Epoch 51/100\n",
      "14/14 [==============================] - 0s 14ms/step - loss: 1.3114 - accuracy: 0.4602\n",
      "Epoch 52/100\n",
      "14/14 [==============================] - 0s 15ms/step - loss: 1.2964 - accuracy: 0.4718\n",
      "Epoch 53/100\n",
      "14/14 [==============================] - 0s 12ms/step - loss: 1.3161 - accuracy: 0.4734\n",
      "Epoch 54/100\n",
      "14/14 [==============================] - 0s 17ms/step - loss: 1.3558 - accuracy: 0.4561\n",
      "Epoch 55/100\n",
      "14/14 [==============================] - 0s 17ms/step - loss: 1.3303 - accuracy: 0.4540\n",
      "Epoch 56/100\n",
      "14/14 [==============================] - 0s 13ms/step - loss: 1.2964 - accuracy: 0.4678\n",
      "Epoch 57/100\n",
      "14/14 [==============================] - 0s 16ms/step - loss: 1.2654 - accuracy: 0.4889\n",
      "Epoch 58/100\n",
      "14/14 [==============================] - 0s 13ms/step - loss: 1.3010 - accuracy: 0.4667\n",
      "Epoch 59/100\n",
      "14/14 [==============================] - 0s 14ms/step - loss: 1.2710 - accuracy: 0.4735\n",
      "Epoch 60/100\n",
      "14/14 [==============================] - 0s 19ms/step - loss: 1.2772 - accuracy: 0.4688\n",
      "Epoch 61/100\n",
      "14/14 [==============================] - 0s 14ms/step - loss: 1.2435 - accuracy: 0.4914\n",
      "Epoch 62/100\n",
      "14/14 [==============================] - 0s 12ms/step - loss: 1.2515 - accuracy: 0.4979\n",
      "Epoch 63/100\n",
      "14/14 [==============================] - 0s 15ms/step - loss: 1.2643 - accuracy: 0.4742\n",
      "Epoch 64/100\n",
      "14/14 [==============================] - 0s 12ms/step - loss: 1.2263 - accuracy: 0.5101\n",
      "Epoch 65/100\n",
      "14/14 [==============================] - 0s 12ms/step - loss: 1.2824 - accuracy: 0.4675\n",
      "Epoch 66/100\n",
      "14/14 [==============================] - 0s 13ms/step - loss: 1.2370 - accuracy: 0.4959\n",
      "Epoch 67/100\n",
      "14/14 [==============================] - 0s 16ms/step - loss: 1.3060 - accuracy: 0.4837\n",
      "Epoch 68/100\n",
      "14/14 [==============================] - 0s 15ms/step - loss: 1.2567 - accuracy: 0.4858\n",
      "Epoch 69/100\n",
      "14/14 [==============================] - 0s 13ms/step - loss: 1.2655 - accuracy: 0.4943\n",
      "Epoch 70/100\n",
      "14/14 [==============================] - 0s 13ms/step - loss: 1.1882 - accuracy: 0.5361\n",
      "Epoch 71/100\n",
      "14/14 [==============================] - 0s 13ms/step - loss: 1.2052 - accuracy: 0.5148\n",
      "Epoch 72/100\n",
      "14/14 [==============================] - 0s 15ms/step - loss: 1.1814 - accuracy: 0.5221\n",
      "Epoch 73/100\n",
      "14/14 [==============================] - 0s 13ms/step - loss: 1.2214 - accuracy: 0.5014\n",
      "Epoch 74/100\n",
      "14/14 [==============================] - 0s 13ms/step - loss: 1.2593 - accuracy: 0.4907\n",
      "Epoch 75/100\n",
      "14/14 [==============================] - 0s 14ms/step - loss: 1.1675 - accuracy: 0.5308\n",
      "Epoch 76/100\n",
      "14/14 [==============================] - 0s 13ms/step - loss: 1.1773 - accuracy: 0.5467\n",
      "Epoch 77/100\n",
      "14/14 [==============================] - 0s 13ms/step - loss: 1.1843 - accuracy: 0.5287\n",
      "Epoch 78/100\n",
      "14/14 [==============================] - 0s 13ms/step - loss: 1.1608 - accuracy: 0.5321\n",
      "Epoch 79/100\n",
      "14/14 [==============================] - 0s 13ms/step - loss: 1.1943 - accuracy: 0.5270\n",
      "Epoch 80/100\n",
      "14/14 [==============================] - 0s 12ms/step - loss: 1.2067 - accuracy: 0.5175\n",
      "Epoch 81/100\n",
      "14/14 [==============================] - 0s 15ms/step - loss: 1.1225 - accuracy: 0.5572\n",
      "Epoch 82/100\n"
     ]
    },
    {
     "name": "stdout",
     "output_type": "stream",
     "text": [
      "14/14 [==============================] - 0s 14ms/step - loss: 1.1440 - accuracy: 0.5607\n",
      "Epoch 83/100\n",
      "14/14 [==============================] - 0s 12ms/step - loss: 1.2060 - accuracy: 0.5053\n",
      "Epoch 84/100\n",
      "14/14 [==============================] - 0s 13ms/step - loss: 1.1175 - accuracy: 0.5622\n",
      "Epoch 85/100\n",
      "14/14 [==============================] - 0s 14ms/step - loss: 1.2982 - accuracy: 0.4867\n",
      "Epoch 86/100\n",
      "14/14 [==============================] - 0s 13ms/step - loss: 1.1358 - accuracy: 0.5508\n",
      "Epoch 87/100\n",
      "14/14 [==============================] - 0s 12ms/step - loss: 1.1721 - accuracy: 0.5378\n",
      "Epoch 88/100\n",
      "14/14 [==============================] - 0s 12ms/step - loss: 1.1396 - accuracy: 0.5459\n",
      "Epoch 89/100\n",
      "14/14 [==============================] - 0s 13ms/step - loss: 1.1493 - accuracy: 0.5461\n",
      "Epoch 90/100\n",
      "14/14 [==============================] - 0s 14ms/step - loss: 1.1848 - accuracy: 0.5197\n",
      "Epoch 91/100\n",
      "14/14 [==============================] - 0s 15ms/step - loss: 1.1268 - accuracy: 0.5537\n",
      "Epoch 92/100\n",
      "14/14 [==============================] - 0s 13ms/step - loss: 1.0885 - accuracy: 0.5715\n",
      "Epoch 93/100\n",
      "14/14 [==============================] - 0s 13ms/step - loss: 1.1383 - accuracy: 0.5435\n",
      "Epoch 94/100\n",
      "14/14 [==============================] - 0s 15ms/step - loss: 1.1432 - accuracy: 0.5459\n",
      "Epoch 95/100\n",
      "14/14 [==============================] - 0s 12ms/step - loss: 1.0871 - accuracy: 0.5678\n",
      "Epoch 96/100\n",
      "14/14 [==============================] - 0s 12ms/step - loss: 1.1270 - accuracy: 0.5605\n",
      "Epoch 97/100\n",
      "14/14 [==============================] - 0s 14ms/step - loss: 1.1569 - accuracy: 0.5445\n",
      "Epoch 98/100\n",
      "14/14 [==============================] - 0s 13ms/step - loss: 1.1381 - accuracy: 0.5588\n",
      "Epoch 99/100\n",
      "14/14 [==============================] - 0s 12ms/step - loss: 1.0684 - accuracy: 0.5921\n",
      "Epoch 100/100\n",
      "14/14 [==============================] - 0s 14ms/step - loss: 1.0604 - accuracy: 0.5914\n"
     ]
    },
    {
     "data": {
      "text/plain": [
       "<tensorflow.python.keras.callbacks.History at 0x182b93bab48>"
      ]
     },
     "execution_count": 19,
     "metadata": {},
     "output_type": "execute_result"
    }
   ],
   "source": [
    "model.fit(xtrain, train_labels, epochs=100, batch_size=256)"
   ]
  },
  {
   "cell_type": "code",
   "execution_count": 20,
   "metadata": {},
   "outputs": [],
   "source": [
    "x_val = xtrain[:1000]\n",
    "partial_x_train = xtrain[1000:]\n",
    "y_val = train_labels[:1000]\n",
    "partial_y_train = train_labels[1000:]"
   ]
  },
  {
   "cell_type": "code",
   "execution_count": 21,
   "metadata": {},
   "outputs": [
    {
     "name": "stdout",
     "output_type": "stream",
     "text": [
      "Epoch 1/20\n",
      "5/5 [==============================] - 1s 271ms/step - loss: 1.3106 - accuracy: 0.4951 - val_loss: 1.0118 - val_accuracy: 0.6210\n",
      "Epoch 2/20\n",
      "5/5 [==============================] - 1s 128ms/step - loss: 0.9472 - accuracy: 0.6595 - val_loss: 1.0917 - val_accuracy: 0.5550\n",
      "Epoch 3/20\n",
      "5/5 [==============================] - 0s 103ms/step - loss: 1.0518 - accuracy: 0.6029 - val_loss: 1.0718 - val_accuracy: 0.5730\n",
      "Epoch 4/20\n",
      "5/5 [==============================] - 0s 104ms/step - loss: 1.0137 - accuracy: 0.6208 - val_loss: 1.0851 - val_accuracy: 0.5840\n",
      "Epoch 5/20\n",
      "5/5 [==============================] - 0s 83ms/step - loss: 1.1267 - accuracy: 0.5708 - val_loss: 1.0619 - val_accuracy: 0.5990\n",
      "Epoch 6/20\n",
      "5/5 [==============================] - 0s 86ms/step - loss: 1.0306 - accuracy: 0.6082 - val_loss: 0.9700 - val_accuracy: 0.6540\n",
      "Epoch 7/20\n",
      "5/5 [==============================] - 0s 84ms/step - loss: 1.1017 - accuracy: 0.5765 - val_loss: 1.0095 - val_accuracy: 0.6270\n",
      "Epoch 8/20\n",
      "5/5 [==============================] - 0s 75ms/step - loss: 0.9628 - accuracy: 0.6334 - val_loss: 1.0622 - val_accuracy: 0.5720\n",
      "Epoch 9/20\n",
      "5/5 [==============================] - 0s 82ms/step - loss: 1.0616 - accuracy: 0.5830 - val_loss: 1.0083 - val_accuracy: 0.6300\n",
      "Epoch 10/20\n",
      "5/5 [==============================] - 0s 84ms/step - loss: 1.0404 - accuracy: 0.6041 - val_loss: 0.9833 - val_accuracy: 0.6310\n",
      "Epoch 11/20\n",
      "5/5 [==============================] - 0s 67ms/step - loss: 1.1380 - accuracy: 0.5627 - val_loss: 1.0467 - val_accuracy: 0.5940\n",
      "Epoch 12/20\n",
      "5/5 [==============================] - 0s 81ms/step - loss: 1.0111 - accuracy: 0.6196 - val_loss: 1.0931 - val_accuracy: 0.5560\n",
      "Epoch 13/20\n",
      "5/5 [==============================] - 0s 73ms/step - loss: 1.0310 - accuracy: 0.5948 - val_loss: 1.1528 - val_accuracy: 0.5460\n",
      "Epoch 14/20\n",
      "5/5 [==============================] - 0s 78ms/step - loss: 1.1682 - accuracy: 0.5334 - val_loss: 1.0203 - val_accuracy: 0.6150\n",
      "Epoch 15/20\n",
      "5/5 [==============================] - 0s 58ms/step - loss: 1.0291 - accuracy: 0.6131 - val_loss: 1.0922 - val_accuracy: 0.5600\n",
      "Epoch 16/20\n",
      "5/5 [==============================] - 0s 86ms/step - loss: 1.0466 - accuracy: 0.5858 - val_loss: 0.9772 - val_accuracy: 0.6390\n",
      "Epoch 17/20\n",
      "5/5 [==============================] - 0s 36ms/step - loss: 0.9964 - accuracy: 0.6359 - val_loss: 1.0239 - val_accuracy: 0.6130\n",
      "Epoch 18/20\n",
      "5/5 [==============================] - 0s 36ms/step - loss: 0.9827 - accuracy: 0.6192 - val_loss: 1.0700 - val_accuracy: 0.5900\n",
      "Epoch 19/20\n",
      "5/5 [==============================] - 0s 45ms/step - loss: 1.0563 - accuracy: 0.5964 - val_loss: 1.0595 - val_accuracy: 0.5970\n",
      "Epoch 20/20\n",
      "5/5 [==============================] - 0s 36ms/step - loss: 0.9668 - accuracy: 0.6322 - val_loss: 1.0313 - val_accuracy: 0.5930\n"
     ]
    }
   ],
   "source": [
    "history = model.fit(partial_x_train,\n",
    "partial_y_train,\n",
    "epochs=20,\n",
    "batch_size=512,\n",
    "validation_data=(x_val, y_val))"
   ]
  },
  {
   "cell_type": "code",
   "execution_count": 22,
   "metadata": {},
   "outputs": [
    {
     "data": {
      "text/plain": [
       "dict_keys(['loss', 'accuracy', 'val_loss', 'val_accuracy'])"
      ]
     },
     "execution_count": 22,
     "metadata": {},
     "output_type": "execute_result"
    }
   ],
   "source": [
    "history.history.keys()"
   ]
  },
  {
   "cell_type": "code",
   "execution_count": 23,
   "metadata": {},
   "outputs": [
    {
     "data": {
      "image/png": "[encoded data removed]",
      "text/plain": [
       "<Figure size 432x288 with 1 Axes>"
      ]
     },
     "metadata": {
      "needs_background": "light"
     },
     "output_type": "display_data"
    }
   ],
   "source": [
    "import matplotlib.pyplot as plt\n",
    "loss = history.history['loss']\n",
    "val_loss = history.history['val_loss']\n",
    "epochs = range(1, len(loss) + 1)\n",
    "plt.plot(epochs, loss, 'bo', label='Training loss')\n",
    "plt.plot(epochs, val_loss, 'b', label='Validation loss')\n",
    "plt.title('Training and validation loss')\n",
    "plt.xlabel('Epochs')\n",
    "plt.ylabel('Loss')\n",
    "plt.legend()\n",
    "plt.show()"
   ]
  },
  {
   "cell_type": "code",
   "execution_count": 24,
   "metadata": {},
   "outputs": [
    {
     "data": {
      "image/png": "[encoded data removed]",
      "text/plain": [
       "<Figure size 432x288 with 1 Axes>"
      ]
     },
     "metadata": {
      "needs_background": "light"
     },
     "output_type": "display_data"
    }
   ],
   "source": [
    "plt.clf()\n",
    "acc = history.history['accuracy']\n",
    "val_acc = history.history['val_accuracy']\n",
    "plt.plot(epochs, acc, 'bo', label='Training acc')\n",
    "plt.plot(epochs, val_acc, 'b', label='Validation acc')\n",
    "plt.title('Training and validation accuracy')\n",
    "plt.xlabel('Epochs')\n",
    "plt.ylabel('Loss')\n",
    "plt.legend()\n",
    "plt.show()"
   ]
  },
  {
   "cell_type": "code",
   "execution_count": 25,
   "metadata": {},
   "outputs": [
    {
     "data": {
      "text/plain": [
       "array([[4.0419886e-01, 1.9695796e-01, 1.8858318e-17, 3.4331273e-02,\n",
       "        3.1886369e-01, 4.5648247e-02],\n",
       "       [1.0440976e-01, 1.5486760e-01, 2.3508540e-10, 1.6566588e-01,\n",
       "        4.4086704e-01, 1.3418974e-01],\n",
       "       [3.2657053e-02, 1.9499443e-01, 6.9456550e-13, 4.6198037e-01,\n",
       "        2.8572366e-01, 2.4644556e-02],\n",
       "       ...,\n",
       "       [3.6948767e-02, 9.0808094e-02, 1.7889967e-20, 4.9780399e-02,\n",
       "        7.5144947e-01, 7.1013242e-02],\n",
       "       [9.6420631e-02, 1.7114711e-01, 2.4016271e-09, 5.7199102e-02,\n",
       "        4.4893995e-01, 2.2629319e-01],\n",
       "       [2.1381949e-01, 1.3475442e-01, 1.5943614e-13, 2.2188418e-01,\n",
       "        3.8604563e-01, 4.3496318e-02]], dtype=float32)"
      ]
     },
     "execution_count": 25,
     "metadata": {},
     "output_type": "execute_result"
    }
   ],
   "source": [
    "test_case = model.predict(xtest)\n",
    "test_case"
   ]
  },
  {
   "cell_type": "code",
   "execution_count": 28,
   "metadata": {},
   "outputs": [
    {
     "data": {
      "text/plain": [
       "array([0, 4, 3, 3, 4, 4, 4, 4, 3, 1, 3, 4, 3, 0, 4, 4, 4, 0, 4, 1, 5, 0,\n",
       "       4, 4, 1, 4, 3, 3, 4, 0, 4, 3, 4, 1, 4, 3, 3, 5, 3, 4, 4, 3, 4, 1,\n",
       "       4, 0, 0, 1, 0, 4, 1, 0, 4, 1, 0, 3, 4, 4, 0, 0, 5, 4, 4, 0, 0, 4,\n",
       "       0, 1, 3, 4, 3, 0, 4, 5, 1, 4, 1, 4, 4, 4, 3, 0, 3, 0, 4, 0, 0, 1,\n",
       "       0, 1, 0, 4, 0, 0, 0, 4, 0, 4, 1, 3, 1, 3, 4, 4, 4, 4, 4, 0, 1, 3,\n",
       "       5, 0, 4, 4, 4, 4, 0, 0, 4, 4, 4, 4, 3, 0, 3, 4, 4, 4, 1, 4, 4, 1,\n",
       "       4, 0, 4, 1, 4, 0, 3, 4, 4, 4, 0, 1, 0, 1, 5, 1, 4, 3, 4, 4, 0, 4,\n",
       "       0, 4, 4, 1, 4, 1, 4, 4, 4, 5, 0, 3, 4, 4, 4, 3, 4, 4, 4, 4, 4, 1,\n",
       "       5, 4, 4, 4, 5, 4, 3, 5, 4, 4, 1, 4, 1, 0, 4, 0, 1, 0, 1, 0, 4, 3,\n",
       "       0, 4, 5, 1, 4, 4, 0, 0, 0, 4, 1, 0, 0, 4, 0, 0, 3, 5, 0, 1, 3, 4,\n",
       "       0, 5, 5, 0, 4, 4, 1, 4, 4, 0, 4, 5, 4, 0, 0, 1, 0, 1, 4, 3, 4, 4,\n",
       "       4, 1, 4, 5, 0, 1, 4, 4, 1, 0, 0, 4, 4, 0, 4, 4, 4, 4, 5, 4, 0, 3,\n",
       "       4, 3, 5, 4, 4, 3, 3, 3, 4, 5, 3, 4, 0, 4, 5, 1, 4, 4, 0, 0, 4, 1,\n",
       "       4, 4, 0, 4, 5, 4, 1, 4, 4, 5, 0, 4, 5, 4, 4, 4, 0, 4, 5, 1, 3, 1,\n",
       "       5, 4, 4, 4, 0, 3, 0, 4, 4, 3, 0, 0, 0, 5, 4, 1, 4, 4, 4, 5, 4, 4,\n",
       "       4, 4, 4, 5, 1, 0, 0, 4, 0, 4, 4, 5, 0, 4, 4, 4, 1, 0, 0, 3, 0, 4,\n",
       "       4, 1, 0, 4, 4, 0, 4, 0, 0, 0, 1, 0, 0, 0, 4, 3, 1, 3, 0, 4, 0, 4,\n",
       "       0, 4, 4, 0, 0, 0, 1, 4, 4, 3, 0, 4, 0, 4, 4, 1, 4, 5, 0, 4, 4, 4,\n",
       "       4, 4, 4, 3, 4, 0, 4, 4, 4, 5, 0, 4, 4, 3, 4, 1, 4, 4, 1, 5, 4, 0,\n",
       "       0, 3, 4, 4, 4, 1, 0, 4, 0, 3, 0, 4, 4, 0, 3, 4, 5, 4, 0, 4, 4, 4,\n",
       "       4, 0, 1, 0, 3, 0, 4, 4, 5, 0, 4, 4, 1, 5, 0, 0, 1, 5, 4, 4, 3, 4,\n",
       "       4, 5, 4, 0, 4, 0, 4, 3, 1, 0, 4, 0, 1, 4, 1, 0, 3, 0, 1, 0, 0, 4,\n",
       "       1, 4, 0, 4, 0, 4, 0, 4, 4, 4, 1, 4, 4, 3, 5, 4, 0, 4, 3, 1, 1, 0,\n",
       "       3, 3, 4, 4, 4, 5, 4, 4, 4, 5, 4, 4, 5, 0, 3, 1, 0, 4, 3, 0, 4, 3,\n",
       "       1, 4, 0, 4, 1, 5, 4, 4, 0, 1, 4, 0, 0, 4, 4, 0, 5, 4, 4, 4, 0, 0,\n",
       "       0, 5, 4, 0, 3, 4, 5, 4, 3, 1, 5, 0, 1, 4, 0, 0, 4, 0, 4, 5, 1, 4,\n",
       "       3, 4, 0, 0, 4, 4, 0, 4, 1, 3, 3, 4, 0, 0, 0, 4, 3, 0, 3, 4, 5, 1,\n",
       "       1, 0, 0, 0, 4, 4, 4, 5, 5, 4, 4, 0, 4, 3, 4, 4, 1, 3, 3, 4, 3, 3,\n",
       "       1, 4, 4, 5, 4, 4, 4, 4, 0, 4, 4, 3, 4, 0, 0, 3, 4, 0, 4, 0, 4, 4,\n",
       "       0, 4, 4, 4, 5, 4, 5, 0, 3, 0, 3, 3, 4, 0, 4, 4, 4, 4, 4, 4, 4, 4,\n",
       "       4, 0, 4, 4, 5, 1, 0, 4, 0, 3, 4, 5, 0, 4, 3, 0, 4, 0, 4, 0, 4, 4,\n",
       "       5, 4, 4, 4, 4, 0, 3, 0, 0, 4, 4, 4, 4, 1, 1, 0, 4, 1, 0, 4, 0, 4,\n",
       "       1, 4, 4, 0, 4, 0, 4, 4, 0, 4, 1, 0, 4, 0, 5, 1, 0, 3, 0, 4, 4, 4,\n",
       "       4, 1, 1, 3, 1, 0, 0, 4, 5, 1, 0, 4, 4, 4, 4, 4, 0, 3, 0, 4, 1, 0,\n",
       "       4, 3, 0, 5, 3, 4, 0, 1, 4, 5, 4, 4, 0, 4, 4, 4, 0, 3, 1, 0, 3, 3,\n",
       "       4, 0, 0, 1, 3, 3, 4, 0, 3, 4, 4, 0, 4, 4, 4, 4, 0, 0, 0, 4, 0, 0,\n",
       "       5, 4, 4, 1, 4, 4, 4, 0, 0, 4, 4, 4, 0, 0, 4, 4, 5, 0, 0, 0, 4, 4,\n",
       "       0, 0, 0, 4, 4, 0, 0, 4, 4, 3, 0, 0, 0, 4, 5, 4, 1, 0, 4, 4, 5, 3,\n",
       "       3, 4, 3, 0, 0, 3, 0, 0, 4, 0, 1, 4, 4, 4, 4, 3, 0, 4, 4, 4, 0, 0,\n",
       "       4, 1, 0, 0, 4, 4, 4], dtype=int64)"
      ]
     },
     "execution_count": 28,
     "metadata": {},
     "output_type": "execute_result"
    }
   ],
   "source": [
    "y_test_pred = np.argmax(test_case,axis = 1)\n",
    "y_test_pred"
   ]
  },
  {
   "cell_type": "code",
   "execution_count": 27,
   "metadata": {},
   "outputs": [],
   "source": [
    "#for i in range(5):\n",
    "#    print(\"actual\",ytest[i],\"predicted\",y_test_pred[i])"
   ]
  },
  {
   "cell_type": "code",
   "execution_count": null,
   "metadata": {},
   "outputs": [],
   "source": []
  }
 ],
 "metadata": {
  "colab": {
   "name": "Flowers Recognition.ipynb",
   "provenance": []
  },
  "kernelspec": {
   "display_name": "Python 3",
   "language": "python",
   "name": "python3"
  },
  "language_info": {
   "codemirror_mode": {
    "name": "ipython",
    "version": 3
   },
   "file_extension": ".py",
   "mimetype": "text/x-python",
   "name": "python",
   "nbconvert_exporter": "python",
   "pygments_lexer": "ipython3",
   "version": "3.7.6"
  }
 },
 "nbformat": 4,
 "nbformat_minor": 1
}
