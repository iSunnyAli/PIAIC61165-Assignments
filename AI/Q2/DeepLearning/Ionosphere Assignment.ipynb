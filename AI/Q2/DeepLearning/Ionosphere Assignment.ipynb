{
 "cells": [
  {
   "cell_type": "markdown",
   "metadata": {},
   "source": [
    "# Assignment: Ionosphere Data Problem\n",
    "\n",
    "### Dataset Description: \n",
    "\n",
    "This radar data was collected by a system in Goose Bay, Labrador. This system consists of a phased array of 16 high-frequency antennas with a total transmitted power on the order of 6.4 kilowatts. See the paper for more details. The targets were free electrons in the ionosphere. \"Good\" radar returns are those showing evidence of some type of structure in the ionosphere. \"Bad\" returns are those that do not; their signals pass through the ionosphere.\n",
    "\n",
    "Received signals were processed using an autocorrelation function whose arguments are the time of a pulse and the pulse number. There were 17 pulse numbers for the Goose Bay system. Instances in this databse are described by 2 attributes per pulse number, corresponding to the complex values returned by the function resulting from the complex electromagnetic signal.\n",
    "\n",
    "### Attribute Information:\n",
    "\n",
    "- All 34 are continuous\n",
    "- The 35th attribute is either \"good\" or \"bad\" according to the definition summarized above. This is a binary classification task.\n",
    "\n",
    " <br><br>\n",
    "\n",
    "<table border=\"1\"  cellpadding=\"6\">\n",
    "\t<tbody>\n",
    "        <tr>\n",
    "\t\t<td bgcolor=\"#DDEEFF\"><p class=\"normal\"><b>Data Set Characteristics:&nbsp;&nbsp;</b></p></td>\n",
    "\t\t<td><p class=\"normal\">Multivariate</p></td>\n",
    "\t\t<td bgcolor=\"#DDEEFF\"><p class=\"normal\"><b>Number of Instances:</b></p></td>\n",
    "\t\t<td><p class=\"normal\">351</p></td>\n",
    "\t\t<td bgcolor=\"#DDEEFF\"><p class=\"normal\"><b>Area:</b></p></td>\n",
    "\t\t<td><p class=\"normal\">Physical</p></td>\n",
    "        </tr>\n",
    "     </tbody>\n",
    "    </table>\n",
    "<table border=\"1\" cellpadding=\"6\">\n",
    "    <tbody>\n",
    "        <tr>\n",
    "            <td bgcolor=\"#DDEEFF\"><p class=\"normal\"><b>Attribute Characteristics:</b></p></td>\n",
    "            <td><p class=\"normal\">Integer,Real</p></td>\n",
    "            <td bgcolor=\"#DDEEFF\"><p class=\"normal\"><b>Number of Attributes:</b></p></td>\n",
    "            <td><p class=\"normal\">34</p></td>\n",
    "            <td bgcolor=\"#DDEEFF\"><p class=\"normal\"><b>Date Donated</b></p></td>\n",
    "            <td><p class=\"normal\">N/A</p></td>\n",
    "        </tr>\n",
    "     </tbody>\n",
    "    </table>\n",
    "<table border=\"1\" cellpadding=\"6\">\t\n",
    "    <tbody>\n",
    "    <tr>\n",
    "\t\t<td bgcolor=\"#DDEEFF\"><p class=\"normal\"><b>Associated Tasks:</b></p></td>\n",
    "\t\t<td><p class=\"normal\">Classification</p></td>\n",
    "\t\t<td bgcolor=\"#DDEEFF\"><p class=\"normal\"><b>Missing Values?</b></p></td>\n",
    "\t\t<td><p class=\"normal\">N/A</p></td>\n",
    "\t\t<td bgcolor=\"#DDEEFF\"><p class=\"normal\"><b>Number of Web Hits:</b></p></td>\n",
    "\t\t<td><p class=\"normal\">N/A</p></td>\n",
    "\t</tr>\n",
    "    </tbody>\n",
    "    </table>"
   ]
  },
  {
   "cell_type": "markdown",
   "metadata": {},
   "source": [
    "### WORKFLOW :\n",
    "- Load Data\n",
    "- Check Missing Values ( If Exist ; Fill each record with mean of its feature ) or any usless column.\n",
    "- Shuffle the data if needed.\n",
    "- Standardized the Input Variables. **Hint**: Centeralized the data\n",
    "- Split into 60 and 40 ratio.\n",
    "- Encode labels.\n",
    "- Model : 1 hidden layers including 16 unit.\n",
    "- Compilation Step (Note : Its a Binary problem , select loss , metrics according to it)\n",
    "- Train the Model with Epochs (100).\n",
    "- If the model gets overfit tune your model by changing the units , No. of layers , epochs , add dropout layer or add Regularizer according to the need .\n",
    "- Prediction should be > **92%**\n",
    "- Evaluation Step\n",
    "- Prediction\n"
   ]
  },
  {
   "cell_type": "markdown",
   "metadata": {},
   "source": [
    "# Load Data:\n",
    "[Click Here to Download DataSet](https://github.com/ramsha275/ML_Datasets/blob/main/ionosphere_data.csv)"
   ]
  },
  {
   "cell_type": "code",
   "execution_count": 17,
   "metadata": {},
   "outputs": [],
   "source": [
    "import tensorflow as tf\n",
    "import pandas as pd\n",
    "import numpy as np\n",
    "import matplotlib.pyplot as plt\n",
    "import seaborn as sns"
   ]
  },
  {
   "cell_type": "code",
   "execution_count": 18,
   "metadata": {},
   "outputs": [],
   "source": [
    "# Load the dataset.\n",
    "data = pd.read_csv('ML_Datasets/ionosphere_data.csv', delimiter=',')"
   ]
  },
  {
   "cell_type": "code",
   "execution_count": 19,
   "metadata": {},
   "outputs": [
    {
     "data": {
      "text/plain": [
       "(351, 35)"
      ]
     },
     "execution_count": 19,
     "metadata": {},
     "output_type": "execute_result"
    }
   ],
   "source": [
    "data.shape"
   ]
  },
  {
   "cell_type": "code",
   "execution_count": 20,
   "metadata": {},
   "outputs": [
    {
     "data": {
      "text/html": [
       "<div>\n",
       "<style scoped>\n",
       "    .dataframe tbody tr th:only-of-type {\n",
       "        vertical-align: middle;\n",
       "    }\n",
       "\n",
       "    .dataframe tbody tr th {\n",
       "        vertical-align: top;\n",
       "    }\n",
       "\n",
       "    .dataframe thead th {\n",
       "        text-align: right;\n",
       "    }\n",
       "</style>\n",
       "<table border=\"1\" class=\"dataframe\">\n",
       "  <thead>\n",
       "    <tr style=\"text-align: right;\">\n",
       "      <th></th>\n",
       "      <th>feature1</th>\n",
       "      <th>feature2</th>\n",
       "      <th>feature3</th>\n",
       "      <th>feature4</th>\n",
       "      <th>feature5</th>\n",
       "      <th>feature6</th>\n",
       "      <th>feature7</th>\n",
       "      <th>feature8</th>\n",
       "      <th>feature9</th>\n",
       "      <th>feature10</th>\n",
       "      <th>...</th>\n",
       "      <th>feature26</th>\n",
       "      <th>feature27</th>\n",
       "      <th>feature28</th>\n",
       "      <th>feature29</th>\n",
       "      <th>feature30</th>\n",
       "      <th>feature31</th>\n",
       "      <th>feature32</th>\n",
       "      <th>feature33</th>\n",
       "      <th>feature34</th>\n",
       "      <th>label</th>\n",
       "    </tr>\n",
       "  </thead>\n",
       "  <tbody>\n",
       "    <tr>\n",
       "      <th>0</th>\n",
       "      <td>1</td>\n",
       "      <td>0</td>\n",
       "      <td>0.99539</td>\n",
       "      <td>-0.05889</td>\n",
       "      <td>0.85243</td>\n",
       "      <td>0.02306</td>\n",
       "      <td>0.83398</td>\n",
       "      <td>-0.37708</td>\n",
       "      <td>1.00000</td>\n",
       "      <td>0.03760</td>\n",
       "      <td>...</td>\n",
       "      <td>-0.51171</td>\n",
       "      <td>0.41078</td>\n",
       "      <td>-0.46168</td>\n",
       "      <td>0.21266</td>\n",
       "      <td>-0.34090</td>\n",
       "      <td>0.42267</td>\n",
       "      <td>-0.54487</td>\n",
       "      <td>0.18641</td>\n",
       "      <td>-0.45300</td>\n",
       "      <td>g</td>\n",
       "    </tr>\n",
       "    <tr>\n",
       "      <th>1</th>\n",
       "      <td>1</td>\n",
       "      <td>0</td>\n",
       "      <td>1.00000</td>\n",
       "      <td>-0.18829</td>\n",
       "      <td>0.93035</td>\n",
       "      <td>-0.36156</td>\n",
       "      <td>-0.10868</td>\n",
       "      <td>-0.93597</td>\n",
       "      <td>1.00000</td>\n",
       "      <td>-0.04549</td>\n",
       "      <td>...</td>\n",
       "      <td>-0.26569</td>\n",
       "      <td>-0.20468</td>\n",
       "      <td>-0.18401</td>\n",
       "      <td>-0.19040</td>\n",
       "      <td>-0.11593</td>\n",
       "      <td>-0.16626</td>\n",
       "      <td>-0.06288</td>\n",
       "      <td>-0.13738</td>\n",
       "      <td>-0.02447</td>\n",
       "      <td>b</td>\n",
       "    </tr>\n",
       "    <tr>\n",
       "      <th>2</th>\n",
       "      <td>1</td>\n",
       "      <td>0</td>\n",
       "      <td>1.00000</td>\n",
       "      <td>-0.03365</td>\n",
       "      <td>1.00000</td>\n",
       "      <td>0.00485</td>\n",
       "      <td>1.00000</td>\n",
       "      <td>-0.12062</td>\n",
       "      <td>0.88965</td>\n",
       "      <td>0.01198</td>\n",
       "      <td>...</td>\n",
       "      <td>-0.40220</td>\n",
       "      <td>0.58984</td>\n",
       "      <td>-0.22145</td>\n",
       "      <td>0.43100</td>\n",
       "      <td>-0.17365</td>\n",
       "      <td>0.60436</td>\n",
       "      <td>-0.24180</td>\n",
       "      <td>0.56045</td>\n",
       "      <td>-0.38238</td>\n",
       "      <td>g</td>\n",
       "    </tr>\n",
       "    <tr>\n",
       "      <th>3</th>\n",
       "      <td>1</td>\n",
       "      <td>0</td>\n",
       "      <td>1.00000</td>\n",
       "      <td>-0.45161</td>\n",
       "      <td>1.00000</td>\n",
       "      <td>1.00000</td>\n",
       "      <td>0.71216</td>\n",
       "      <td>-1.00000</td>\n",
       "      <td>0.00000</td>\n",
       "      <td>0.00000</td>\n",
       "      <td>...</td>\n",
       "      <td>0.90695</td>\n",
       "      <td>0.51613</td>\n",
       "      <td>1.00000</td>\n",
       "      <td>1.00000</td>\n",
       "      <td>-0.20099</td>\n",
       "      <td>0.25682</td>\n",
       "      <td>1.00000</td>\n",
       "      <td>-0.32382</td>\n",
       "      <td>1.00000</td>\n",
       "      <td>b</td>\n",
       "    </tr>\n",
       "    <tr>\n",
       "      <th>4</th>\n",
       "      <td>1</td>\n",
       "      <td>0</td>\n",
       "      <td>1.00000</td>\n",
       "      <td>-0.02401</td>\n",
       "      <td>0.94140</td>\n",
       "      <td>0.06531</td>\n",
       "      <td>0.92106</td>\n",
       "      <td>-0.23255</td>\n",
       "      <td>0.77152</td>\n",
       "      <td>-0.16399</td>\n",
       "      <td>...</td>\n",
       "      <td>-0.65158</td>\n",
       "      <td>0.13290</td>\n",
       "      <td>-0.53206</td>\n",
       "      <td>0.02431</td>\n",
       "      <td>-0.62197</td>\n",
       "      <td>-0.05707</td>\n",
       "      <td>-0.59573</td>\n",
       "      <td>-0.04608</td>\n",
       "      <td>-0.65697</td>\n",
       "      <td>g</td>\n",
       "    </tr>\n",
       "  </tbody>\n",
       "</table>\n",
       "<p>5 rows × 35 columns</p>\n",
       "</div>"
      ],
      "text/plain": [
       "   feature1  feature2  feature3  feature4  feature5  feature6  feature7  \\\n",
       "0         1         0   0.99539  -0.05889   0.85243   0.02306   0.83398   \n",
       "1         1         0   1.00000  -0.18829   0.93035  -0.36156  -0.10868   \n",
       "2         1         0   1.00000  -0.03365   1.00000   0.00485   1.00000   \n",
       "3         1         0   1.00000  -0.45161   1.00000   1.00000   0.71216   \n",
       "4         1         0   1.00000  -0.02401   0.94140   0.06531   0.92106   \n",
       "\n",
       "   feature8  feature9  feature10  ...  feature26  feature27  feature28  \\\n",
       "0  -0.37708   1.00000    0.03760  ...   -0.51171    0.41078   -0.46168   \n",
       "1  -0.93597   1.00000   -0.04549  ...   -0.26569   -0.20468   -0.18401   \n",
       "2  -0.12062   0.88965    0.01198  ...   -0.40220    0.58984   -0.22145   \n",
       "3  -1.00000   0.00000    0.00000  ...    0.90695    0.51613    1.00000   \n",
       "4  -0.23255   0.77152   -0.16399  ...   -0.65158    0.13290   -0.53206   \n",
       "\n",
       "   feature29  feature30  feature31  feature32  feature33  feature34  label  \n",
       "0    0.21266   -0.34090    0.42267   -0.54487    0.18641   -0.45300      g  \n",
       "1   -0.19040   -0.11593   -0.16626   -0.06288   -0.13738   -0.02447      b  \n",
       "2    0.43100   -0.17365    0.60436   -0.24180    0.56045   -0.38238      g  \n",
       "3    1.00000   -0.20099    0.25682    1.00000   -0.32382    1.00000      b  \n",
       "4    0.02431   -0.62197   -0.05707   -0.59573   -0.04608   -0.65697      g  \n",
       "\n",
       "[5 rows x 35 columns]"
      ]
     },
     "execution_count": 20,
     "metadata": {},
     "output_type": "execute_result"
    }
   ],
   "source": [
    "data.head()"
   ]
  },
  {
   "cell_type": "markdown",
   "metadata": {},
   "source": [
    "#### Check Missing Values ( If Exist ; Fill each record with mean of its feature ) or any usless column."
   ]
  },
  {
   "cell_type": "code",
   "execution_count": 21,
   "metadata": {},
   "outputs": [
    {
     "data": {
      "text/plain": [
       "feature1     0\n",
       "feature2     0\n",
       "feature3     0\n",
       "feature4     0\n",
       "feature5     0\n",
       "feature6     0\n",
       "feature7     0\n",
       "feature8     0\n",
       "feature9     0\n",
       "feature10    0\n",
       "feature11    0\n",
       "feature12    0\n",
       "feature13    0\n",
       "feature14    0\n",
       "feature15    0\n",
       "feature16    0\n",
       "feature17    0\n",
       "feature18    0\n",
       "feature19    0\n",
       "feature20    0\n",
       "feature21    0\n",
       "feature22    0\n",
       "feature23    0\n",
       "feature24    0\n",
       "feature25    0\n",
       "feature26    0\n",
       "feature27    0\n",
       "feature28    0\n",
       "feature29    0\n",
       "feature30    0\n",
       "feature31    0\n",
       "feature32    0\n",
       "feature33    0\n",
       "feature34    0\n",
       "label        0\n",
       "dtype: int64"
      ]
     },
     "execution_count": 21,
     "metadata": {},
     "output_type": "execute_result"
    }
   ],
   "source": [
    "data.isnull().sum()"
   ]
  },
  {
   "cell_type": "code",
   "execution_count": 22,
   "metadata": {},
   "outputs": [
    {
     "data": {
      "text/plain": [
       "Index(['feature1', 'feature2', 'feature3', 'feature4', 'feature5', 'feature6',\n",
       "       'feature7', 'feature8', 'feature9', 'feature10', 'feature11',\n",
       "       'feature12', 'feature13', 'feature14', 'feature15', 'feature16',\n",
       "       'feature17', 'feature18', 'feature19', 'feature20', 'feature21',\n",
       "       'feature22', 'feature23', 'feature24', 'feature25', 'feature26',\n",
       "       'feature27', 'feature28', 'feature29', 'feature30', 'feature31',\n",
       "       'feature32', 'feature33', 'feature34', 'label'],\n",
       "      dtype='object')"
      ]
     },
     "execution_count": 22,
     "metadata": {},
     "output_type": "execute_result"
    }
   ],
   "source": [
    "data.columns"
   ]
  },
  {
   "cell_type": "code",
   "execution_count": 23,
   "metadata": {},
   "outputs": [
    {
     "data": {
      "text/plain": [
       "array(['g', 'b'], dtype=object)"
      ]
     },
     "execution_count": 23,
     "metadata": {},
     "output_type": "execute_result"
    }
   ],
   "source": [
    "data.label.unique()"
   ]
  },
  {
   "cell_type": "markdown",
   "metadata": {},
   "source": [
    "#### Encode labels."
   ]
  },
  {
   "cell_type": "code",
   "execution_count": 24,
   "metadata": {},
   "outputs": [],
   "source": [
    "from sklearn.preprocessing import LabelEncoder\n",
    "lblencoder = LabelEncoder()\n",
    "\n",
    "data['label'] = lblencoder.fit_transform(data['label'])"
   ]
  },
  {
   "cell_type": "code",
   "execution_count": 25,
   "metadata": {},
   "outputs": [
    {
     "data": {
      "text/plain": [
       "<Figure size 2016x2016 with 0 Axes>"
      ]
     },
     "execution_count": 25,
     "metadata": {},
     "output_type": "execute_result"
    },
    {
     "data": {
      "text/plain": [
       "<Figure size 2016x2016 with 0 Axes>"
      ]
     },
     "metadata": {},
     "output_type": "display_data"
    }
   ],
   "source": [
    "corr_data = data.corr()\n",
    "#print(corr_data)\n",
    "\n",
    "data_features = corr_data.index\n",
    "#print(data[data_features].corr())\n",
    "plt.figure(figsize= (28,28))\n",
    "##sns.heatmap(data[data_features].corr(),annot=True,cmap=\"YlGnBu\")"
   ]
  },
  {
   "cell_type": "code",
   "execution_count": 26,
   "metadata": {},
   "outputs": [
    {
     "data": {
      "text/html": [
       "<div>\n",
       "<style scoped>\n",
       "    .dataframe tbody tr th:only-of-type {\n",
       "        vertical-align: middle;\n",
       "    }\n",
       "\n",
       "    .dataframe tbody tr th {\n",
       "        vertical-align: top;\n",
       "    }\n",
       "\n",
       "    .dataframe thead th {\n",
       "        text-align: right;\n",
       "    }\n",
       "</style>\n",
       "<table border=\"1\" class=\"dataframe\">\n",
       "  <thead>\n",
       "    <tr style=\"text-align: right;\">\n",
       "      <th></th>\n",
       "      <th>feature1</th>\n",
       "      <th>feature3</th>\n",
       "      <th>feature4</th>\n",
       "      <th>feature5</th>\n",
       "      <th>feature6</th>\n",
       "      <th>feature7</th>\n",
       "      <th>feature8</th>\n",
       "      <th>feature9</th>\n",
       "      <th>feature10</th>\n",
       "      <th>feature11</th>\n",
       "      <th>...</th>\n",
       "      <th>feature16</th>\n",
       "      <th>feature18</th>\n",
       "      <th>feature19</th>\n",
       "      <th>feature21</th>\n",
       "      <th>feature23</th>\n",
       "      <th>feature25</th>\n",
       "      <th>feature29</th>\n",
       "      <th>feature31</th>\n",
       "      <th>feature33</th>\n",
       "      <th>label</th>\n",
       "    </tr>\n",
       "  </thead>\n",
       "  <tbody>\n",
       "    <tr>\n",
       "      <th>0</th>\n",
       "      <td>1</td>\n",
       "      <td>0.99539</td>\n",
       "      <td>-0.05889</td>\n",
       "      <td>0.85243</td>\n",
       "      <td>0.02306</td>\n",
       "      <td>0.83398</td>\n",
       "      <td>-0.37708</td>\n",
       "      <td>1.00000</td>\n",
       "      <td>0.03760</td>\n",
       "      <td>0.85243</td>\n",
       "      <td>...</td>\n",
       "      <td>-0.38223</td>\n",
       "      <td>-0.38542</td>\n",
       "      <td>0.58212</td>\n",
       "      <td>0.56971</td>\n",
       "      <td>0.36946</td>\n",
       "      <td>0.56811</td>\n",
       "      <td>0.21266</td>\n",
       "      <td>0.42267</td>\n",
       "      <td>0.18641</td>\n",
       "      <td>1</td>\n",
       "    </tr>\n",
       "    <tr>\n",
       "      <th>1</th>\n",
       "      <td>1</td>\n",
       "      <td>1.00000</td>\n",
       "      <td>-0.18829</td>\n",
       "      <td>0.93035</td>\n",
       "      <td>-0.36156</td>\n",
       "      <td>-0.10868</td>\n",
       "      <td>-0.93597</td>\n",
       "      <td>1.00000</td>\n",
       "      <td>-0.04549</td>\n",
       "      <td>0.50874</td>\n",
       "      <td>...</td>\n",
       "      <td>-0.97515</td>\n",
       "      <td>-0.62237</td>\n",
       "      <td>0.33109</td>\n",
       "      <td>-0.13151</td>\n",
       "      <td>-0.18056</td>\n",
       "      <td>-0.20332</td>\n",
       "      <td>-0.19040</td>\n",
       "      <td>-0.16626</td>\n",
       "      <td>-0.13738</td>\n",
       "      <td>0</td>\n",
       "    </tr>\n",
       "    <tr>\n",
       "      <th>2</th>\n",
       "      <td>1</td>\n",
       "      <td>1.00000</td>\n",
       "      <td>-0.03365</td>\n",
       "      <td>1.00000</td>\n",
       "      <td>0.00485</td>\n",
       "      <td>1.00000</td>\n",
       "      <td>-0.12062</td>\n",
       "      <td>0.88965</td>\n",
       "      <td>0.01198</td>\n",
       "      <td>0.73082</td>\n",
       "      <td>...</td>\n",
       "      <td>0.00299</td>\n",
       "      <td>-0.13644</td>\n",
       "      <td>0.75535</td>\n",
       "      <td>0.70887</td>\n",
       "      <td>0.43385</td>\n",
       "      <td>0.57528</td>\n",
       "      <td>0.43100</td>\n",
       "      <td>0.60436</td>\n",
       "      <td>0.56045</td>\n",
       "      <td>1</td>\n",
       "    </tr>\n",
       "    <tr>\n",
       "      <th>3</th>\n",
       "      <td>1</td>\n",
       "      <td>1.00000</td>\n",
       "      <td>-0.45161</td>\n",
       "      <td>1.00000</td>\n",
       "      <td>1.00000</td>\n",
       "      <td>0.71216</td>\n",
       "      <td>-1.00000</td>\n",
       "      <td>0.00000</td>\n",
       "      <td>0.00000</td>\n",
       "      <td>0.00000</td>\n",
       "      <td>...</td>\n",
       "      <td>0.14516</td>\n",
       "      <td>-0.39330</td>\n",
       "      <td>-1.00000</td>\n",
       "      <td>-0.69975</td>\n",
       "      <td>0.00000</td>\n",
       "      <td>1.00000</td>\n",
       "      <td>1.00000</td>\n",
       "      <td>0.25682</td>\n",
       "      <td>-0.32382</td>\n",
       "      <td>0</td>\n",
       "    </tr>\n",
       "    <tr>\n",
       "      <th>4</th>\n",
       "      <td>1</td>\n",
       "      <td>1.00000</td>\n",
       "      <td>-0.02401</td>\n",
       "      <td>0.94140</td>\n",
       "      <td>0.06531</td>\n",
       "      <td>0.92106</td>\n",
       "      <td>-0.23255</td>\n",
       "      <td>0.77152</td>\n",
       "      <td>-0.16399</td>\n",
       "      <td>0.52798</td>\n",
       "      <td>...</td>\n",
       "      <td>-0.27457</td>\n",
       "      <td>-0.21780</td>\n",
       "      <td>0.45107</td>\n",
       "      <td>0.05982</td>\n",
       "      <td>0.02309</td>\n",
       "      <td>0.03286</td>\n",
       "      <td>0.02431</td>\n",
       "      <td>-0.05707</td>\n",
       "      <td>-0.04608</td>\n",
       "      <td>1</td>\n",
       "    </tr>\n",
       "  </tbody>\n",
       "</table>\n",
       "<p>5 rows × 24 columns</p>\n",
       "</div>"
      ],
      "text/plain": [
       "   feature1  feature3  feature4  feature5  feature6  feature7  feature8  \\\n",
       "0         1   0.99539  -0.05889   0.85243   0.02306   0.83398  -0.37708   \n",
       "1         1   1.00000  -0.18829   0.93035  -0.36156  -0.10868  -0.93597   \n",
       "2         1   1.00000  -0.03365   1.00000   0.00485   1.00000  -0.12062   \n",
       "3         1   1.00000  -0.45161   1.00000   1.00000   0.71216  -1.00000   \n",
       "4         1   1.00000  -0.02401   0.94140   0.06531   0.92106  -0.23255   \n",
       "\n",
       "   feature9  feature10  feature11  ...  feature16  feature18  feature19  \\\n",
       "0   1.00000    0.03760    0.85243  ...   -0.38223   -0.38542    0.58212   \n",
       "1   1.00000   -0.04549    0.50874  ...   -0.97515   -0.62237    0.33109   \n",
       "2   0.88965    0.01198    0.73082  ...    0.00299   -0.13644    0.75535   \n",
       "3   0.00000    0.00000    0.00000  ...    0.14516   -0.39330   -1.00000   \n",
       "4   0.77152   -0.16399    0.52798  ...   -0.27457   -0.21780    0.45107   \n",
       "\n",
       "   feature21  feature23  feature25  feature29  feature31  feature33  label  \n",
       "0    0.56971    0.36946    0.56811    0.21266    0.42267    0.18641      1  \n",
       "1   -0.13151   -0.18056   -0.20332   -0.19040   -0.16626   -0.13738      0  \n",
       "2    0.70887    0.43385    0.57528    0.43100    0.60436    0.56045      1  \n",
       "3   -0.69975    0.00000    1.00000    1.00000    0.25682   -0.32382      0  \n",
       "4    0.05982    0.02309    0.03286    0.02431   -0.05707   -0.04608      1  \n",
       "\n",
       "[5 rows x 24 columns]"
      ]
     },
     "execution_count": 26,
     "metadata": {},
     "output_type": "execute_result"
    }
   ],
   "source": [
    "Valueable_cols = ['feature1', 'feature3', 'feature4', 'feature5', 'feature6',\n",
    "       'feature7', 'feature8', 'feature9', 'feature10', 'feature11',\n",
    "       'feature12', 'feature13', 'feature14', 'feature15', 'feature16',\n",
    "       'feature18', 'feature19', 'feature21',\n",
    "        'feature23', 'feature25',  'feature29', 'feature31',\n",
    "                  'feature33', 'label']\n",
    "Valueable_data = data[Valueable_cols]\n",
    "Valueable_data.head()"
   ]
  },
  {
   "cell_type": "markdown",
   "metadata": {},
   "source": [
    "#### Shuffle the data if needed."
   ]
  },
  {
   "cell_type": "markdown",
   "metadata": {},
   "source": [
    "#### Split into 60 and 40 ratio."
   ]
  },
  {
   "cell_type": "code",
   "execution_count": 27,
   "metadata": {},
   "outputs": [],
   "source": [
    "x = (Valueable_data.loc[:,Valueable_data.columns !='label'])\n",
    "y = (Valueable_data.loc[:,Valueable_data.columns =='label'])\n",
    "#print(x)\n",
    "#print(y)\n",
    "from sklearn.model_selection import train_test_split\n",
    "xtrain, xtest, ytrain,ytest = train_test_split(x,y,test_size=0.40,random_state=100)"
   ]
  },
  {
   "cell_type": "markdown",
   "metadata": {},
   "source": [
    "#### Standardized the Input Variables. Hint: Centeralized the data"
   ]
  },
  {
   "cell_type": "code",
   "execution_count": 28,
   "metadata": {},
   "outputs": [],
   "source": [
    "#Normalize\n",
    "mean = xtrain.mean(axis=0)\n",
    "xtrain -= mean\n",
    "std = xtrain.std(axis=0)\n",
    "xtrain /= std\n",
    "xtest -= mean\n",
    "xtest /= std"
   ]
  },
  {
   "cell_type": "markdown",
   "metadata": {},
   "source": [
    "#### Model : 1 hidden layers including 16 unit."
   ]
  },
  {
   "cell_type": "code",
   "execution_count": 29,
   "metadata": {},
   "outputs": [],
   "source": [
    "from keras import models\n",
    "from keras import layers\n",
    "model = models.Sequential()\n",
    "model.add(layers.Dense(16, activation='relu', input_shape=(xtrain.shape[1],)))\n",
    "model.add(layers.Dense(16, activation='relu'))\n",
    "model.add(layers.Dense(8, activation='relu'))\n",
    "model.add(layers.Dense(1, activation='sigmoid'))"
   ]
  },
  {
   "cell_type": "markdown",
   "metadata": {},
   "source": [
    "#### Compilation Step (Note : Its a Binary problem , select loss , metrics according to it)"
   ]
  },
  {
   "cell_type": "code",
   "execution_count": 30,
   "metadata": {},
   "outputs": [],
   "source": [
    "#model.compile(optimizer='rmsprop',loss='binary_crossentropy', metrics=['accuracy'])"
   ]
  },
  {
   "cell_type": "code",
   "execution_count": 31,
   "metadata": {},
   "outputs": [],
   "source": [
    "from keras import optimizers\n",
    "model.compile(optimizer=optimizers.RMSprop(lr=0.001),loss='binary_crossentropy', metrics=['accuracy'])"
   ]
  },
  {
   "cell_type": "markdown",
   "metadata": {},
   "source": [
    "#### Train the Model with Epochs (100)."
   ]
  },
  {
   "cell_type": "code",
   "execution_count": 32,
   "metadata": {},
   "outputs": [],
   "source": [
    "#x_val = xtrain[:25]\n",
    "#partial_x_train = xtrain[25:]\n",
    "\n",
    "#y_val = ytrain[:25]\n",
    "#partial_y_train = ytrain[25:]"
   ]
  },
  {
   "cell_type": "code",
   "execution_count": 33,
   "metadata": {},
   "outputs": [
    {
     "name": "stdout",
     "output_type": "stream",
     "text": [
      "Epoch 1/100\n",
      "2/2 [==============================] - 5s 2s/step - loss: 0.7136 - accuracy: 0.6017 - val_loss: 0.6550 - val_accuracy: 0.7143\n",
      "Epoch 2/100\n",
      "2/2 [==============================] - 0s 208ms/step - loss: 0.6660 - accuracy: 0.6790 - val_loss: 0.6377 - val_accuracy: 0.7143\n",
      "Epoch 3/100\n",
      "2/2 [==============================] - 0s 201ms/step - loss: 0.6341 - accuracy: 0.6931 - val_loss: 0.6237 - val_accuracy: 0.6667\n",
      "Epoch 4/100\n",
      "2/2 [==============================] - 0s 171ms/step - loss: 0.6120 - accuracy: 0.7334 - val_loss: 0.6099 - val_accuracy: 0.6667\n",
      "Epoch 5/100\n",
      "2/2 [==============================] - 0s 166ms/step - loss: 0.5758 - accuracy: 0.7884 - val_loss: 0.5979 - val_accuracy: 0.6190\n",
      "Epoch 6/100\n",
      "2/2 [==============================] - 0s 227ms/step - loss: 0.5694 - accuracy: 0.7589 - val_loss: 0.5881 - val_accuracy: 0.6190\n",
      "Epoch 7/100\n",
      "2/2 [==============================] - 0s 187ms/step - loss: 0.5415 - accuracy: 0.7858 - val_loss: 0.5784 - val_accuracy: 0.6190\n",
      "Epoch 8/100\n",
      "2/2 [==============================] - 0s 174ms/step - loss: 0.5293 - accuracy: 0.7877 - val_loss: 0.5682 - val_accuracy: 0.6667\n",
      "Epoch 9/100\n",
      "2/2 [==============================] - 0s 214ms/step - loss: 0.5102 - accuracy: 0.7990 - val_loss: 0.5592 - val_accuracy: 0.7143\n",
      "Epoch 10/100\n",
      "2/2 [==============================] - 0s 203ms/step - loss: 0.5002 - accuracy: 0.8114 - val_loss: 0.5505 - val_accuracy: 0.7143\n",
      "Epoch 11/100\n",
      "2/2 [==============================] - 0s 210ms/step - loss: 0.4894 - accuracy: 0.8211 - val_loss: 0.5426 - val_accuracy: 0.7143\n",
      "Epoch 12/100\n",
      "2/2 [==============================] - 0s 191ms/step - loss: 0.4687 - accuracy: 0.8386 - val_loss: 0.5356 - val_accuracy: 0.7143\n",
      "Epoch 13/100\n",
      "2/2 [==============================] - 0s 205ms/step - loss: 0.4574 - accuracy: 0.8386 - val_loss: 0.5287 - val_accuracy: 0.7143\n",
      "Epoch 14/100\n",
      "2/2 [==============================] - 0s 372ms/step - loss: 0.4472 - accuracy: 0.8456 - val_loss: 0.5230 - val_accuracy: 0.7143\n",
      "Epoch 15/100\n",
      "2/2 [==============================] - 0s 185ms/step - loss: 0.4401 - accuracy: 0.8614 - val_loss: 0.5181 - val_accuracy: 0.7143\n",
      "Epoch 16/100\n",
      "2/2 [==============================] - ETA: 0s - loss: 0.4189 - accuracy: 0.85 - 0s 157ms/step - loss: 0.4214 - accuracy: 0.8614 - val_loss: 0.5129 - val_accuracy: 0.7143\n",
      "Epoch 17/100\n",
      "2/2 [==============================] - 0s 271ms/step - loss: 0.4127 - accuracy: 0.8649 - val_loss: 0.5077 - val_accuracy: 0.7143\n",
      "Epoch 18/100\n",
      "2/2 [==============================] - 0s 271ms/step - loss: 0.4116 - accuracy: 0.8545 - val_loss: 0.5032 - val_accuracy: 0.7143\n",
      "Epoch 19/100\n",
      "2/2 [==============================] - 0s 242ms/step - loss: 0.3988 - accuracy: 0.8571 - val_loss: 0.4994 - val_accuracy: 0.7143\n",
      "Epoch 20/100\n",
      "2/2 [==============================] - 0s 200ms/step - loss: 0.3809 - accuracy: 0.8666 - val_loss: 0.4943 - val_accuracy: 0.7143\n",
      "Epoch 21/100\n",
      "2/2 [==============================] - 0s 132ms/step - loss: 0.3715 - accuracy: 0.8728 - val_loss: 0.4894 - val_accuracy: 0.7143\n",
      "Epoch 22/100\n",
      "2/2 [==============================] - 0s 168ms/step - loss: 0.3695 - accuracy: 0.8685 - val_loss: 0.4862 - val_accuracy: 0.7143\n",
      "Epoch 23/100\n",
      "2/2 [==============================] - 0s 197ms/step - loss: 0.3616 - accuracy: 0.8659 - val_loss: 0.4821 - val_accuracy: 0.7143\n",
      "Epoch 24/100\n",
      "2/2 [==============================] - 0s 199ms/step - loss: 0.3453 - accuracy: 0.8754 - val_loss: 0.4768 - val_accuracy: 0.7143\n",
      "Epoch 25/100\n",
      "2/2 [==============================] - 0s 232ms/step - loss: 0.3501 - accuracy: 0.8746 - val_loss: 0.4738 - val_accuracy: 0.7143\n",
      "Epoch 26/100\n",
      "2/2 [==============================] - 0s 178ms/step - loss: 0.3336 - accuracy: 0.8921 - val_loss: 0.4677 - val_accuracy: 0.7143\n",
      "Epoch 27/100\n",
      "2/2 [==============================] - 0s 196ms/step - loss: 0.3302 - accuracy: 0.8843 - val_loss: 0.4623 - val_accuracy: 0.7143\n",
      "Epoch 28/100\n",
      "2/2 [==============================] - 0s 204ms/step - loss: 0.3280 - accuracy: 0.8921 - val_loss: 0.4590 - val_accuracy: 0.7143\n",
      "Epoch 29/100\n",
      "2/2 [==============================] - 0s 187ms/step - loss: 0.3203 - accuracy: 0.8798 - val_loss: 0.4542 - val_accuracy: 0.7143\n",
      "Epoch 30/100\n",
      "2/2 [==============================] - 0s 177ms/step - loss: 0.3208 - accuracy: 0.8772 - val_loss: 0.4512 - val_accuracy: 0.7143\n",
      "Epoch 31/100\n",
      "2/2 [==============================] - 0s 203ms/step - loss: 0.3021 - accuracy: 0.8850 - val_loss: 0.4481 - val_accuracy: 0.7143\n",
      "Epoch 32/100\n",
      "2/2 [==============================] - 0s 178ms/step - loss: 0.3044 - accuracy: 0.8781 - val_loss: 0.4427 - val_accuracy: 0.7143\n",
      "Epoch 33/100\n",
      "2/2 [==============================] - 0s 177ms/step - loss: 0.2927 - accuracy: 0.8876 - val_loss: 0.4382 - val_accuracy: 0.7143\n",
      "Epoch 34/100\n",
      "2/2 [==============================] - 0s 224ms/step - loss: 0.2834 - accuracy: 0.9060 - val_loss: 0.4340 - val_accuracy: 0.7143\n",
      "Epoch 35/100\n",
      "2/2 [==============================] - 0s 239ms/step - loss: 0.2817 - accuracy: 0.8824 - val_loss: 0.4288 - val_accuracy: 0.7143\n",
      "Epoch 36/100\n",
      "2/2 [==============================] - 0s 158ms/step - loss: 0.2821 - accuracy: 0.8711 - val_loss: 0.4284 - val_accuracy: 0.7143\n",
      "Epoch 37/100\n",
      "2/2 [==============================] - 0s 184ms/step - loss: 0.2790 - accuracy: 0.8798 - val_loss: 0.4231 - val_accuracy: 0.7143\n",
      "Epoch 38/100\n",
      "2/2 [==============================] - 0s 144ms/step - loss: 0.2761 - accuracy: 0.8711 - val_loss: 0.4192 - val_accuracy: 0.7143\n",
      "Epoch 39/100\n",
      "2/2 [==============================] - 0s 142ms/step - loss: 0.2577 - accuracy: 0.8999 - val_loss: 0.4162 - val_accuracy: 0.7143\n",
      "Epoch 40/100\n",
      "2/2 [==============================] - 0s 152ms/step - loss: 0.2637 - accuracy: 0.8869 - val_loss: 0.4132 - val_accuracy: 0.7143\n",
      "Epoch 41/100\n",
      "2/2 [==============================] - 0s 157ms/step - loss: 0.2646 - accuracy: 0.8755 - val_loss: 0.4104 - val_accuracy: 0.7143\n",
      "Epoch 42/100\n",
      "2/2 [==============================] - 0s 249ms/step - loss: 0.2542 - accuracy: 0.8895 - val_loss: 0.4066 - val_accuracy: 0.7143\n",
      "Epoch 43/100\n",
      "2/2 [==============================] - 0s 185ms/step - loss: 0.2396 - accuracy: 0.9008 - val_loss: 0.4032 - val_accuracy: 0.7143\n",
      "Epoch 44/100\n",
      "2/2 [==============================] - 0s 184ms/step - loss: 0.2462 - accuracy: 0.8965 - val_loss: 0.3975 - val_accuracy: 0.7143\n",
      "Epoch 45/100\n",
      "2/2 [==============================] - 0s 170ms/step - loss: 0.2455 - accuracy: 0.8991 - val_loss: 0.3955 - val_accuracy: 0.7143\n",
      "Epoch 46/100\n",
      "2/2 [==============================] - 0s 313ms/step - loss: 0.2322 - accuracy: 0.9053 - val_loss: 0.3904 - val_accuracy: 0.7143\n",
      "Epoch 47/100\n",
      "2/2 [==============================] - 0s 267ms/step - loss: 0.2334 - accuracy: 0.9053 - val_loss: 0.3877 - val_accuracy: 0.7143\n",
      "Epoch 48/100\n",
      "2/2 [==============================] - 0s 273ms/step - loss: 0.2255 - accuracy: 0.9079 - val_loss: 0.3844 - val_accuracy: 0.7143\n",
      "Epoch 49/100\n",
      "2/2 [==============================] - 0s 211ms/step - loss: 0.2149 - accuracy: 0.9192 - val_loss: 0.3795 - val_accuracy: 0.7143\n",
      "Epoch 50/100\n",
      "2/2 [==============================] - 0s 167ms/step - loss: 0.2258 - accuracy: 0.9062 - val_loss: 0.3764 - val_accuracy: 0.7143\n",
      "Epoch 51/100\n",
      "2/2 [==============================] - 0s 155ms/step - loss: 0.2201 - accuracy: 0.9088 - val_loss: 0.3748 - val_accuracy: 0.7143\n",
      "Epoch 52/100\n",
      "2/2 [==============================] - 0s 195ms/step - loss: 0.2176 - accuracy: 0.9149 - val_loss: 0.3728 - val_accuracy: 0.7143\n",
      "Epoch 53/100\n",
      "2/2 [==============================] - 0s 179ms/step - loss: 0.2116 - accuracy: 0.9237 - val_loss: 0.3704 - val_accuracy: 0.7143\n",
      "Epoch 54/100\n",
      "2/2 [==============================] - 0s 209ms/step - loss: 0.2158 - accuracy: 0.9194 - val_loss: 0.3670 - val_accuracy: 0.7143\n",
      "Epoch 55/100\n",
      "2/2 [==============================] - 0s 197ms/step - loss: 0.2018 - accuracy: 0.9298 - val_loss: 0.3642 - val_accuracy: 0.7143\n",
      "Epoch 56/100\n",
      "2/2 [==============================] - 0s 203ms/step - loss: 0.2094 - accuracy: 0.9194 - val_loss: 0.3632 - val_accuracy: 0.7143\n",
      "Epoch 57/100\n",
      "2/2 [==============================] - 0s 197ms/step - loss: 0.1999 - accuracy: 0.9272 - val_loss: 0.3613 - val_accuracy: 0.7143\n",
      "Epoch 58/100\n"
     ]
    },
    {
     "name": "stdout",
     "output_type": "stream",
     "text": [
      "2/2 [==============================] - 0s 120ms/step - loss: 0.1920 - accuracy: 0.9324 - val_loss: 0.3593 - val_accuracy: 0.7143\n",
      "Epoch 59/100\n",
      "2/2 [==============================] - 0s 108ms/step - loss: 0.1910 - accuracy: 0.9298 - val_loss: 0.3551 - val_accuracy: 0.7143\n",
      "Epoch 60/100\n",
      "2/2 [==============================] - 0s 128ms/step - loss: 0.1968 - accuracy: 0.9132 - val_loss: 0.3541 - val_accuracy: 0.7143\n",
      "Epoch 61/100\n",
      "2/2 [==============================] - 0s 140ms/step - loss: 0.1889 - accuracy: 0.9263 - val_loss: 0.3509 - val_accuracy: 0.7143\n",
      "Epoch 62/100\n",
      "2/2 [==============================] - 0s 175ms/step - loss: 0.1825 - accuracy: 0.9272 - val_loss: 0.3484 - val_accuracy: 0.7143\n",
      "Epoch 63/100\n",
      "2/2 [==============================] - 0s 220ms/step - loss: 0.1938 - accuracy: 0.9220 - val_loss: 0.3473 - val_accuracy: 0.7143\n",
      "Epoch 64/100\n",
      "2/2 [==============================] - 0s 151ms/step - loss: 0.1755 - accuracy: 0.9272 - val_loss: 0.3457 - val_accuracy: 0.7143\n",
      "Epoch 65/100\n",
      "2/2 [==============================] - 0s 150ms/step - loss: 0.1696 - accuracy: 0.9324 - val_loss: 0.3414 - val_accuracy: 0.7619\n",
      "Epoch 66/100\n",
      "2/2 [==============================] - 0s 129ms/step - loss: 0.1807 - accuracy: 0.9246 - val_loss: 0.3379 - val_accuracy: 0.7619\n",
      "Epoch 67/100\n",
      "2/2 [==============================] - 0s 123ms/step - loss: 0.1819 - accuracy: 0.9229 - val_loss: 0.3381 - val_accuracy: 0.7619\n",
      "Epoch 68/100\n",
      "2/2 [==============================] - 0s 144ms/step - loss: 0.1638 - accuracy: 0.9333 - val_loss: 0.3364 - val_accuracy: 0.7619\n",
      "Epoch 69/100\n",
      "2/2 [==============================] - 0s 164ms/step - loss: 0.1706 - accuracy: 0.9255 - val_loss: 0.3359 - val_accuracy: 0.7619\n",
      "Epoch 70/100\n",
      "2/2 [==============================] - 0s 147ms/step - loss: 0.1633 - accuracy: 0.9359 - val_loss: 0.3331 - val_accuracy: 0.7619\n",
      "Epoch 71/100\n",
      "2/2 [==============================] - 0s 129ms/step - loss: 0.1642 - accuracy: 0.9368 - val_loss: 0.3320 - val_accuracy: 0.7619\n",
      "Epoch 72/100\n",
      "2/2 [==============================] - 0s 151ms/step - loss: 0.1714 - accuracy: 0.9290 - val_loss: 0.3289 - val_accuracy: 0.7619\n",
      "Epoch 73/100\n",
      "2/2 [==============================] - 0s 133ms/step - loss: 0.1658 - accuracy: 0.9378 - val_loss: 0.3284 - val_accuracy: 0.7619\n",
      "Epoch 74/100\n",
      "2/2 [==============================] - 0s 137ms/step - loss: 0.1581 - accuracy: 0.9342 - val_loss: 0.3270 - val_accuracy: 0.8095\n",
      "Epoch 75/100\n",
      "2/2 [==============================] - 0s 155ms/step - loss: 0.1541 - accuracy: 0.9404 - val_loss: 0.3251 - val_accuracy: 0.8095\n",
      "Epoch 76/100\n",
      "2/2 [==============================] - 0s 191ms/step - loss: 0.1428 - accuracy: 0.9482 - val_loss: 0.3203 - val_accuracy: 0.8095\n",
      "Epoch 77/100\n",
      "2/2 [==============================] - 0s 177ms/step - loss: 0.1467 - accuracy: 0.9430 - val_loss: 0.3217 - val_accuracy: 0.8095\n",
      "Epoch 78/100\n",
      "2/2 [==============================] - 0s 184ms/step - loss: 0.1425 - accuracy: 0.9430 - val_loss: 0.3185 - val_accuracy: 0.8095\n",
      "Epoch 79/100\n",
      "2/2 [==============================] - 0s 143ms/step - loss: 0.1527 - accuracy: 0.9404 - val_loss: 0.3189 - val_accuracy: 0.8095\n",
      "Epoch 80/100\n",
      "2/2 [==============================] - 0s 128ms/step - loss: 0.1495 - accuracy: 0.9439 - val_loss: 0.3164 - val_accuracy: 0.8095\n",
      "Epoch 81/100\n",
      "2/2 [==============================] - 0s 147ms/step - loss: 0.1394 - accuracy: 0.9456 - val_loss: 0.3145 - val_accuracy: 0.8095\n",
      "Epoch 82/100\n",
      "2/2 [==============================] - 0s 214ms/step - loss: 0.1442 - accuracy: 0.9352 - val_loss: 0.3144 - val_accuracy: 0.8095\n",
      "Epoch 83/100\n",
      "2/2 [==============================] - 0s 232ms/step - loss: 0.1372 - accuracy: 0.9456 - val_loss: 0.3107 - val_accuracy: 0.8095\n",
      "Epoch 84/100\n",
      "2/2 [==============================] - 0s 216ms/step - loss: 0.1329 - accuracy: 0.9456 - val_loss: 0.3082 - val_accuracy: 0.8095\n",
      "Epoch 85/100\n",
      "2/2 [==============================] - 0s 367ms/step - loss: 0.1279 - accuracy: 0.9456 - val_loss: 0.3049 - val_accuracy: 0.8095\n",
      "Epoch 86/100\n",
      "2/2 [==============================] - 0s 169ms/step - loss: 0.1416 - accuracy: 0.9387 - val_loss: 0.3045 - val_accuracy: 0.8095\n",
      "Epoch 87/100\n",
      "2/2 [==============================] - 0s 169ms/step - loss: 0.1317 - accuracy: 0.9465 - val_loss: 0.3041 - val_accuracy: 0.8095\n",
      "Epoch 88/100\n",
      "2/2 [==============================] - 0s 202ms/step - loss: 0.1318 - accuracy: 0.9439 - val_loss: 0.3043 - val_accuracy: 0.8095\n",
      "Epoch 89/100\n",
      "2/2 [==============================] - 0s 283ms/step - loss: 0.1208 - accuracy: 0.9456 - val_loss: 0.3011 - val_accuracy: 0.8095\n",
      "Epoch 90/100\n",
      "2/2 [==============================] - 0s 243ms/step - loss: 0.1233 - accuracy: 0.9465 - val_loss: 0.2992 - val_accuracy: 0.8095\n",
      "Epoch 91/100\n",
      "2/2 [==============================] - 0s 178ms/step - loss: 0.1286 - accuracy: 0.9413 - val_loss: 0.2975 - val_accuracy: 0.8095\n",
      "Epoch 92/100\n",
      "2/2 [==============================] - 0s 201ms/step - loss: 0.1186 - accuracy: 0.9517 - val_loss: 0.2985 - val_accuracy: 0.8095\n",
      "Epoch 93/100\n",
      "2/2 [==============================] - 0s 169ms/step - loss: 0.1210 - accuracy: 0.9439 - val_loss: 0.2973 - val_accuracy: 0.8095\n",
      "Epoch 94/100\n",
      "2/2 [==============================] - 0s 191ms/step - loss: 0.1170 - accuracy: 0.9465 - val_loss: 0.2940 - val_accuracy: 0.8095\n",
      "Epoch 95/100\n",
      "2/2 [==============================] - 0s 201ms/step - loss: 0.1197 - accuracy: 0.9526 - val_loss: 0.2922 - val_accuracy: 0.8095\n",
      "Epoch 96/100\n",
      "2/2 [==============================] - 0s 261ms/step - loss: 0.1189 - accuracy: 0.9474 - val_loss: 0.2895 - val_accuracy: 0.8095\n",
      "Epoch 97/100\n",
      "2/2 [==============================] - 0s 186ms/step - loss: 0.1142 - accuracy: 0.9500 - val_loss: 0.2939 - val_accuracy: 0.8095\n",
      "Epoch 98/100\n",
      "2/2 [==============================] - 0s 153ms/step - loss: 0.1096 - accuracy: 0.9614 - val_loss: 0.2890 - val_accuracy: 0.8095\n",
      "Epoch 99/100\n",
      "2/2 [==============================] - 0s 138ms/step - loss: 0.1102 - accuracy: 0.9562 - val_loss: 0.2865 - val_accuracy: 0.8095\n",
      "Epoch 100/100\n",
      "2/2 [==============================] - 0s 198ms/step - loss: 0.1072 - accuracy: 0.9588 - val_loss: 0.2848 - val_accuracy: 0.8095\n"
     ]
    }
   ],
   "source": [
    "history = model.fit(xtrain,ytrain,\n",
    "                    epochs=100,\n",
    "                    batch_size=128,\n",
    "                    validation_split=0.10,\n",
    "                    \n",
    "                   )\n",
    "#validation_data=(x_val, y_val)"
   ]
  },
  {
   "cell_type": "markdown",
   "metadata": {},
   "source": [
    "#### If the model gets overfit tune your model by changing the units , No. of layers , epochs , add dropout layer or add Regularizer according to the need ."
   ]
  },
  {
   "cell_type": "code",
   "execution_count": 34,
   "metadata": {},
   "outputs": [
    {
     "data": {
      "text/plain": [
       "dict_keys(['loss', 'accuracy', 'val_loss', 'val_accuracy'])"
      ]
     },
     "execution_count": 34,
     "metadata": {},
     "output_type": "execute_result"
    }
   ],
   "source": [
    "history_dict = history.history\n",
    "history_dict.keys()"
   ]
  },
  {
   "cell_type": "code",
   "execution_count": 35,
   "metadata": {},
   "outputs": [
    {
     "data": {
      "image/png": "[encoded data removed]",
      "text/plain": [
       "<Figure size 432x288 with 1 Axes>"
      ]
     },
     "metadata": {
      "needs_background": "light"
     },
     "output_type": "display_data"
    }
   ],
   "source": [
    "import matplotlib.pyplot as plt\n",
    "history_dict = history.history\n",
    "loss_values = history_dict['loss']\n",
    "val_loss_values = history_dict['val_loss']\n",
    "acc = history.history['accuracy']\n",
    "epochs = range(1, len(acc) + 1)\n",
    "plt.plot(epochs, loss_values, 'bo', label='Training loss')\n",
    "plt.plot(epochs, val_loss_values, 'b', label='Validation loss')\n",
    "plt.title('Training and validation loss')\n",
    "plt.xlabel('Epochs')\n",
    "plt.ylabel('Loss')\n",
    "plt.legend()\n",
    "plt.show()"
   ]
  },
  {
   "cell_type": "code",
   "execution_count": 36,
   "metadata": {},
   "outputs": [
    {
     "data": {
      "image/png": "[encoded data removed]",
      "text/plain": [
       "<Figure size 432x288 with 1 Axes>"
      ]
     },
     "metadata": {
      "needs_background": "light"
     },
     "output_type": "display_data"
    }
   ],
   "source": [
    "plt.clf()\n",
    "acc_values = history_dict['accuracy']\n",
    "val_acc_values = history_dict['val_accuracy']\n",
    "plt.plot(epochs, acc_values, 'bo', label='Training acc')\n",
    "plt.plot(epochs, val_acc_values, 'b', label='Validation acc')\n",
    "plt.title('Training and validation accuracy')\n",
    "plt.xlabel('Epochs')\n",
    "plt.ylabel('Loss')\n",
    "plt.legend()\n",
    "plt.show()"
   ]
  },
  {
   "cell_type": "markdown",
   "metadata": {},
   "source": [
    "#### Evaluation Step"
   ]
  },
  {
   "cell_type": "code",
   "execution_count": 37,
   "metadata": {},
   "outputs": [
    {
     "name": "stdout",
     "output_type": "stream",
     "text": [
      "5/5 [==============================] - 0s 5ms/step - loss: 0.1906 - accuracy: 0.9149\n"
     ]
    }
   ],
   "source": [
    "score = model.evaluate(xtest, ytest)"
   ]
  },
  {
   "cell_type": "markdown",
   "metadata": {},
   "source": [
    "#### Prediction should be > 92%"
   ]
  },
  {
   "cell_type": "markdown",
   "metadata": {},
   "source": [
    "#### Prediction"
   ]
  },
  {
   "cell_type": "code",
   "execution_count": 38,
   "metadata": {},
   "outputs": [
    {
     "data": {
      "text/plain": [
       "array([[9.82062101e-01],\n",
       "       [9.78756905e-01],\n",
       "       [8.45223367e-02],\n",
       "       [9.93706584e-01],\n",
       "       [8.66800547e-04],\n",
       "       [2.37139411e-05],\n",
       "       [2.29736209e-01],\n",
       "       [9.14070964e-01],\n",
       "       [9.93474245e-01],\n",
       "       [9.29136872e-02],\n",
       "       [2.94927657e-01],\n",
       "       [9.58636820e-01],\n",
       "       [9.68276381e-01],\n",
       "       [3.81258070e-01],\n",
       "       [8.37556124e-01],\n",
       "       [9.96877670e-01],\n",
       "       [9.96066928e-01],\n",
       "       [9.66396928e-01],\n",
       "       [7.37924576e-01],\n",
       "       [3.90096605e-02],\n",
       "       [9.38193679e-01],\n",
       "       [9.74735618e-03],\n",
       "       [8.50261748e-02],\n",
       "       [9.65862036e-01],\n",
       "       [9.84456897e-01],\n",
       "       [9.97618914e-01],\n",
       "       [1.05527341e-02],\n",
       "       [9.55484748e-01],\n",
       "       [9.15046811e-01],\n",
       "       [9.99521613e-01],\n",
       "       [9.80870426e-01],\n",
       "       [9.98024106e-01],\n",
       "       [9.86829162e-01],\n",
       "       [4.77384329e-02],\n",
       "       [9.96195793e-01],\n",
       "       [9.90607738e-01],\n",
       "       [2.18892813e-01],\n",
       "       [9.88701820e-01],\n",
       "       [1.08355132e-04],\n",
       "       [6.77397370e-01],\n",
       "       [1.93377437e-05],\n",
       "       [9.28752542e-01],\n",
       "       [1.01109147e-02],\n",
       "       [9.90230083e-01],\n",
       "       [9.97197449e-01],\n",
       "       [9.93989706e-01],\n",
       "       [9.50784802e-01],\n",
       "       [7.76585340e-01],\n",
       "       [9.67683613e-01],\n",
       "       [5.61480820e-01],\n",
       "       [9.62951779e-01],\n",
       "       [4.73285973e-01],\n",
       "       [9.96761143e-01],\n",
       "       [9.91492927e-01],\n",
       "       [1.44048929e-02],\n",
       "       [9.88392234e-01],\n",
       "       [1.23101473e-03],\n",
       "       [9.94954705e-01],\n",
       "       [4.07513976e-03],\n",
       "       [9.71616983e-01],\n",
       "       [8.86062205e-01],\n",
       "       [9.94945884e-01],\n",
       "       [9.62164342e-01],\n",
       "       [9.15599406e-01],\n",
       "       [9.69311237e-01],\n",
       "       [1.57763720e-01],\n",
       "       [1.14556670e-01],\n",
       "       [7.58207798e-01],\n",
       "       [1.00399256e-02],\n",
       "       [2.37137079e-03],\n",
       "       [9.93473172e-01],\n",
       "       [4.34801370e-01],\n",
       "       [1.69210466e-06],\n",
       "       [7.65234232e-04],\n",
       "       [1.42829418e-01],\n",
       "       [9.92460370e-01],\n",
       "       [7.09264874e-02],\n",
       "       [9.33165848e-01],\n",
       "       [8.43576550e-01],\n",
       "       [9.85041380e-01],\n",
       "       [8.19802284e-04],\n",
       "       [9.91665006e-01],\n",
       "       [9.97230887e-01],\n",
       "       [9.92892027e-01],\n",
       "       [9.57760632e-01],\n",
       "       [9.95056033e-01],\n",
       "       [9.71969247e-01],\n",
       "       [2.01529920e-01],\n",
       "       [9.95581388e-01],\n",
       "       [9.86204147e-01],\n",
       "       [8.59068334e-02],\n",
       "       [5.28376102e-02],\n",
       "       [9.44613934e-01],\n",
       "       [9.85333800e-01],\n",
       "       [9.48424697e-01],\n",
       "       [3.98170054e-02],\n",
       "       [9.94231701e-01],\n",
       "       [1.22876674e-01],\n",
       "       [7.07476079e-01],\n",
       "       [9.96648192e-01],\n",
       "       [9.67408955e-01],\n",
       "       [3.53793859e-01],\n",
       "       [6.00903451e-01],\n",
       "       [1.17468834e-03],\n",
       "       [9.63071823e-01],\n",
       "       [5.20768762e-03],\n",
       "       [2.17702985e-03],\n",
       "       [9.98256862e-01],\n",
       "       [1.71250105e-03],\n",
       "       [2.15389132e-02],\n",
       "       [9.77685571e-01],\n",
       "       [9.97520566e-01],\n",
       "       [2.19847709e-01],\n",
       "       [5.15460968e-04],\n",
       "       [1.67924166e-03],\n",
       "       [4.55412567e-02],\n",
       "       [9.94856834e-01],\n",
       "       [9.86991048e-01],\n",
       "       [9.92261529e-01],\n",
       "       [9.91435051e-01],\n",
       "       [9.58621979e-01],\n",
       "       [2.31063366e-03],\n",
       "       [9.93698597e-01],\n",
       "       [9.69877005e-01],\n",
       "       [9.94103909e-01],\n",
       "       [5.26165307e-01],\n",
       "       [9.97046232e-01],\n",
       "       [3.51903141e-01],\n",
       "       [9.86012101e-01],\n",
       "       [7.18221068e-03],\n",
       "       [4.02855873e-03],\n",
       "       [1.79624259e-02],\n",
       "       [9.93818820e-01],\n",
       "       [5.00179946e-01],\n",
       "       [9.92545485e-01],\n",
       "       [5.34201443e-01],\n",
       "       [5.40289521e-01],\n",
       "       [9.99529600e-01],\n",
       "       [1.57594681e-04],\n",
       "       [8.87147069e-01],\n",
       "       [9.96526718e-01]], dtype=float32)"
      ]
     },
     "execution_count": 38,
     "metadata": {},
     "output_type": "execute_result"
    }
   ],
   "source": [
    "model.predict(xtest)"
   ]
  },
  {
   "cell_type": "code",
   "execution_count": 39,
   "metadata": {},
   "outputs": [
    {
     "name": "stdout",
     "output_type": "stream",
     "text": [
      "predictions =  0.9995296\n"
     ]
    }
   ],
   "source": [
    "predictions=model.predict(xtest)\n",
    "print('predictions = ',predictions.max())\n",
    "y_test_pred = np.argmax(predictions,axis = 1)"
   ]
  },
  {
   "cell_type": "code",
   "execution_count": null,
   "metadata": {},
   "outputs": [],
   "source": [
    "np.array(ytest)[0]"
   ]
  },
  {
   "cell_type": "code",
   "execution_count": null,
   "metadata": {},
   "outputs": [],
   "source": [
    "#predictions"
   ]
  },
  {
   "cell_type": "code",
   "execution_count": null,
   "metadata": {},
   "outputs": [],
   "source": [
    "#for i in range(50):\n",
    " #   print(\"actual\",np.array(ytest)[i],\"predicted\",y_test_pred[i])"
   ]
  },
  {
   "cell_type": "code",
   "execution_count": null,
   "metadata": {},
   "outputs": [],
   "source": []
  }
 ],
 "metadata": {
  "kernelspec": {
   "display_name": "Python 3",
   "language": "python",
   "name": "python3"
  },
  "language_info": {
   "codemirror_mode": {
    "name": "ipython",
    "version": 3
   },
   "file_extension": ".py",
   "mimetype": "text/x-python",
   "name": "python",
   "nbconvert_exporter": "python",
   "pygments_lexer": "ipython3",
   "version": "3.7.6"
  }
 },
 "nbformat": 4,
 "nbformat_minor": 2
}
