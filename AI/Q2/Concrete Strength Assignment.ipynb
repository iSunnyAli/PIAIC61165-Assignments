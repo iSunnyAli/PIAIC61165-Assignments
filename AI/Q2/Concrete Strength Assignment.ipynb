{
 "cells": [
  {
   "cell_type": "markdown",
   "metadata": {},
   "source": [
    "# Assignment: Compresive Strength Concrete Problem\n",
    "\n",
    "\n",
    "### Abstract: \n",
    "\n",
    "Concrete is the most important material in civil engineering. The concrete compressive strength (concrete strength to bear the load) is a highly nonlinear function of age and ingredients.  <br><br>\n",
    "\n",
    "<table border=\"1\"  cellpadding=\"6\" bordercolor=\"red\">\n",
    "\t<tbody>\n",
    "        <tr>\n",
    "\t\t<td bgcolor=\"#DDEEFF\"><p class=\"normal\"><b>Data Set Characteristics:&nbsp;&nbsp;</b></p></td>\n",
    "\t\t<td><p class=\"normal\">Multivariate</p></td>\n",
    "\t\t<td bgcolor=\"#DDEEFF\"><p class=\"normal\"><b>Number of Instances:</b></p></td>\n",
    "\t\t<td><p class=\"normal\">1030</p></td>\n",
    "\t\t<td bgcolor=\"#DDEEFF\"><p class=\"normal\"><b>Area:</b></p></td>\n",
    "\t\t<td><p class=\"normal\">Physical</p></td>\n",
    "        </tr>\n",
    "     </tbody>\n",
    "    </table>\n",
    "<table border=\"1\" cellpadding=\"6\">\n",
    "    <tbody>\n",
    "        <tr>\n",
    "            <td bgcolor=\"#DDEEFF\"><p class=\"normal\"><b>Attribute Characteristics:</b></p></td>\n",
    "            <td><p class=\"normal\">Real</p></td>\n",
    "            <td bgcolor=\"#DDEEFF\"><p class=\"normal\"><b>Number of Attributes:</b></p></td>\n",
    "            <td><p class=\"normal\">9</p></td>\n",
    "            <td bgcolor=\"#DDEEFF\"><p class=\"normal\"><b>Date Donated</b></p></td>\n",
    "            <td><p class=\"normal\">2007-08-03</p></td>\n",
    "        </tr>\n",
    "     </tbody>\n",
    "    </table>\n",
    "<table border=\"1\" cellpadding=\"6\">\t\n",
    "    <tbody>\n",
    "    <tr>\n",
    "\t\t<td bgcolor=\"#DDEEFF\"><p class=\"normal\"><b>Associated Tasks:</b></p></td>\n",
    "\t\t<td><p class=\"normal\">Regression</p></td>\n",
    "\t\t<td bgcolor=\"#DDEEFF\"><p class=\"normal\"><b>Missing Values?</b></p></td>\n",
    "\t\t<td><p class=\"normal\">N/A</p></td>\n",
    "\t\t<td bgcolor=\"#DDEEFF\"><p class=\"normal\"><b>Number of Web Hits:</b></p></td>\n",
    "\t\t<td><p class=\"normal\">231464</p></td>\n",
    "\t</tr>\n",
    "    </tbody>\n",
    "    </table>"
   ]
  },
  {
   "cell_type": "markdown",
   "metadata": {},
   "source": [
    "###  Description:\n",
    "| Features Name | Data Type | Measurement | Description |\n",
    "| -- | -- | -- | -- |\n",
    "Cement (component 1) | quantitative | kg in a m3 mixture | Input Variable\n",
    "Blast Furnace Slag (component 2) | quantitative | kg in a m3 mixture | Input Variable\n",
    "Fly Ash (component 3) | quantitative | kg in a m3 mixture | Input Variable\n",
    "Water (component 4) | quantitative | kg in a m3 mixture | Input Variable\n",
    "Superplasticizer (component 5) | quantitative | kg in a m3 mixture | Input Variable\n",
    "Coarse Aggregate (component 6) | quantitative | kg in a m3 mixture | Input Variable\n",
    "Fine Aggregate (component 7) | quantitative | kg in a m3 mixture | Input Variable\n",
    "Age | quantitative | Day (1~365) | Input Variable\n",
    "Concrete compressive strength | quantitative | MPa | Output Variable\n",
    "\n",
    "### WORKFLOW :\n",
    "- Load Data\n",
    "- Check Missing Values ( If Exist ; Fill each record with mean of its feature )\n",
    "- Standardized the Input Variables. **Hint**: Centeralized the data\n",
    "- Split into 50% Training(Samples,Labels) , 30% Test(Samples,Labels) and 20% Validation Data(Samples,Labels).\n",
    "- Model : input Layer (No. of features ), 3 hidden layers including 10,8,6 unit & Output Layer with activation function relu/tanh (check by experiment).\n",
    "- Compilation Step (Note : Its a Regression problem , select loss , metrics according to it)\n",
    "- Train the Model with Epochs (100) and validate it\n",
    "- If the model gets overfit tune your model by changing the units , No. of layers , activation function , epochs , add dropout layer or add Regularizer according to the need .\n",
    "- Evaluation Step\n",
    "- Prediction\n"
   ]
  },
  {
   "cell_type": "markdown",
   "metadata": {},
   "source": [
    "# Load Data:\n",
    "[Click Here to Download DataSet](https://github.com/ramsha275/ML_Datasets/blob/main/compresive_strength_concrete.csv)"
   ]
  },
  {
   "cell_type": "code",
   "execution_count": 1,
   "metadata": {},
   "outputs": [],
   "source": [
    "import numpy as np\n",
    "import pandas as pd\n",
    "import seaborn as sns\n",
    "%matplotlib inline\n",
    "import matplotlib.pyplot as plt"
   ]
  },
  {
   "cell_type": "code",
   "execution_count": 2,
   "metadata": {},
   "outputs": [],
   "source": [
    "from tensorflow.keras.models import Sequential\n",
    "from tensorflow.keras.layers import Dense\n",
    "from tensorflow.keras.optimizers import Adam,SGD"
   ]
  },
  {
   "cell_type": "code",
   "execution_count": 3,
   "metadata": {},
   "outputs": [],
   "source": [
    "data = pd.read_csv('ML_Datasets/compresive_strength_concrete.csv')"
   ]
  },
  {
   "cell_type": "code",
   "execution_count": 4,
   "metadata": {},
   "outputs": [
    {
     "data": {
      "text/html": [
       "<div>\n",
       "<style scoped>\n",
       "    .dataframe tbody tr th:only-of-type {\n",
       "        vertical-align: middle;\n",
       "    }\n",
       "\n",
       "    .dataframe tbody tr th {\n",
       "        vertical-align: top;\n",
       "    }\n",
       "\n",
       "    .dataframe thead th {\n",
       "        text-align: right;\n",
       "    }\n",
       "</style>\n",
       "<table border=\"1\" class=\"dataframe\">\n",
       "  <thead>\n",
       "    <tr style=\"text-align: right;\">\n",
       "      <th></th>\n",
       "      <th>Cement (component 1)(kg in a m^3 mixture)</th>\n",
       "      <th>Blast Furnace Slag (component 2)(kg in a m^3 mixture)</th>\n",
       "      <th>Fly Ash (component 3)(kg in a m^3 mixture)</th>\n",
       "      <th>Water  (component 4)(kg in a m^3 mixture)</th>\n",
       "      <th>Superplasticizer (component 5)(kg in a m^3 mixture)</th>\n",
       "      <th>Coarse Aggregate  (component 6)(kg in a m^3 mixture)</th>\n",
       "      <th>Fine Aggregate (component 7)(kg in a m^3 mixture)</th>\n",
       "      <th>Age (day)</th>\n",
       "      <th>Concrete compressive strength(MPa, megapascals)</th>\n",
       "    </tr>\n",
       "  </thead>\n",
       "  <tbody>\n",
       "    <tr>\n",
       "      <th>0</th>\n",
       "      <td>540.0</td>\n",
       "      <td>0.0</td>\n",
       "      <td>0.0</td>\n",
       "      <td>162.0</td>\n",
       "      <td>2.5</td>\n",
       "      <td>1040.0</td>\n",
       "      <td>676.0</td>\n",
       "      <td>28</td>\n",
       "      <td>79.99</td>\n",
       "    </tr>\n",
       "    <tr>\n",
       "      <th>1</th>\n",
       "      <td>540.0</td>\n",
       "      <td>0.0</td>\n",
       "      <td>0.0</td>\n",
       "      <td>162.0</td>\n",
       "      <td>2.5</td>\n",
       "      <td>1055.0</td>\n",
       "      <td>676.0</td>\n",
       "      <td>28</td>\n",
       "      <td>61.89</td>\n",
       "    </tr>\n",
       "    <tr>\n",
       "      <th>2</th>\n",
       "      <td>332.5</td>\n",
       "      <td>142.5</td>\n",
       "      <td>0.0</td>\n",
       "      <td>228.0</td>\n",
       "      <td>0.0</td>\n",
       "      <td>932.0</td>\n",
       "      <td>594.0</td>\n",
       "      <td>270</td>\n",
       "      <td>40.27</td>\n",
       "    </tr>\n",
       "    <tr>\n",
       "      <th>3</th>\n",
       "      <td>332.5</td>\n",
       "      <td>142.5</td>\n",
       "      <td>0.0</td>\n",
       "      <td>228.0</td>\n",
       "      <td>0.0</td>\n",
       "      <td>932.0</td>\n",
       "      <td>594.0</td>\n",
       "      <td>365</td>\n",
       "      <td>41.05</td>\n",
       "    </tr>\n",
       "    <tr>\n",
       "      <th>4</th>\n",
       "      <td>198.6</td>\n",
       "      <td>132.4</td>\n",
       "      <td>0.0</td>\n",
       "      <td>192.0</td>\n",
       "      <td>0.0</td>\n",
       "      <td>978.4</td>\n",
       "      <td>825.5</td>\n",
       "      <td>360</td>\n",
       "      <td>44.30</td>\n",
       "    </tr>\n",
       "  </tbody>\n",
       "</table>\n",
       "</div>"
      ],
      "text/plain": [
       "   Cement (component 1)(kg in a m^3 mixture)  \\\n",
       "0                                      540.0   \n",
       "1                                      540.0   \n",
       "2                                      332.5   \n",
       "3                                      332.5   \n",
       "4                                      198.6   \n",
       "\n",
       "   Blast Furnace Slag (component 2)(kg in a m^3 mixture)  \\\n",
       "0                                                0.0       \n",
       "1                                                0.0       \n",
       "2                                              142.5       \n",
       "3                                              142.5       \n",
       "4                                              132.4       \n",
       "\n",
       "   Fly Ash (component 3)(kg in a m^3 mixture)  \\\n",
       "0                                         0.0   \n",
       "1                                         0.0   \n",
       "2                                         0.0   \n",
       "3                                         0.0   \n",
       "4                                         0.0   \n",
       "\n",
       "   Water  (component 4)(kg in a m^3 mixture)  \\\n",
       "0                                      162.0   \n",
       "1                                      162.0   \n",
       "2                                      228.0   \n",
       "3                                      228.0   \n",
       "4                                      192.0   \n",
       "\n",
       "   Superplasticizer (component 5)(kg in a m^3 mixture)  \\\n",
       "0                                                2.5     \n",
       "1                                                2.5     \n",
       "2                                                0.0     \n",
       "3                                                0.0     \n",
       "4                                                0.0     \n",
       "\n",
       "   Coarse Aggregate  (component 6)(kg in a m^3 mixture)  \\\n",
       "0                                             1040.0      \n",
       "1                                             1055.0      \n",
       "2                                              932.0      \n",
       "3                                              932.0      \n",
       "4                                              978.4      \n",
       "\n",
       "   Fine Aggregate (component 7)(kg in a m^3 mixture)  Age (day)  \\\n",
       "0                                              676.0         28   \n",
       "1                                              676.0         28   \n",
       "2                                              594.0        270   \n",
       "3                                              594.0        365   \n",
       "4                                              825.5        360   \n",
       "\n",
       "   Concrete compressive strength(MPa, megapascals)   \n",
       "0                                             79.99  \n",
       "1                                             61.89  \n",
       "2                                             40.27  \n",
       "3                                             41.05  \n",
       "4                                             44.30  "
      ]
     },
     "execution_count": 4,
     "metadata": {},
     "output_type": "execute_result"
    }
   ],
   "source": [
    "data.head()"
   ]
  },
  {
   "cell_type": "markdown",
   "metadata": {},
   "source": [
    "## Check Missing Values ( If Exist ; Fill each record with mean of its feature )"
   ]
  },
  {
   "cell_type": "code",
   "execution_count": 5,
   "metadata": {},
   "outputs": [
    {
     "data": {
      "text/plain": [
       "Cement (component 1)(kg in a m^3 mixture)                0\n",
       "Blast Furnace Slag (component 2)(kg in a m^3 mixture)    0\n",
       "Fly Ash (component 3)(kg in a m^3 mixture)               0\n",
       "Water  (component 4)(kg in a m^3 mixture)                0\n",
       "Superplasticizer (component 5)(kg in a m^3 mixture)      0\n",
       "Coarse Aggregate  (component 6)(kg in a m^3 mixture)     0\n",
       "Fine Aggregate (component 7)(kg in a m^3 mixture)        0\n",
       "Age (day)                                                0\n",
       "Concrete compressive strength(MPa, megapascals)          0\n",
       "dtype: int64"
      ]
     },
     "execution_count": 5,
     "metadata": {},
     "output_type": "execute_result"
    }
   ],
   "source": [
    "#Checking for 'null' values\n",
    "data.isna().sum()"
   ]
  },
  {
   "cell_type": "code",
   "execution_count": 6,
   "metadata": {},
   "outputs": [
    {
     "data": {
      "text/plain": [
       "Cement (component 1)(kg in a m^3 mixture)                0\n",
       "Blast Furnace Slag (component 2)(kg in a m^3 mixture)    0\n",
       "Fly Ash (component 3)(kg in a m^3 mixture)               0\n",
       "Water  (component 4)(kg in a m^3 mixture)                0\n",
       "Superplasticizer (component 5)(kg in a m^3 mixture)      0\n",
       "Coarse Aggregate  (component 6)(kg in a m^3 mixture)     0\n",
       "Fine Aggregate (component 7)(kg in a m^3 mixture)        0\n",
       "Age (day)                                                0\n",
       "Concrete compressive strength(MPa, megapascals)          0\n",
       "dtype: int64"
      ]
     },
     "execution_count": 6,
     "metadata": {},
     "output_type": "execute_result"
    }
   ],
   "source": [
    "data.isnull().sum()"
   ]
  },
  {
   "cell_type": "code",
   "execution_count": 7,
   "metadata": {},
   "outputs": [
    {
     "data": {
      "text/html": [
       "<div>\n",
       "<style scoped>\n",
       "    .dataframe tbody tr th:only-of-type {\n",
       "        vertical-align: middle;\n",
       "    }\n",
       "\n",
       "    .dataframe tbody tr th {\n",
       "        vertical-align: top;\n",
       "    }\n",
       "\n",
       "    .dataframe thead th {\n",
       "        text-align: right;\n",
       "    }\n",
       "</style>\n",
       "<table border=\"1\" class=\"dataframe\">\n",
       "  <thead>\n",
       "    <tr style=\"text-align: right;\">\n",
       "      <th></th>\n",
       "      <th>Cement (component 1)(kg in a m^3 mixture)</th>\n",
       "      <th>Blast Furnace Slag (component 2)(kg in a m^3 mixture)</th>\n",
       "      <th>Fly Ash (component 3)(kg in a m^3 mixture)</th>\n",
       "      <th>Water  (component 4)(kg in a m^3 mixture)</th>\n",
       "      <th>Superplasticizer (component 5)(kg in a m^3 mixture)</th>\n",
       "      <th>Coarse Aggregate  (component 6)(kg in a m^3 mixture)</th>\n",
       "      <th>Fine Aggregate (component 7)(kg in a m^3 mixture)</th>\n",
       "      <th>Age (day)</th>\n",
       "      <th>Concrete compressive strength(MPa, megapascals)</th>\n",
       "    </tr>\n",
       "  </thead>\n",
       "  <tbody>\n",
       "    <tr>\n",
       "      <th>count</th>\n",
       "      <td>1030.000000</td>\n",
       "      <td>1030.000000</td>\n",
       "      <td>1030.000000</td>\n",
       "      <td>1030.000000</td>\n",
       "      <td>1030.000000</td>\n",
       "      <td>1030.000000</td>\n",
       "      <td>1030.000000</td>\n",
       "      <td>1030.000000</td>\n",
       "      <td>1030.000000</td>\n",
       "    </tr>\n",
       "    <tr>\n",
       "      <th>mean</th>\n",
       "      <td>281.167864</td>\n",
       "      <td>73.895825</td>\n",
       "      <td>54.188350</td>\n",
       "      <td>181.567282</td>\n",
       "      <td>6.204660</td>\n",
       "      <td>972.918932</td>\n",
       "      <td>773.580485</td>\n",
       "      <td>45.662136</td>\n",
       "      <td>35.817961</td>\n",
       "    </tr>\n",
       "    <tr>\n",
       "      <th>std</th>\n",
       "      <td>104.506364</td>\n",
       "      <td>86.279342</td>\n",
       "      <td>63.997004</td>\n",
       "      <td>21.354219</td>\n",
       "      <td>5.973841</td>\n",
       "      <td>77.753954</td>\n",
       "      <td>80.175980</td>\n",
       "      <td>63.169912</td>\n",
       "      <td>16.705742</td>\n",
       "    </tr>\n",
       "    <tr>\n",
       "      <th>min</th>\n",
       "      <td>102.000000</td>\n",
       "      <td>0.000000</td>\n",
       "      <td>0.000000</td>\n",
       "      <td>121.800000</td>\n",
       "      <td>0.000000</td>\n",
       "      <td>801.000000</td>\n",
       "      <td>594.000000</td>\n",
       "      <td>1.000000</td>\n",
       "      <td>2.330000</td>\n",
       "    </tr>\n",
       "    <tr>\n",
       "      <th>25%</th>\n",
       "      <td>192.375000</td>\n",
       "      <td>0.000000</td>\n",
       "      <td>0.000000</td>\n",
       "      <td>164.900000</td>\n",
       "      <td>0.000000</td>\n",
       "      <td>932.000000</td>\n",
       "      <td>730.950000</td>\n",
       "      <td>7.000000</td>\n",
       "      <td>23.710000</td>\n",
       "    </tr>\n",
       "    <tr>\n",
       "      <th>50%</th>\n",
       "      <td>272.900000</td>\n",
       "      <td>22.000000</td>\n",
       "      <td>0.000000</td>\n",
       "      <td>185.000000</td>\n",
       "      <td>6.400000</td>\n",
       "      <td>968.000000</td>\n",
       "      <td>779.500000</td>\n",
       "      <td>28.000000</td>\n",
       "      <td>34.445000</td>\n",
       "    </tr>\n",
       "    <tr>\n",
       "      <th>75%</th>\n",
       "      <td>350.000000</td>\n",
       "      <td>142.950000</td>\n",
       "      <td>118.300000</td>\n",
       "      <td>192.000000</td>\n",
       "      <td>10.200000</td>\n",
       "      <td>1029.400000</td>\n",
       "      <td>824.000000</td>\n",
       "      <td>56.000000</td>\n",
       "      <td>46.135000</td>\n",
       "    </tr>\n",
       "    <tr>\n",
       "      <th>max</th>\n",
       "      <td>540.000000</td>\n",
       "      <td>359.400000</td>\n",
       "      <td>200.100000</td>\n",
       "      <td>247.000000</td>\n",
       "      <td>32.200000</td>\n",
       "      <td>1145.000000</td>\n",
       "      <td>992.600000</td>\n",
       "      <td>365.000000</td>\n",
       "      <td>82.600000</td>\n",
       "    </tr>\n",
       "  </tbody>\n",
       "</table>\n",
       "</div>"
      ],
      "text/plain": [
       "       Cement (component 1)(kg in a m^3 mixture)  \\\n",
       "count                                1030.000000   \n",
       "mean                                  281.167864   \n",
       "std                                   104.506364   \n",
       "min                                   102.000000   \n",
       "25%                                   192.375000   \n",
       "50%                                   272.900000   \n",
       "75%                                   350.000000   \n",
       "max                                   540.000000   \n",
       "\n",
       "       Blast Furnace Slag (component 2)(kg in a m^3 mixture)  \\\n",
       "count                                        1030.000000       \n",
       "mean                                           73.895825       \n",
       "std                                            86.279342       \n",
       "min                                             0.000000       \n",
       "25%                                             0.000000       \n",
       "50%                                            22.000000       \n",
       "75%                                           142.950000       \n",
       "max                                           359.400000       \n",
       "\n",
       "       Fly Ash (component 3)(kg in a m^3 mixture)  \\\n",
       "count                                 1030.000000   \n",
       "mean                                    54.188350   \n",
       "std                                     63.997004   \n",
       "min                                      0.000000   \n",
       "25%                                      0.000000   \n",
       "50%                                      0.000000   \n",
       "75%                                    118.300000   \n",
       "max                                    200.100000   \n",
       "\n",
       "       Water  (component 4)(kg in a m^3 mixture)  \\\n",
       "count                                1030.000000   \n",
       "mean                                  181.567282   \n",
       "std                                    21.354219   \n",
       "min                                   121.800000   \n",
       "25%                                   164.900000   \n",
       "50%                                   185.000000   \n",
       "75%                                   192.000000   \n",
       "max                                   247.000000   \n",
       "\n",
       "       Superplasticizer (component 5)(kg in a m^3 mixture)  \\\n",
       "count                                        1030.000000     \n",
       "mean                                            6.204660     \n",
       "std                                             5.973841     \n",
       "min                                             0.000000     \n",
       "25%                                             0.000000     \n",
       "50%                                             6.400000     \n",
       "75%                                            10.200000     \n",
       "max                                            32.200000     \n",
       "\n",
       "       Coarse Aggregate  (component 6)(kg in a m^3 mixture)  \\\n",
       "count                                        1030.000000      \n",
       "mean                                          972.918932      \n",
       "std                                            77.753954      \n",
       "min                                           801.000000      \n",
       "25%                                           932.000000      \n",
       "50%                                           968.000000      \n",
       "75%                                          1029.400000      \n",
       "max                                          1145.000000      \n",
       "\n",
       "       Fine Aggregate (component 7)(kg in a m^3 mixture)    Age (day)  \\\n",
       "count                                        1030.000000  1030.000000   \n",
       "mean                                          773.580485    45.662136   \n",
       "std                                            80.175980    63.169912   \n",
       "min                                           594.000000     1.000000   \n",
       "25%                                           730.950000     7.000000   \n",
       "50%                                           779.500000    28.000000   \n",
       "75%                                           824.000000    56.000000   \n",
       "max                                           992.600000   365.000000   \n",
       "\n",
       "       Concrete compressive strength(MPa, megapascals)   \n",
       "count                                       1030.000000  \n",
       "mean                                          35.817961  \n",
       "std                                           16.705742  \n",
       "min                                            2.330000  \n",
       "25%                                           23.710000  \n",
       "50%                                           34.445000  \n",
       "75%                                           46.135000  \n",
       "max                                           82.600000  "
      ]
     },
     "execution_count": 7,
     "metadata": {},
     "output_type": "execute_result"
    }
   ],
   "source": [
    "data.describe()"
   ]
  },
  {
   "cell_type": "code",
   "execution_count": 8,
   "metadata": {},
   "outputs": [
    {
     "name": "stdout",
     "output_type": "stream",
     "text": [
      "<class 'pandas.core.frame.DataFrame'>\n",
      "RangeIndex: 1030 entries, 0 to 1029\n",
      "Data columns (total 9 columns):\n",
      " #   Column                                                 Non-Null Count  Dtype  \n",
      "---  ------                                                 --------------  -----  \n",
      " 0   Cement (component 1)(kg in a m^3 mixture)              1030 non-null   float64\n",
      " 1   Blast Furnace Slag (component 2)(kg in a m^3 mixture)  1030 non-null   float64\n",
      " 2   Fly Ash (component 3)(kg in a m^3 mixture)             1030 non-null   float64\n",
      " 3   Water  (component 4)(kg in a m^3 mixture)              1030 non-null   float64\n",
      " 4   Superplasticizer (component 5)(kg in a m^3 mixture)    1030 non-null   float64\n",
      " 5   Coarse Aggregate  (component 6)(kg in a m^3 mixture)   1030 non-null   float64\n",
      " 6   Fine Aggregate (component 7)(kg in a m^3 mixture)      1030 non-null   float64\n",
      " 7   Age (day)                                              1030 non-null   int64  \n",
      " 8   Concrete compressive strength(MPa, megapascals)        1030 non-null   float64\n",
      "dtypes: float64(8), int64(1)\n",
      "memory usage: 72.5 KB\n"
     ]
    }
   ],
   "source": [
    "data.info()"
   ]
  },
  {
   "cell_type": "code",
   "execution_count": 9,
   "metadata": {},
   "outputs": [
    {
     "data": {
      "text/plain": [
       "<Figure size 2016x2016 with 0 Axes>"
      ]
     },
     "execution_count": 9,
     "metadata": {},
     "output_type": "execute_result"
    },
    {
     "data": {
      "text/plain": [
       "<Figure size 2016x2016 with 0 Axes>"
      ]
     },
     "metadata": {},
     "output_type": "display_data"
    }
   ],
   "source": [
    "corr_data = data.corr()\n",
    "#print(corr_data)\n",
    "\n",
    "data_features = corr_data.index\n",
    "#print(data[data_features].corr())\n",
    "plt.figure(figsize= (28,28))\n",
    "#sns.heatmap(data[data_features].corr(),annot=True,cmap=\"YlGnBu\")"
   ]
  },
  {
   "cell_type": "markdown",
   "metadata": {},
   "source": [
    "### Split into 50% Training(Samples,Labels) , 30% Test(Samples,Labels) and 20% Validation Data(Samples,Labels)"
   ]
  },
  {
   "cell_type": "code",
   "execution_count": 10,
   "metadata": {},
   "outputs": [
    {
     "data": {
      "text/plain": [
       "Index(['Cement (component 1)(kg in a m^3 mixture)',\n",
       "       'Blast Furnace Slag (component 2)(kg in a m^3 mixture)',\n",
       "       'Fly Ash (component 3)(kg in a m^3 mixture)',\n",
       "       'Water  (component 4)(kg in a m^3 mixture)',\n",
       "       'Superplasticizer (component 5)(kg in a m^3 mixture)',\n",
       "       'Coarse Aggregate  (component 6)(kg in a m^3 mixture)',\n",
       "       'Fine Aggregate (component 7)(kg in a m^3 mixture)', 'Age (day)',\n",
       "       'Concrete compressive strength(MPa, megapascals) '],\n",
       "      dtype='object')"
      ]
     },
     "execution_count": 10,
     "metadata": {},
     "output_type": "execute_result"
    }
   ],
   "source": [
    "data.columns"
   ]
  },
  {
   "cell_type": "code",
   "execution_count": 11,
   "metadata": {},
   "outputs": [
    {
     "data": {
      "text/html": [
       "<div>\n",
       "<style scoped>\n",
       "    .dataframe tbody tr th:only-of-type {\n",
       "        vertical-align: middle;\n",
       "    }\n",
       "\n",
       "    .dataframe tbody tr th {\n",
       "        vertical-align: top;\n",
       "    }\n",
       "\n",
       "    .dataframe thead th {\n",
       "        text-align: right;\n",
       "    }\n",
       "</style>\n",
       "<table border=\"1\" class=\"dataframe\">\n",
       "  <thead>\n",
       "    <tr style=\"text-align: right;\">\n",
       "      <th></th>\n",
       "      <th>Cement (component 1)(kg in a m^3 mixture)</th>\n",
       "      <th>Blast Furnace Slag (component 2)(kg in a m^3 mixture)</th>\n",
       "      <th>Superplasticizer (component 5)(kg in a m^3 mixture)</th>\n",
       "      <th>Concrete compressive strength(MPa, megapascals)</th>\n",
       "    </tr>\n",
       "  </thead>\n",
       "  <tbody>\n",
       "    <tr>\n",
       "      <th>0</th>\n",
       "      <td>540.0</td>\n",
       "      <td>0.0</td>\n",
       "      <td>2.5</td>\n",
       "      <td>79.99</td>\n",
       "    </tr>\n",
       "    <tr>\n",
       "      <th>1</th>\n",
       "      <td>540.0</td>\n",
       "      <td>0.0</td>\n",
       "      <td>2.5</td>\n",
       "      <td>61.89</td>\n",
       "    </tr>\n",
       "    <tr>\n",
       "      <th>2</th>\n",
       "      <td>332.5</td>\n",
       "      <td>142.5</td>\n",
       "      <td>0.0</td>\n",
       "      <td>40.27</td>\n",
       "    </tr>\n",
       "    <tr>\n",
       "      <th>3</th>\n",
       "      <td>332.5</td>\n",
       "      <td>142.5</td>\n",
       "      <td>0.0</td>\n",
       "      <td>41.05</td>\n",
       "    </tr>\n",
       "    <tr>\n",
       "      <th>4</th>\n",
       "      <td>198.6</td>\n",
       "      <td>132.4</td>\n",
       "      <td>0.0</td>\n",
       "      <td>44.30</td>\n",
       "    </tr>\n",
       "  </tbody>\n",
       "</table>\n",
       "</div>"
      ],
      "text/plain": [
       "   Cement (component 1)(kg in a m^3 mixture)  \\\n",
       "0                                      540.0   \n",
       "1                                      540.0   \n",
       "2                                      332.5   \n",
       "3                                      332.5   \n",
       "4                                      198.6   \n",
       "\n",
       "   Blast Furnace Slag (component 2)(kg in a m^3 mixture)  \\\n",
       "0                                                0.0       \n",
       "1                                                0.0       \n",
       "2                                              142.5       \n",
       "3                                              142.5       \n",
       "4                                              132.4       \n",
       "\n",
       "   Superplasticizer (component 5)(kg in a m^3 mixture)  \\\n",
       "0                                                2.5     \n",
       "1                                                2.5     \n",
       "2                                                0.0     \n",
       "3                                                0.0     \n",
       "4                                                0.0     \n",
       "\n",
       "   Concrete compressive strength(MPa, megapascals)   \n",
       "0                                             79.99  \n",
       "1                                             61.89  \n",
       "2                                             40.27  \n",
       "3                                             41.05  \n",
       "4                                             44.30  "
      ]
     },
     "execution_count": 11,
     "metadata": {},
     "output_type": "execute_result"
    }
   ],
   "source": [
    "Valueable_cols = ['Cement (component 1)(kg in a m^3 mixture)',\n",
    "       'Blast Furnace Slag (component 2)(kg in a m^3 mixture)',\n",
    "       'Superplasticizer (component 5)(kg in a m^3 mixture)',\n",
    "       'Concrete compressive strength(MPa, megapascals) ']\n",
    "Valueable_data = data[Valueable_cols]\n",
    "Valueable_data.head()"
   ]
  },
  {
   "cell_type": "code",
   "execution_count": 12,
   "metadata": {},
   "outputs": [],
   "source": [
    "x = (Valueable_data.iloc[:,:-1])\n",
    "y = (Valueable_data.iloc[:,-1])"
   ]
  },
  {
   "cell_type": "code",
   "execution_count": 13,
   "metadata": {},
   "outputs": [
    {
     "data": {
      "text/html": [
       "<div>\n",
       "<style scoped>\n",
       "    .dataframe tbody tr th:only-of-type {\n",
       "        vertical-align: middle;\n",
       "    }\n",
       "\n",
       "    .dataframe tbody tr th {\n",
       "        vertical-align: top;\n",
       "    }\n",
       "\n",
       "    .dataframe thead th {\n",
       "        text-align: right;\n",
       "    }\n",
       "</style>\n",
       "<table border=\"1\" class=\"dataframe\">\n",
       "  <thead>\n",
       "    <tr style=\"text-align: right;\">\n",
       "      <th></th>\n",
       "      <th>Cement (component 1)(kg in a m^3 mixture)</th>\n",
       "      <th>Blast Furnace Slag (component 2)(kg in a m^3 mixture)</th>\n",
       "      <th>Superplasticizer (component 5)(kg in a m^3 mixture)</th>\n",
       "    </tr>\n",
       "  </thead>\n",
       "  <tbody>\n",
       "    <tr>\n",
       "      <th>0</th>\n",
       "      <td>540.0</td>\n",
       "      <td>0.0</td>\n",
       "      <td>2.5</td>\n",
       "    </tr>\n",
       "    <tr>\n",
       "      <th>1</th>\n",
       "      <td>540.0</td>\n",
       "      <td>0.0</td>\n",
       "      <td>2.5</td>\n",
       "    </tr>\n",
       "    <tr>\n",
       "      <th>2</th>\n",
       "      <td>332.5</td>\n",
       "      <td>142.5</td>\n",
       "      <td>0.0</td>\n",
       "    </tr>\n",
       "    <tr>\n",
       "      <th>3</th>\n",
       "      <td>332.5</td>\n",
       "      <td>142.5</td>\n",
       "      <td>0.0</td>\n",
       "    </tr>\n",
       "    <tr>\n",
       "      <th>4</th>\n",
       "      <td>198.6</td>\n",
       "      <td>132.4</td>\n",
       "      <td>0.0</td>\n",
       "    </tr>\n",
       "    <tr>\n",
       "      <th>...</th>\n",
       "      <td>...</td>\n",
       "      <td>...</td>\n",
       "      <td>...</td>\n",
       "    </tr>\n",
       "    <tr>\n",
       "      <th>1025</th>\n",
       "      <td>276.4</td>\n",
       "      <td>116.0</td>\n",
       "      <td>8.9</td>\n",
       "    </tr>\n",
       "    <tr>\n",
       "      <th>1026</th>\n",
       "      <td>322.2</td>\n",
       "      <td>0.0</td>\n",
       "      <td>10.4</td>\n",
       "    </tr>\n",
       "    <tr>\n",
       "      <th>1027</th>\n",
       "      <td>148.5</td>\n",
       "      <td>139.4</td>\n",
       "      <td>6.1</td>\n",
       "    </tr>\n",
       "    <tr>\n",
       "      <th>1028</th>\n",
       "      <td>159.1</td>\n",
       "      <td>186.7</td>\n",
       "      <td>11.3</td>\n",
       "    </tr>\n",
       "    <tr>\n",
       "      <th>1029</th>\n",
       "      <td>260.9</td>\n",
       "      <td>100.5</td>\n",
       "      <td>8.6</td>\n",
       "    </tr>\n",
       "  </tbody>\n",
       "</table>\n",
       "<p>1030 rows × 3 columns</p>\n",
       "</div>"
      ],
      "text/plain": [
       "      Cement (component 1)(kg in a m^3 mixture)  \\\n",
       "0                                         540.0   \n",
       "1                                         540.0   \n",
       "2                                         332.5   \n",
       "3                                         332.5   \n",
       "4                                         198.6   \n",
       "...                                         ...   \n",
       "1025                                      276.4   \n",
       "1026                                      322.2   \n",
       "1027                                      148.5   \n",
       "1028                                      159.1   \n",
       "1029                                      260.9   \n",
       "\n",
       "      Blast Furnace Slag (component 2)(kg in a m^3 mixture)  \\\n",
       "0                                                   0.0       \n",
       "1                                                   0.0       \n",
       "2                                                 142.5       \n",
       "3                                                 142.5       \n",
       "4                                                 132.4       \n",
       "...                                                 ...       \n",
       "1025                                              116.0       \n",
       "1026                                                0.0       \n",
       "1027                                              139.4       \n",
       "1028                                              186.7       \n",
       "1029                                              100.5       \n",
       "\n",
       "      Superplasticizer (component 5)(kg in a m^3 mixture)  \n",
       "0                                                   2.5    \n",
       "1                                                   2.5    \n",
       "2                                                   0.0    \n",
       "3                                                   0.0    \n",
       "4                                                   0.0    \n",
       "...                                                 ...    \n",
       "1025                                                8.9    \n",
       "1026                                               10.4    \n",
       "1027                                                6.1    \n",
       "1028                                               11.3    \n",
       "1029                                                8.6    \n",
       "\n",
       "[1030 rows x 3 columns]"
      ]
     },
     "execution_count": 13,
     "metadata": {},
     "output_type": "execute_result"
    }
   ],
   "source": [
    "x"
   ]
  },
  {
   "cell_type": "code",
   "execution_count": 14,
   "metadata": {},
   "outputs": [],
   "source": [
    "## Split into 50% Training(Samples,Labels) , 30% Test(Samples,Labels) and 20% Validation Data(Samples,Labels).\n",
    "#train = Valueable_data.sample(frac=0.70, random_state=325)\n",
    "## you can't simply split 0.70 and 0.30 without overlapping\n",
    "## this code tries to find that train = 70% and test = 30%\n",
    "#test = Valueable_data.loc[~Valueable_data.index.isin(train.index), :]\n",
    "#xtrain = train.iloc[:,:-1]\n",
    "#ytrain = train.iloc[:,-1]\n",
    "\n",
    "#xtest = test.iloc[:,:-1]\n",
    "#ytest = test.iloc[:,-1]"
   ]
  },
  {
   "cell_type": "code",
   "execution_count": 15,
   "metadata": {},
   "outputs": [],
   "source": [
    "from sklearn.model_selection import train_test_split\n",
    "xtrain, xtest, ytrain,ytest = train_test_split(x,y,test_size=0.30,random_state=55)"
   ]
  },
  {
   "cell_type": "code",
   "execution_count": 16,
   "metadata": {},
   "outputs": [],
   "source": [
    "#X = data.iloc[:,:-1]         # Features - All columns but last\n",
    "#y = data.iloc[:,-1]          # Target - Last Column"
   ]
  },
  {
   "cell_type": "code",
   "execution_count": 17,
   "metadata": {},
   "outputs": [
    {
     "name": "stdout",
     "output_type": "stream",
     "text": [
      "(721, 3)\n",
      "(721,)\n",
      "(309, 3)\n",
      "(309, 3)\n"
     ]
    }
   ],
   "source": [
    "\n",
    "print(xtrain.shape)\n",
    "print(ytrain.shape)\n",
    "\n",
    "print(xtest.shape)\n",
    "print(xtest.shape)"
   ]
  },
  {
   "cell_type": "code",
   "execution_count": 18,
   "metadata": {},
   "outputs": [
    {
     "name": "stdout",
     "output_type": "stream",
     "text": [
      "=====mean====\n",
      "Cement (component 1)(kg in a m^3 mixture)                282.836893\n",
      "Blast Furnace Slag (component 2)(kg in a m^3 mixture)     76.190014\n",
      "Superplasticizer (component 5)(kg in a m^3 mixture)        6.203051\n",
      "dtype: float64\n",
      "=====std====\n",
      "Cement (component 1)(kg in a m^3 mixture)                104.165965\n",
      "Blast Furnace Slag (component 2)(kg in a m^3 mixture)     85.694216\n",
      "Superplasticizer (component 5)(kg in a m^3 mixture)        5.926941\n",
      "dtype: float64\n"
     ]
    }
   ],
   "source": [
    "\n",
    "#Normalize\n",
    "mean = xtrain.mean(axis=0)\n",
    "xtrain -= mean\n",
    "std = xtrain.std(axis=0)\n",
    "xtrain /= std\n",
    "xtest -= mean\n",
    "xtest /= std\n",
    "\n",
    "print('=====mean====')\n",
    "print(mean)\n",
    "print('=====std====')\n",
    "print(std)"
   ]
  },
  {
   "cell_type": "code",
   "execution_count": 19,
   "metadata": {},
   "outputs": [
    {
     "data": {
      "text/html": [
       "<div>\n",
       "<style scoped>\n",
       "    .dataframe tbody tr th:only-of-type {\n",
       "        vertical-align: middle;\n",
       "    }\n",
       "\n",
       "    .dataframe tbody tr th {\n",
       "        vertical-align: top;\n",
       "    }\n",
       "\n",
       "    .dataframe thead th {\n",
       "        text-align: right;\n",
       "    }\n",
       "</style>\n",
       "<table border=\"1\" class=\"dataframe\">\n",
       "  <thead>\n",
       "    <tr style=\"text-align: right;\">\n",
       "      <th></th>\n",
       "      <th>Cement (component 1)(kg in a m^3 mixture)</th>\n",
       "      <th>Blast Furnace Slag (component 2)(kg in a m^3 mixture)</th>\n",
       "      <th>Superplasticizer (component 5)(kg in a m^3 mixture)</th>\n",
       "    </tr>\n",
       "  </thead>\n",
       "  <tbody>\n",
       "    <tr>\n",
       "      <th>448</th>\n",
       "      <td>-1.108202</td>\n",
       "      <td>0.626763</td>\n",
       "      <td>0.269439</td>\n",
       "    </tr>\n",
       "    <tr>\n",
       "      <th>78</th>\n",
       "      <td>1.015333</td>\n",
       "      <td>0.244007</td>\n",
       "      <td>0.994940</td>\n",
       "    </tr>\n",
       "    <tr>\n",
       "      <th>450</th>\n",
       "      <td>-1.049641</td>\n",
       "      <td>-0.304455</td>\n",
       "      <td>0.050102</td>\n",
       "    </tr>\n",
       "    <tr>\n",
       "      <th>498</th>\n",
       "      <td>0.692770</td>\n",
       "      <td>-0.667373</td>\n",
       "      <td>1.028684</td>\n",
       "    </tr>\n",
       "    <tr>\n",
       "      <th>941</th>\n",
       "      <td>-1.437484</td>\n",
       "      <td>1.563816</td>\n",
       "      <td>-0.523550</td>\n",
       "    </tr>\n",
       "  </tbody>\n",
       "</table>\n",
       "</div>"
      ],
      "text/plain": [
       "     Cement (component 1)(kg in a m^3 mixture)  \\\n",
       "448                                  -1.108202   \n",
       "78                                    1.015333   \n",
       "450                                  -1.049641   \n",
       "498                                   0.692770   \n",
       "941                                  -1.437484   \n",
       "\n",
       "     Blast Furnace Slag (component 2)(kg in a m^3 mixture)  \\\n",
       "448                                           0.626763       \n",
       "78                                            0.244007       \n",
       "450                                          -0.304455       \n",
       "498                                          -0.667373       \n",
       "941                                           1.563816       \n",
       "\n",
       "     Superplasticizer (component 5)(kg in a m^3 mixture)  \n",
       "448                                           0.269439    \n",
       "78                                            0.994940    \n",
       "450                                           0.050102    \n",
       "498                                           1.028684    \n",
       "941                                          -0.523550    "
      ]
     },
     "execution_count": 19,
     "metadata": {},
     "output_type": "execute_result"
    }
   ],
   "source": [
    "xtrain.head()"
   ]
  },
  {
   "cell_type": "code",
   "execution_count": 20,
   "metadata": {},
   "outputs": [
    {
     "name": "stdout",
     "output_type": "stream",
     "text": [
      "<class 'pandas.core.frame.DataFrame'>\n",
      "Int64Index: 721 entries, 448 to 461\n",
      "Data columns (total 3 columns):\n",
      " #   Column                                                 Non-Null Count  Dtype  \n",
      "---  ------                                                 --------------  -----  \n",
      " 0   Cement (component 1)(kg in a m^3 mixture)              721 non-null    float64\n",
      " 1   Blast Furnace Slag (component 2)(kg in a m^3 mixture)  721 non-null    float64\n",
      " 2   Superplasticizer (component 5)(kg in a m^3 mixture)    721 non-null    float64\n",
      "dtypes: float64(3)\n",
      "memory usage: 22.5 KB\n"
     ]
    }
   ],
   "source": [
    "xtrain.info()"
   ]
  },
  {
   "cell_type": "markdown",
   "metadata": {},
   "source": [
    "#### Model : input Layer (No. of features ), 3 hidden layers including 10,8,6 unit & Output Layer with activation function relu/tanh (check by experiment)."
   ]
  },
  {
   "cell_type": "code",
   "execution_count": 21,
   "metadata": {},
   "outputs": [
    {
     "name": "stdout",
     "output_type": "stream",
     "text": [
      "No. of features =  3\n"
     ]
    }
   ],
   "source": [
    "print('No. of features = ',xtrain.shape[1])"
   ]
  },
  {
   "cell_type": "code",
   "execution_count": 22,
   "metadata": {},
   "outputs": [],
   "source": [
    "def build_model():\n",
    "    model = Sequential()\n",
    "    model.add(Dense(10, activation='relu',\n",
    "                           input_shape=(xtrain.shape[1],)))\n",
    "    #model.add(Dense(32, activation='relu'))\n",
    "    #model.add(Dense(10, activation='tanh'))\n",
    "    model.add(Dense(8, activation='relu'))\n",
    "    model.add(Dense(6, activation='relu'))\n",
    "    model.add(Dense(1))\n",
    "    model.compile(optimizer='rmsprop', loss='mse', metrics=['mae'])\n",
    "    return model"
   ]
  },
  {
   "cell_type": "code",
   "execution_count": null,
   "metadata": {},
   "outputs": [],
   "source": []
  },
  {
   "cell_type": "markdown",
   "metadata": {},
   "source": [
    "### Train the Model with Epochs (100) and validate it"
   ]
  },
  {
   "cell_type": "code",
   "execution_count": null,
   "metadata": {},
   "outputs": [],
   "source": [
    "##k fold validation with relu\n",
    "#k = 4\n",
    "#num_val_samples = len(xtrain) // k\n",
    "#num_epochs = 100\n",
    "#all_scores = []\n",
    "#\n",
    "#for i in range(k):\n",
    "#    print('processing fold #', i)\n",
    "#    val_data = xtrain[i * num_val_samples: (i + 1) * num_val_samples]\n",
    "#    val_targets = ytrain[i * num_val_samples: (i + 1) * num_val_samples]\n",
    "#    print('num_val_samples = ',num_val_samples,',val_data = xtrain[',i * num_val_samples,':',(i + 1) * num_val_samples,']')\n",
    "#    partial_train_data = np.concatenate(\n",
    "#        [xtrain[:i * num_val_samples],xtrain[(i + 1) * num_val_samples:]],axis=0)\n",
    "#    partial_train_targets = np.concatenate([ytrain[:i * num_val_samples],\n",
    "#                                            ytrain[(i + 1) * num_val_samples:]],axis=0)\n",
    "#    model = build_model()\n",
    "#    model.fit(partial_train_data, partial_train_targets,\n",
    "#              epochs=num_epochs, batch_size=1, verbose=0)\n",
    "#    val_mse, val_mae = model.evaluate(val_data, val_targets, verbose=0)\n",
    "#    all_scores.append(val_mae)"
   ]
  },
  {
   "cell_type": "code",
   "execution_count": null,
   "metadata": {},
   "outputs": [],
   "source": [
    "#all_scores"
   ]
  },
  {
   "cell_type": "code",
   "execution_count": null,
   "metadata": {},
   "outputs": [],
   "source": [
    "#np.mean(all_scores)"
   ]
  },
  {
   "cell_type": "code",
   "execution_count": null,
   "metadata": {},
   "outputs": [],
   "source": [
    "#k = 4\n",
    "#num_val_samples = len(train_data) // k\n",
    "#num_epochs = 100\n",
    "#all_mae_histories = []\n",
    "#for i in range(k):\n",
    "#    print('processing fold #', i)\n",
    "#    val_data = train_data[i * num_val_samples: (i + 1) * num_val_samples]\n",
    "#    val_targets = train_targets[i * num_val_samples: (i + 1) * num_val_samples]\n",
    "#    partial_train_data = np.concatenate(\n",
    "#        [train_data[:i * num_val_samples],train_data[(i + 1) * num_val_samples:]],axis=0)\n",
    "#    partial_train_targets = np.concatenate([train_targets[:i * num_val_samples],\n",
    "#                                            train_targets[(i + 1) * num_val_samples:]],axis=0)\n",
    "#    model = build_model()\n",
    "#    history = model.fit(partial_train_data, partial_train_targets,\n",
    "#                        validation_data=(val_data, val_targets),\n",
    "#                        epochs=num_epochs, batch_size=1, verbose=0)\n",
    "#    mae_history = history.history['val_mae']\n",
    "#    all_mae_histories.append(mae_history)\n"
   ]
  },
  {
   "cell_type": "code",
   "execution_count": null,
   "metadata": {},
   "outputs": [],
   "source": [
    "#average_mae_history = [np.mean([x[i] for x in all_mae_histories]) for i in range(num_epochs)]"
   ]
  },
  {
   "cell_type": "code",
   "execution_count": null,
   "metadata": {
    "scrolled": true
   },
   "outputs": [],
   "source": [
    "#import matplotlib.pyplot as plt\n",
    "#plt.plot(range(1, len(average_mae_history) + 1), average_mae_history)\n",
    "#plt.xlabel('Epochs')\n",
    "#plt.ylabel('Validation MAE')\n",
    "#plt.show()"
   ]
  },
  {
   "cell_type": "code",
   "execution_count": 23,
   "metadata": {},
   "outputs": [
    {
     "name": "stdout",
     "output_type": "stream",
     "text": [
      "Model: \"sequential\"\n",
      "_________________________________________________________________\n",
      "Layer (type)                 Output Shape              Param #   \n",
      "=================================================================\n",
      "dense (Dense)                (None, 10)                40        \n",
      "_________________________________________________________________\n",
      "dense_1 (Dense)              (None, 8)                 88        \n",
      "_________________________________________________________________\n",
      "dense_2 (Dense)              (None, 6)                 54        \n",
      "_________________________________________________________________\n",
      "dense_3 (Dense)              (None, 1)                 7         \n",
      "=================================================================\n",
      "Total params: 189\n",
      "Trainable params: 189\n",
      "Non-trainable params: 0\n",
      "_________________________________________________________________\n"
     ]
    }
   ],
   "source": [
    "model_relu = build_model()\n",
    "model_relu.summary()"
   ]
  },
  {
   "cell_type": "code",
   "execution_count": 26,
   "metadata": {
    "scrolled": false
   },
   "outputs": [
    {
     "name": "stdout",
     "output_type": "stream",
     "text": [
      "Epoch 1/25\n",
      "96/96 [==============================] - 5s 23ms/step - loss: 147.8786 - mae: 9.7412 - val_loss: 161.2795 - val_mae: 10.2887\n",
      "Epoch 2/25\n",
      "96/96 [==============================] - 1s 12ms/step - loss: 146.5230 - mae: 9.6848 - val_loss: 159.9616 - val_mae: 10.2633\n",
      "Epoch 3/25\n",
      "96/96 [==============================] - 1s 12ms/step - loss: 146.5974 - mae: 9.7270 - val_loss: 160.0121 - val_mae: 10.2523\n",
      "Epoch 4/25\n",
      "96/96 [==============================] - 1s 12ms/step - loss: 145.9168 - mae: 9.6856 - val_loss: 159.4178 - val_mae: 10.2306\n",
      "Epoch 5/25\n",
      "96/96 [==============================] - 1s 9ms/step - loss: 145.8258 - mae: 9.7034 - val_loss: 159.0734 - val_mae: 10.2171\n",
      "Epoch 6/25\n",
      "96/96 [==============================] - 1s 11ms/step - loss: 145.1382 - mae: 9.6496 - val_loss: 158.3345 - val_mae: 10.2047\n",
      "Epoch 7/25\n",
      "96/96 [==============================] - 1s 9ms/step - loss: 144.2699 - mae: 9.6462 - val_loss: 159.9971 - val_mae: 10.2550\n",
      "Epoch 8/25\n",
      "96/96 [==============================] - 1s 11ms/step - loss: 144.3892 - mae: 9.6572 - val_loss: 158.8820 - val_mae: 10.2127\n",
      "Epoch 9/25\n",
      "96/96 [==============================] - 1s 13ms/step - loss: 143.9393 - mae: 9.6155 - val_loss: 157.9821 - val_mae: 10.1999\n",
      "Epoch 10/25\n",
      "96/96 [==============================] - 1s 13ms/step - loss: 143.9184 - mae: 9.6252 - val_loss: 158.4242 - val_mae: 10.1949\n",
      "Epoch 11/25\n",
      "96/96 [==============================] - 1s 10ms/step - loss: 143.3361 - mae: 9.5950 - val_loss: 157.7655 - val_mae: 10.1797\n",
      "Epoch 12/25\n",
      "96/96 [==============================] - 1s 10ms/step - loss: 143.0778 - mae: 9.5897 - val_loss: 158.1894 - val_mae: 10.2033\n",
      "Epoch 13/25\n",
      "96/96 [==============================] - 1s 12ms/step - loss: 142.6552 - mae: 9.5734 - val_loss: 157.4939 - val_mae: 10.1825\n",
      "Epoch 14/25\n",
      "96/96 [==============================] - 1s 12ms/step - loss: 142.4248 - mae: 9.5920 - val_loss: 158.2049 - val_mae: 10.2082\n",
      "Epoch 15/25\n",
      "96/96 [==============================] - 1s 13ms/step - loss: 142.0957 - mae: 9.5433 - val_loss: 157.4932 - val_mae: 10.1696\n",
      "Epoch 16/25\n",
      "96/96 [==============================] - 1s 11ms/step - loss: 141.8366 - mae: 9.5687 - val_loss: 156.9589 - val_mae: 10.1898\n",
      "Epoch 17/25\n",
      "96/96 [==============================] - 1s 11ms/step - loss: 141.5224 - mae: 9.5759 - val_loss: 157.0844 - val_mae: 10.1741\n",
      "Epoch 18/25\n",
      "96/96 [==============================] - 1s 11ms/step - loss: 141.2303 - mae: 9.5646 - val_loss: 156.9205 - val_mae: 10.1869\n",
      "Epoch 19/25\n",
      "96/96 [==============================] - 1s 12ms/step - loss: 140.8445 - mae: 9.5238 - val_loss: 157.8121 - val_mae: 10.2111\n",
      "Epoch 20/25\n",
      "96/96 [==============================] - 1s 11ms/step - loss: 140.9546 - mae: 9.5148 - val_loss: 157.5046 - val_mae: 10.1502\n",
      "Epoch 21/25\n",
      "96/96 [==============================] - 1s 10ms/step - loss: 140.6954 - mae: 9.5298 - val_loss: 156.7868 - val_mae: 10.1752\n",
      "Epoch 22/25\n",
      "96/96 [==============================] - 1s 11ms/step - loss: 140.1149 - mae: 9.4895 - val_loss: 155.1344 - val_mae: 10.1428\n",
      "Epoch 23/25\n",
      "96/96 [==============================] - 1s 14ms/step - loss: 140.3974 - mae: 9.5390 - val_loss: 156.5342 - val_mae: 10.1510\n",
      "Epoch 24/25\n",
      "96/96 [==============================] - 1s 9ms/step - loss: 139.8097 - mae: 9.4897 - val_loss: 155.7042 - val_mae: 10.1409\n",
      "Epoch 25/25\n",
      "96/96 [==============================] - 1s 11ms/step - loss: 139.7913 - mae: 9.5316 - val_loss: 157.5594 - val_mae: 10.1927\n"
     ]
    }
   ],
   "source": [
    "history = model_relu.fit(xtrain, ytrain,epochs= 25, batch_size=6, validation_split=0.2)"
   ]
  },
  {
   "cell_type": "markdown",
   "metadata": {},
   "source": [
    "## Evaluation Step"
   ]
  },
  {
   "cell_type": "code",
   "execution_count": 28,
   "metadata": {},
   "outputs": [
    {
     "name": "stdout",
     "output_type": "stream",
     "text": [
      "10/10 [==============================] - 0s 4ms/step - loss: 167.8125 - mae: 10.4338\n"
     ]
    }
   ],
   "source": [
    "test_mse_score, test_mae_score = model_relu.evaluate(xtest, ytest)"
   ]
  },
  {
   "cell_type": "code",
   "execution_count": 29,
   "metadata": {},
   "outputs": [
    {
     "data": {
      "text/plain": [
       "dict_keys(['loss', 'mae', 'val_loss', 'val_mae'])"
      ]
     },
     "execution_count": 29,
     "metadata": {},
     "output_type": "execute_result"
    }
   ],
   "source": [
    "history.history.keys()"
   ]
  },
  {
   "cell_type": "code",
   "execution_count": 30,
   "metadata": {},
   "outputs": [],
   "source": [
    "val_mae = history.history['val_mae']\n",
    "val_loss = history.history['val_loss']"
   ]
  },
  {
   "cell_type": "code",
   "execution_count": 31,
   "metadata": {},
   "outputs": [
    {
     "data": {
      "image/png": "[encoded data removed]",
      "text/plain": [
       "<Figure size 432x288 with 1 Axes>"
      ]
     },
     "metadata": {
      "needs_background": "light"
     },
     "output_type": "display_data"
    }
   ],
   "source": [
    "history_dict = history.history\n",
    "loss_values = history_dict['loss']\n",
    "val_loss_values = history_dict['val_loss']\n",
    "epochs = range(len(history_dict['loss']))\n",
    "plt.plot(epochs, loss_values, 'bo', label='Training loss')\n",
    "plt.plot(epochs, val_loss_values, 'b', label='Validation loss')\n",
    "plt.title('Training and validation loss')\n",
    "plt.xlabel('Epochs')\n",
    "plt.ylabel('Loss')\n",
    "plt.legend()\n",
    "plt.show()"
   ]
  },
  {
   "cell_type": "code",
   "execution_count": 32,
   "metadata": {},
   "outputs": [],
   "source": [
    "y_predict = model_relu.predict(xtest)"
   ]
  },
  {
   "cell_type": "code",
   "execution_count": 33,
   "metadata": {},
   "outputs": [
    {
     "data": {
      "text/plain": [
       "array([[25.084871],\n",
       "       [34.080753],\n",
       "       [46.415855],\n",
       "       [47.120743],\n",
       "       [47.120743],\n",
       "       [59.373383],\n",
       "       [52.376163],\n",
       "       [30.855528],\n",
       "       [49.272717],\n",
       "       [30.58529 ],\n",
       "       [24.2632  ],\n",
       "       [29.114258],\n",
       "       [26.219162],\n",
       "       [59.373383],\n",
       "       [37.46536 ],\n",
       "       [39.008175],\n",
       "       [29.487833],\n",
       "       [35.101086],\n",
       "       [31.23081 ],\n",
       "       [62.47869 ],\n",
       "       [62.213226],\n",
       "       [30.175688],\n",
       "       [21.204418],\n",
       "       [52.806923],\n",
       "       [42.372677],\n",
       "       [27.105066],\n",
       "       [34.942455],\n",
       "       [55.200073],\n",
       "       [21.26721 ],\n",
       "       [29.096   ],\n",
       "       [20.801292],\n",
       "       [37.850555],\n",
       "       [30.58529 ],\n",
       "       [35.459846],\n",
       "       [15.824613],\n",
       "       [47.567986],\n",
       "       [29.114258],\n",
       "       [26.678263],\n",
       "       [36.27986 ],\n",
       "       [18.795015],\n",
       "       [50.060215],\n",
       "       [29.8562  ],\n",
       "       [25.17623 ],\n",
       "       [51.9542  ],\n",
       "       [36.27986 ],\n",
       "       [18.37125 ],\n",
       "       [26.495077],\n",
       "       [35.079887],\n",
       "       [25.4206  ],\n",
       "       [30.58529 ],\n",
       "       [62.213226],\n",
       "       [44.36354 ],\n",
       "       [38.897255],\n",
       "       [30.58529 ],\n",
       "       [21.46111 ],\n",
       "       [52.418495],\n",
       "       [27.105066],\n",
       "       [26.622034],\n",
       "       [47.975014],\n",
       "       [43.88732 ],\n",
       "       [47.975014],\n",
       "       [23.395575],\n",
       "       [19.60172 ],\n",
       "       [49.74348 ],\n",
       "       [25.033413],\n",
       "       [35.50176 ],\n",
       "       [55.200073],\n",
       "       [52.2735  ],\n",
       "       [59.093414],\n",
       "       [32.248596],\n",
       "       [37.268803],\n",
       "       [30.377209],\n",
       "       [31.259264],\n",
       "       [15.824613],\n",
       "       [18.795015],\n",
       "       [30.092676],\n",
       "       [26.164198],\n",
       "       [39.741405],\n",
       "       [59.373383],\n",
       "       [22.151344],\n",
       "       [22.50497 ],\n",
       "       [24.847729],\n",
       "       [33.240017],\n",
       "       [31.23081 ],\n",
       "       [30.9908  ],\n",
       "       [40.93757 ],\n",
       "       [36.021477],\n",
       "       [55.200073],\n",
       "       [49.691467],\n",
       "       [26.622034],\n",
       "       [30.092308],\n",
       "       [25.984219],\n",
       "       [47.567986],\n",
       "       [32.29093 ],\n",
       "       [30.153913],\n",
       "       [35.210884],\n",
       "       [28.909712],\n",
       "       [19.720688],\n",
       "       [35.459846],\n",
       "       [29.114258],\n",
       "       [25.73614 ],\n",
       "       [31.97159 ],\n",
       "       [47.975014],\n",
       "       [57.83829 ],\n",
       "       [30.766077],\n",
       "       [47.50172 ],\n",
       "       [24.57571 ],\n",
       "       [42.431374],\n",
       "       [19.948168],\n",
       "       [30.377209],\n",
       "       [29.999699],\n",
       "       [26.219162],\n",
       "       [30.092676],\n",
       "       [42.23622 ],\n",
       "       [18.408796],\n",
       "       [48.494728],\n",
       "       [45.89614 ],\n",
       "       [21.163754],\n",
       "       [45.89614 ],\n",
       "       [32.098434],\n",
       "       [36.939842],\n",
       "       [26.495077],\n",
       "       [39.04377 ],\n",
       "       [53.461773],\n",
       "       [23.00691 ],\n",
       "       [52.376163],\n",
       "       [55.200077],\n",
       "       [28.454432],\n",
       "       [26.622034],\n",
       "       [60.14664 ],\n",
       "       [32.48621 ],\n",
       "       [55.74534 ],\n",
       "       [18.927023],\n",
       "       [31.385998],\n",
       "       [62.213226],\n",
       "       [60.14664 ],\n",
       "       [27.105066],\n",
       "       [30.092676],\n",
       "       [35.33346 ],\n",
       "       [37.85056 ],\n",
       "       [27.298353],\n",
       "       [30.092308],\n",
       "       [40.218193],\n",
       "       [19.185606],\n",
       "       [25.538385],\n",
       "       [23.27308 ],\n",
       "       [30.056353],\n",
       "       [52.376163],\n",
       "       [33.656673],\n",
       "       [22.151344],\n",
       "       [38.45756 ],\n",
       "       [43.88732 ],\n",
       "       [32.583057],\n",
       "       [56.21949 ],\n",
       "       [29.096   ],\n",
       "       [27.105066],\n",
       "       [37.861588],\n",
       "       [25.4206  ],\n",
       "       [31.23081 ],\n",
       "       [40.48333 ],\n",
       "       [25.945976],\n",
       "       [30.797812],\n",
       "       [17.75984 ],\n",
       "       [27.105066],\n",
       "       [33.361027],\n",
       "       [25.130266],\n",
       "       [35.50176 ],\n",
       "       [30.175688],\n",
       "       [41.03874 ],\n",
       "       [26.798262],\n",
       "       [35.709644],\n",
       "       [26.622034],\n",
       "       [27.654722],\n",
       "       [24.811611],\n",
       "       [40.82972 ],\n",
       "       [33.240017],\n",
       "       [26.164198],\n",
       "       [30.797812],\n",
       "       [30.766077],\n",
       "       [53.461773],\n",
       "       [47.50172 ],\n",
       "       [52.13276 ],\n",
       "       [33.2313  ],\n",
       "       [31.23081 ],\n",
       "       [38.45756 ],\n",
       "       [21.163754],\n",
       "       [34.455082],\n",
       "       [47.567986],\n",
       "       [46.19171 ],\n",
       "       [31.23081 ],\n",
       "       [25.984219],\n",
       "       [23.063993],\n",
       "       [59.373383],\n",
       "       [31.790041],\n",
       "       [27.660408],\n",
       "       [22.7988  ],\n",
       "       [42.431374],\n",
       "       [24.46829 ],\n",
       "       [57.83829 ],\n",
       "       [35.079887],\n",
       "       [32.48621 ],\n",
       "       [23.564835],\n",
       "       [48.508026],\n",
       "       [47.975014],\n",
       "       [31.252054],\n",
       "       [47.120743],\n",
       "       [35.76162 ],\n",
       "       [27.298353],\n",
       "       [30.738605],\n",
       "       [21.076593],\n",
       "       [23.180178],\n",
       "       [31.790041],\n",
       "       [22.151344],\n",
       "       [20.591032],\n",
       "       [32.48621 ],\n",
       "       [22.23382 ],\n",
       "       [21.622778],\n",
       "       [33.845314],\n",
       "       [33.845314],\n",
       "       [47.50172 ],\n",
       "       [19.830973],\n",
       "       [31.385998],\n",
       "       [33.2313  ],\n",
       "       [44.538864],\n",
       "       [37.647095],\n",
       "       [20.653784],\n",
       "       [30.309858],\n",
       "       [43.061985],\n",
       "       [21.076593],\n",
       "       [31.23081 ],\n",
       "       [34.582397],\n",
       "       [53.461773],\n",
       "       [15.824613],\n",
       "       [28.045702],\n",
       "       [55.020027],\n",
       "       [20.742289],\n",
       "       [27.298353],\n",
       "       [21.622778],\n",
       "       [23.063992],\n",
       "       [59.398758],\n",
       "       [18.29979 ],\n",
       "       [23.806416],\n",
       "       [21.410566],\n",
       "       [35.459846],\n",
       "       [32.583057],\n",
       "       [32.48621 ],\n",
       "       [41.143013],\n",
       "       [50.57361 ],\n",
       "       [31.97159 ],\n",
       "       [20.801292],\n",
       "       [47.406647],\n",
       "       [17.386087],\n",
       "       [24.811611],\n",
       "       [17.735584],\n",
       "       [26.622032],\n",
       "       [28.232939],\n",
       "       [45.89614 ],\n",
       "       [24.57571 ],\n",
       "       [35.709644],\n",
       "       [30.092676],\n",
       "       [45.89614 ],\n",
       "       [50.57361 ],\n",
       "       [21.076593],\n",
       "       [20.591032],\n",
       "       [57.83829 ],\n",
       "       [44.5261  ],\n",
       "       [27.929508],\n",
       "       [59.373383],\n",
       "       [19.830973],\n",
       "       [40.990707],\n",
       "       [52.806923],\n",
       "       [22.313873],\n",
       "       [24.46829 ],\n",
       "       [19.948168],\n",
       "       [30.738605],\n",
       "       [31.252054],\n",
       "       [44.86667 ],\n",
       "       [45.37642 ],\n",
       "       [21.387037],\n",
       "       [39.4123  ],\n",
       "       [27.918571],\n",
       "       [30.942154],\n",
       "       [27.105066],\n",
       "       [59.408405],\n",
       "       [57.83829 ],\n",
       "       [26.798262],\n",
       "       [21.410566],\n",
       "       [49.74348 ],\n",
       "       [35.210884],\n",
       "       [49.74348 ],\n",
       "       [25.73614 ],\n",
       "       [30.58529 ],\n",
       "       [57.242474],\n",
       "       [30.738605],\n",
       "       [41.617905],\n",
       "       [43.891308],\n",
       "       [34.639297],\n",
       "       [19.718172],\n",
       "       [32.98397 ],\n",
       "       [42.431374],\n",
       "       [52.13276 ],\n",
       "       [29.487833],\n",
       "       [19.60172 ],\n",
       "       [34.418655],\n",
       "       [32.48621 ],\n",
       "       [19.948168],\n",
       "       [20.613817],\n",
       "       [49.515945],\n",
       "       [20.506277]], dtype=float32)"
      ]
     },
     "execution_count": 33,
     "metadata": {},
     "output_type": "execute_result"
    }
   ],
   "source": [
    "y_predict"
   ]
  },
  {
   "cell_type": "code",
   "execution_count": 34,
   "metadata": {},
   "outputs": [
    {
     "data": {
      "text/plain": [
       "Index(['Cement (component 1)(kg in a m^3 mixture)',\n",
       "       'Blast Furnace Slag (component 2)(kg in a m^3 mixture)',\n",
       "       'Superplasticizer (component 5)(kg in a m^3 mixture)',\n",
       "       'Concrete compressive strength(MPa, megapascals) '],\n",
       "      dtype='object')"
      ]
     },
     "execution_count": 34,
     "metadata": {},
     "output_type": "execute_result"
    }
   ],
   "source": [
    "Valueable_data.columns"
   ]
  },
  {
   "cell_type": "code",
   "execution_count": 35,
   "metadata": {},
   "outputs": [],
   "source": [
    "y_pred = y_predict.flatten()"
   ]
  },
  {
   "cell_type": "code",
   "execution_count": 36,
   "metadata": {},
   "outputs": [
    {
     "data": {
      "text/plain": [
       "(0.0, 100.0)"
      ]
     },
     "execution_count": 36,
     "metadata": {},
     "output_type": "execute_result"
    },
    {
     "data": {
      "image/png": "[encoded data removed]",
      "text/plain": [
       "<Figure size 432x288 with 1 Axes>"
      ]
     },
     "metadata": {
      "needs_background": "light"
     },
     "output_type": "display_data"
    }
   ],
   "source": [
    "import numpy as np\n",
    "import matplotlib.pyplot as plt\n",
    "coef = np.polyfit(ytest,y_pred,1)\n",
    "poly1d_fn = np.poly1d(coef) \n",
    "# poly1d_fn is now a function which takes in x and returns an estimate for y\n",
    "plt.plot(ytest,y_pred, 'yo', ytest, poly1d_fn(ytest), '--k')\n",
    "plt.xlim(0, 100)\n",
    "plt.ylim(0, 100)"
   ]
  },
  {
   "cell_type": "code",
   "execution_count": null,
   "metadata": {},
   "outputs": [],
   "source": [
    "#test.plot(kind='scatter',\n",
    "#        y='Cement (component 1)(kg in a m^3 mixture)'\n",
    "#          ,x='Concrete compressive strength(MPa, megapascals) ',\n",
    "#        title ='Weight and Height in adults')\n",
    "#plt.plot(ytest,y_predict,color='red',linewidth=3)"
   ]
  },
  {
   "cell_type": "code",
   "execution_count": null,
   "metadata": {},
   "outputs": [],
   "source": []
  },
  {
   "cell_type": "code",
   "execution_count": null,
   "metadata": {},
   "outputs": [],
   "source": []
  }
 ],
 "metadata": {
  "kernelspec": {
   "display_name": "Python 3",
   "language": "python",
   "name": "python3"
  },
  "language_info": {
   "codemirror_mode": {
    "name": "ipython",
    "version": 3
   },
   "file_extension": ".py",
   "mimetype": "text/x-python",
   "name": "python",
   "nbconvert_exporter": "python",
   "pygments_lexer": "ipython3",
   "version": "3.7.6"
  }
 },
 "nbformat": 4,
 "nbformat_minor": 2
}
