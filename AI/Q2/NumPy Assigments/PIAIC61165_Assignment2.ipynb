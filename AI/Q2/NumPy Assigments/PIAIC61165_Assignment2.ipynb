{
 "cells": [
  {
   "cell_type": "markdown",
   "metadata": {},
   "source": [
    "# Numpy_Assignment_2::"
   ]
  },
  {
   "cell_type": "markdown",
   "metadata": {},
   "source": [
    "## Question:1"
   ]
  },
  {
   "cell_type": "markdown",
   "metadata": {},
   "source": [
    "### Convert a 1D array to a 2D array with 2 rows?"
   ]
  },
  {
   "cell_type": "markdown",
   "metadata": {},
   "source": [
    "#### Desired output::"
   ]
  },
  {
   "cell_type": "markdown",
   "metadata": {},
   "source": [
    "array([[0, 1, 2, 3, 4],\n",
    "        [5, 6, 7, 8, 9]])"
   ]
  },
  {
   "cell_type": "code",
   "execution_count": 3,
   "metadata": {},
   "outputs": [
    {
     "data": {
      "text/plain": [
       "array([[0, 1, 2, 3, 4],\n",
       "       [5, 6, 7, 8, 9]])"
      ]
     },
     "execution_count": 3,
     "metadata": {},
     "output_type": "execute_result"
    }
   ],
   "source": [
    "import numpy as np\n",
    "a=np.arange(10)\n",
    "a.reshape((2,5))"
   ]
  },
  {
   "cell_type": "markdown",
   "metadata": {},
   "source": [
    "## Question:2"
   ]
  },
  {
   "cell_type": "markdown",
   "metadata": {},
   "source": [
    "###  How to stack two arrays vertically?"
   ]
  },
  {
   "cell_type": "markdown",
   "metadata": {},
   "source": [
    "#### Desired Output::"
   ]
  },
  {
   "cell_type": "raw",
   "metadata": {},
   "source": [
    "array([[0, 1, 2, 3, 4],\n",
    "        [5, 6, 7, 8, 9],\n",
    "       [1, 1, 1, 1, 1],\n",
    "       [1, 1, 1, 1, 1]])"
   ]
  },
  {
   "cell_type": "code",
   "execution_count": 13,
   "metadata": {},
   "outputs": [
    {
     "data": {
      "text/plain": [
       "array([[0, 1, 2, 3, 4],\n",
       "       [5, 6, 7, 8, 9],\n",
       "       [1, 1, 1, 1, 1],\n",
       "       [1, 1, 1, 1, 1]])"
      ]
     },
     "execution_count": 13,
     "metadata": {},
     "output_type": "execute_result"
    }
   ],
   "source": [
    "a=np.arange(10).reshape((2,5))\n",
    "b=np.ones((2,5),dtype=\"int32\")\n",
    "c=np.vstack((a,b))\n",
    "c"
   ]
  },
  {
   "cell_type": "markdown",
   "metadata": {},
   "source": [
    "## Question:3"
   ]
  },
  {
   "cell_type": "markdown",
   "metadata": {},
   "source": [
    "### How to stack two arrays horizontally?"
   ]
  },
  {
   "cell_type": "markdown",
   "metadata": {},
   "source": [
    "#### Desired Output::"
   ]
  },
  {
   "cell_type": "raw",
   "metadata": {},
   "source": [
    "array([[0, 1, 2, 3, 4, 1, 1, 1, 1, 1],\n",
    "       [5, 6, 7, 8, 9, 1, 1, 1, 1, 1]])"
   ]
  },
  {
   "cell_type": "code",
   "execution_count": 15,
   "metadata": {},
   "outputs": [
    {
     "data": {
      "text/plain": [
       "array([[0, 1, 2, 3, 4, 1, 1, 1, 1, 1],\n",
       "       [5, 6, 7, 8, 9, 1, 1, 1, 1, 1]])"
      ]
     },
     "execution_count": 15,
     "metadata": {},
     "output_type": "execute_result"
    }
   ],
   "source": [
    "c=np.hstack((a,b))\n",
    "c"
   ]
  },
  {
   "cell_type": "markdown",
   "metadata": {},
   "source": [
    "## Question:4"
   ]
  },
  {
   "cell_type": "markdown",
   "metadata": {},
   "source": [
    "### How to convert an array of arrays into a flat 1d array?"
   ]
  },
  {
   "cell_type": "markdown",
   "metadata": {},
   "source": [
    "#### Desired Output::"
   ]
  },
  {
   "cell_type": "raw",
   "metadata": {},
   "source": [
    "array([0, 1, 2, 3, 4, 5, 6, 7, 8, 9])"
   ]
  },
  {
   "cell_type": "code",
   "execution_count": 16,
   "metadata": {},
   "outputs": [
    {
     "data": {
      "text/plain": [
       "array([0, 1, 2, 3, 4, 5, 6, 7, 8, 9])"
      ]
     },
     "execution_count": 16,
     "metadata": {},
     "output_type": "execute_result"
    }
   ],
   "source": [
    "a.flatten()"
   ]
  },
  {
   "cell_type": "markdown",
   "metadata": {},
   "source": [
    "## Question:5"
   ]
  },
  {
   "cell_type": "markdown",
   "metadata": {},
   "source": [
    "### How to Convert higher dimension into one dimension?"
   ]
  },
  {
   "cell_type": "markdown",
   "metadata": {},
   "source": [
    "#### Desired Output::"
   ]
  },
  {
   "cell_type": "raw",
   "metadata": {},
   "source": [
    "array([ 0, 1, 2, 3, 4, 5, 6, 7, 8, 9, 10, 11, 12, 13, 14])"
   ]
  },
  {
   "cell_type": "code",
   "execution_count": 19,
   "metadata": {},
   "outputs": [
    {
     "data": {
      "text/plain": [
       "array([ 0,  1,  2,  3,  4,  5,  6,  7,  8,  9, 10, 11, 12, 13, 14])"
      ]
     },
     "execution_count": 19,
     "metadata": {},
     "output_type": "execute_result"
    }
   ],
   "source": [
    "arr1= np.array([[ 0, 1, 2],\n",
    "[ 3, 4, 5],\n",
    "[ 6, 7, 8],\n",
    "[ 9, 10, 11],\n",
    "[12, 13, 14]])\n",
    "arr1 = arr1.ravel()"
   ]
  },
  {
   "cell_type": "markdown",
   "metadata": {},
   "source": [
    "## Question:6"
   ]
  },
  {
   "cell_type": "markdown",
   "metadata": {},
   "source": [
    "### Convert one dimension to higher dimension?"
   ]
  },
  {
   "cell_type": "markdown",
   "metadata": {},
   "source": [
    "#### Desired Output::"
   ]
  },
  {
   "cell_type": "raw",
   "metadata": {},
   "source": [
    "array([[ 0, 1, 2],\n",
    "[ 3, 4, 5],\n",
    "[ 6, 7, 8],\n",
    "[ 9, 10, 11],\n",
    "[12, 13, 14]])"
   ]
  },
  {
   "cell_type": "code",
   "execution_count": 21,
   "metadata": {},
   "outputs": [
    {
     "data": {
      "text/plain": [
       "array([[ 0,  1,  2],\n",
       "       [ 3,  4,  5],\n",
       "       [ 6,  7,  8],\n",
       "       [ 9, 10, 11],\n",
       "       [12, 13, 14]])"
      ]
     },
     "execution_count": 21,
     "metadata": {},
     "output_type": "execute_result"
    }
   ],
   "source": [
    "arr1.reshape(5,3)"
   ]
  },
  {
   "cell_type": "markdown",
   "metadata": {},
   "source": [
    "## Question:7"
   ]
  },
  {
   "cell_type": "markdown",
   "metadata": {},
   "source": [
    "### Create 5x5 an array and find the square of an array?"
   ]
  },
  {
   "cell_type": "code",
   "execution_count": 24,
   "metadata": {},
   "outputs": [
    {
     "name": "stdout",
     "output_type": "stream",
     "text": [
      "===:Input random array:===\n",
      " [[62 92 87 73 59]\n",
      " [93 57 99 33 95]\n",
      " [88 27 56 33 16]\n",
      " [78 89 73 62 89]\n",
      " [93 73 55 75 69]]\n",
      "===:Square of Array:=== \n",
      "\n",
      "[[3844 8464 7569 5329 3481]\n",
      " [8649 3249 9801 1089 9025]\n",
      " [7744  729 3136 1089  256]\n",
      " [6084 7921 5329 3844 7921]\n",
      " [8649 5329 3025 5625 4761]]\n"
     ]
    }
   ],
   "source": [
    "\n",
    "rm = np.random.randint(100, size=(5,5))\n",
    "print(\"===:Input random array:===\\n\",rm)\n",
    "print(\"===:Output Square of Array:=== \\n\")\n",
    "print(rm ** 2)"
   ]
  },
  {
   "cell_type": "markdown",
   "metadata": {},
   "source": [
    "## Question:8"
   ]
  },
  {
   "cell_type": "markdown",
   "metadata": {},
   "source": [
    "### Create 5x6 an array and find the mean?"
   ]
  },
  {
   "cell_type": "code",
   "execution_count": 25,
   "metadata": {},
   "outputs": [
    {
     "name": "stdout",
     "output_type": "stream",
     "text": [
      "===:Input random array:===\n",
      " [[66  0 49 41 14 95]\n",
      " [62 28 41 55  0 77]\n",
      " [22 73 46 93 54 39]\n",
      " [95 69 37 53  7 39]\n",
      " [ 0 49 45 92 94 94]]\n",
      "===:Output mean of Array:=== \n",
      "\n",
      "50.96666666666667\n"
     ]
    }
   ],
   "source": [
    "rm1 = np.random.randint(100, size=(5,6))\n",
    "print(\"===:Input random array:===\\n\",rm1)\n",
    "print(\"===:Output mean of Array:=== \\n\")\n",
    "print(rm1.mean())"
   ]
  },
  {
   "cell_type": "markdown",
   "metadata": {},
   "source": [
    "## Question:9"
   ]
  },
  {
   "cell_type": "markdown",
   "metadata": {},
   "source": [
    "### Find the standard deviation of the previous array in Q8?"
   ]
  },
  {
   "cell_type": "code",
   "execution_count": 26,
   "metadata": {},
   "outputs": [
    {
     "name": "stdout",
     "output_type": "stream",
     "text": [
      "===:Input random array:===\n",
      " [[66  0 49 41 14 95]\n",
      " [62 28 41 55  0 77]\n",
      " [22 73 46 93 54 39]\n",
      " [95 69 37 53  7 39]\n",
      " [ 0 49 45 92 94 94]]\n",
      "===:Standard deviation of Array:=== \n",
      "\n",
      "29.49856870350756\n"
     ]
    }
   ],
   "source": [
    "print(\"===:Input random array:===\\n\",rm1)\n",
    "print(\"===:Standard deviation of Array:=== \\n\")\n",
    "print(np.std(rm1))"
   ]
  },
  {
   "cell_type": "markdown",
   "metadata": {},
   "source": [
    "## Question:10"
   ]
  },
  {
   "cell_type": "markdown",
   "metadata": {},
   "source": [
    "### Find the median of the previous array in Q8?"
   ]
  },
  {
   "cell_type": "code",
   "execution_count": 27,
   "metadata": {},
   "outputs": [
    {
     "name": "stdout",
     "output_type": "stream",
     "text": [
      "===:Input random array:===\n",
      " [[66  0 49 41 14 95]\n",
      " [62 28 41 55  0 77]\n",
      " [22 73 46 93 54 39]\n",
      " [95 69 37 53  7 39]\n",
      " [ 0 49 45 92 94 94]]\n",
      "===:median of Array:=== \n",
      "\n",
      "49.0\n"
     ]
    }
   ],
   "source": [
    "print(\"===:Input random array:===\\n\",rm1)\n",
    "print(\"===:median of Array:=== \\n\")\n",
    "print(np.median(rm1))"
   ]
  },
  {
   "cell_type": "markdown",
   "metadata": {},
   "source": [
    "## Question:11"
   ]
  },
  {
   "cell_type": "markdown",
   "metadata": {},
   "source": [
    "### Find the transpose of the previous array in Q8?"
   ]
  },
  {
   "cell_type": "code",
   "execution_count": 28,
   "metadata": {},
   "outputs": [
    {
     "name": "stdout",
     "output_type": "stream",
     "text": [
      "===:Input random array:===\n",
      " [[66  0 49 41 14 95]\n",
      " [62 28 41 55  0 77]\n",
      " [22 73 46 93 54 39]\n",
      " [95 69 37 53  7 39]\n",
      " [ 0 49 45 92 94 94]]\n",
      "===:transpose of Array:=== \n",
      "\n",
      "[[66 62 22 95  0]\n",
      " [ 0 28 73 69 49]\n",
      " [49 41 46 37 45]\n",
      " [41 55 93 53 92]\n",
      " [14  0 54  7 94]\n",
      " [95 77 39 39 94]]\n"
     ]
    }
   ],
   "source": [
    "print(\"===:Input random array:===\\n\",rm1)\n",
    "print(\"===:transpose of Array:=== \\n\")\n",
    "print(np.transpose(rm1))"
   ]
  },
  {
   "cell_type": "markdown",
   "metadata": {},
   "source": [
    "## Question:12"
   ]
  },
  {
   "cell_type": "markdown",
   "metadata": {},
   "source": [
    "### Create a 4x4 an array and find the sum of diagonal elements?"
   ]
  },
  {
   "cell_type": "code",
   "execution_count": 31,
   "metadata": {},
   "outputs": [
    {
     "name": "stdout",
     "output_type": "stream",
     "text": [
      "===:Input random array:===\n",
      " [[16 11 16 16]\n",
      " [ 2  6  9 19]\n",
      " [14 18  3 19]\n",
      " [ 0  5 17  1]]\n",
      "===:sum of diagonal elements in Array:=== \n",
      "\n",
      "26\n"
     ]
    }
   ],
   "source": [
    "rm2 = np.random.randint(20, size=(4,4))\n",
    "print(\"===:Input random array:===\\n\",rm2)\n",
    "print(\"===:sum of diagonal elements in Array:=== \\n\")\n",
    "print(np.trace(rm2))"
   ]
  },
  {
   "cell_type": "markdown",
   "metadata": {},
   "source": [
    "## Question:13"
   ]
  },
  {
   "cell_type": "markdown",
   "metadata": {},
   "source": [
    "### Find the determinant of the previous array in Q12?"
   ]
  },
  {
   "cell_type": "code",
   "execution_count": 32,
   "metadata": {},
   "outputs": [
    {
     "name": "stdout",
     "output_type": "stream",
     "text": [
      "===:Input random array:===\n",
      " [[16 11 16 16]\n",
      " [ 2  6  9 19]\n",
      " [14 18  3 19]\n",
      " [ 0  5 17  1]]\n",
      "===:determinant of Array:=== \n",
      "\n",
      "48444.00000000005\n"
     ]
    }
   ],
   "source": [
    "print(\"===:Input random array:===\\n\",rm2)\n",
    "print(\"===:determinant of Array:=== \\n\")\n",
    "print(np.linalg.det(rm2))\n"
   ]
  },
  {
   "cell_type": "markdown",
   "metadata": {},
   "source": [
    "## Question:14"
   ]
  },
  {
   "cell_type": "markdown",
   "metadata": {},
   "source": [
    "### Find the 5th and 95th percentile of an array?"
   ]
  },
  {
   "cell_type": "code",
   "execution_count": 38,
   "metadata": {},
   "outputs": [
    {
     "name": "stdout",
     "output_type": "stream",
     "text": [
      "===:Input random array:===\n",
      " [[16 11 16 16]\n",
      " [ 2  6  9 19]\n",
      " [14 18  3 19]\n",
      " [ 0  5 17  1]]\n",
      "\n",
      "\n",
      " ===:5th percentile of array:===\n",
      " 0.75\n",
      "===:95th percentile of array:===\n",
      " 19.0\n"
     ]
    }
   ],
   "source": [
    "print(\"===:Input random array:===\\n\",rm2)\n",
    "print(\"\\n\")\n",
    "print(\" ===:5th percentile of array:===\\n\",np.percentile(rm2, 5))\n",
    "print(\"===:95th percentile of array:===\\n\",np.percentile(rm2, 95))"
   ]
  },
  {
   "cell_type": "markdown",
   "metadata": {},
   "source": [
    "## Question:15"
   ]
  },
  {
   "cell_type": "markdown",
   "metadata": {},
   "source": [
    "### How to find if a given array has any null values?"
   ]
  },
  {
   "cell_type": "code",
   "execution_count": 34,
   "metadata": {},
   "outputs": [
    {
     "name": "stdout",
     "output_type": "stream",
     "text": [
      "===:Input random array:===\n",
      " [[16 11 16 16]\n",
      " [ 2  6  9 19]\n",
      " [14 18  3 19]\n",
      " [ 0  5 17  1]]\n",
      "===:array has any null values:=== \n",
      "\n",
      "False\n"
     ]
    }
   ],
   "source": [
    "print(\"===:Input random array:===\\n\",rm2)\n",
    "print(\"===:array has any null values:=== \\n\")\n",
    "print(np.isnan(rm2).any())"
   ]
  },
  {
   "cell_type": "code",
   "execution_count": null,
   "metadata": {},
   "outputs": [],
   "source": []
  }
 ],
 "metadata": {
  "kernelspec": {
   "display_name": "Python 3",
   "language": "python",
   "name": "python3"
  },
  "language_info": {
   "codemirror_mode": {
    "name": "ipython",
    "version": 3
   },
   "file_extension": ".py",
   "mimetype": "text/x-python",
   "name": "python",
   "nbconvert_exporter": "python",
   "pygments_lexer": "ipython3",
   "version": "3.7.6"
  }
 },
 "nbformat": 4,
 "nbformat_minor": 2
}
