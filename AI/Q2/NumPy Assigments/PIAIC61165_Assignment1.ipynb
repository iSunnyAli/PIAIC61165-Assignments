{
 "cells": [
  {
   "cell_type": "markdown",
   "metadata": {
    "id": "NgUeapcvmIRh"
   },
   "source": [
    "# **Assignment For Numpy**"
   ]
  },
  {
   "cell_type": "markdown",
   "metadata": {
    "id": "yhr3JicwnA-4"
   },
   "source": [
    "Difficulty Level **Beginner**"
   ]
  },
  {
   "cell_type": "markdown",
   "metadata": {
    "id": "hVPqDJ1SnKSh"
   },
   "source": [
    "1. Import the numpy package under the name np"
   ]
  },
  {
   "cell_type": "code",
   "execution_count": 3,
   "metadata": {
    "id": "SePu31zKmgS-"
   },
   "outputs": [],
   "source": [
    "import numpy as np"
   ]
  },
  {
   "cell_type": "markdown",
   "metadata": {
    "id": "d0gO81krnL7g"
   },
   "source": [
    "2. Create a null vector of size 10 "
   ]
  },
  {
   "cell_type": "code",
   "execution_count": 160,
   "metadata": {
    "id": "2s6o2JPgnSBr"
   },
   "outputs": [
    {
     "name": "stdout",
     "output_type": "stream",
     "text": [
      "[0. 0. 0. 0. 0. 0. 0. 0. 0. 0.]\n"
     ]
    }
   ],
   "source": [
    "x = np.zeros(10)\n",
    "print(x)"
   ]
  },
  {
   "cell_type": "markdown",
   "metadata": {
    "id": "BJTMK03fnS1w"
   },
   "source": [
    "3. Create a vector with values ranging from 10 to 49"
   ]
  },
  {
   "cell_type": "code",
   "execution_count": 161,
   "metadata": {
    "id": "qRXxXuWdnj1M"
   },
   "outputs": [
    {
     "name": "stdout",
     "output_type": "stream",
     "text": [
      "vector ranging from 10 to 49:\n",
      "[10 11 12 13 14 15 16 17 18 19 20 21 22 23 24 25 26 27 28 29 30 31 32 33\n",
      " 34 35 36 37 38 39 40 41 42 43 44 45 46 47 48 49]\n"
     ]
    }
   ],
   "source": [
    "v = np.arange(10,50)\n",
    "print(\"vector ranging from 10 to 49:\")\n",
    "\n",
    "\n",
    "print(v)"
   ]
  },
  {
   "cell_type": "markdown",
   "metadata": {
    "id": "n63lzg5Onkcn"
   },
   "source": [
    "4. Find the shape of previous array in question 3"
   ]
  },
  {
   "cell_type": "code",
   "execution_count": 7,
   "metadata": {
    "id": "1FueBdqPn_q7"
   },
   "outputs": [
    {
     "name": "stdout",
     "output_type": "stream",
     "text": [
      "(40,)\n"
     ]
    }
   ],
   "source": [
    "print(v.shape)"
   ]
  },
  {
   "cell_type": "markdown",
   "metadata": {
    "id": "AzMlQj1MoAVe"
   },
   "source": [
    "5. Print the type of the previous array in question 3"
   ]
  },
  {
   "cell_type": "code",
   "execution_count": null,
   "metadata": {
    "id": "AO9PYmdWoE1L"
   },
   "outputs": [],
   "source": [
    "print(v.dtype)"
   ]
  },
  {
   "cell_type": "markdown",
   "metadata": {
    "id": "0qaKS13Yon-U"
   },
   "source": [
    "6. Print the numpy version and the configuration\n"
   ]
  },
  {
   "cell_type": "code",
   "execution_count": 8,
   "metadata": {
    "id": "T3wY24e1oorh"
   },
   "outputs": [
    {
     "name": "stdout",
     "output_type": "stream",
     "text": [
      "NumPy Version: 1.18.1\n",
      "blas_mkl_info:\n",
      "    libraries = ['mkl_rt']\n",
      "    library_dirs = ['C:/Users/Saadat.Ali/anaconda3\\\\Library\\\\lib']\n",
      "    define_macros = [('SCIPY_MKL_H', None), ('HAVE_CBLAS', None)]\n",
      "    include_dirs = ['C:\\\\Program Files (x86)\\\\IntelSWTools\\\\compilers_and_libraries_2019.0.117\\\\windows\\\\mkl', 'C:\\\\Program Files (x86)\\\\IntelSWTools\\\\compilers_and_libraries_2019.0.117\\\\windows\\\\mkl\\\\include', 'C:\\\\Program Files (x86)\\\\IntelSWTools\\\\compilers_and_libraries_2019.0.117\\\\windows\\\\mkl\\\\lib', 'C:/Users/Saadat.Ali/anaconda3\\\\Library\\\\include']\n",
      "blas_opt_info:\n",
      "    libraries = ['mkl_rt']\n",
      "    library_dirs = ['C:/Users/Saadat.Ali/anaconda3\\\\Library\\\\lib']\n",
      "    define_macros = [('SCIPY_MKL_H', None), ('HAVE_CBLAS', None)]\n",
      "    include_dirs = ['C:\\\\Program Files (x86)\\\\IntelSWTools\\\\compilers_and_libraries_2019.0.117\\\\windows\\\\mkl', 'C:\\\\Program Files (x86)\\\\IntelSWTools\\\\compilers_and_libraries_2019.0.117\\\\windows\\\\mkl\\\\include', 'C:\\\\Program Files (x86)\\\\IntelSWTools\\\\compilers_and_libraries_2019.0.117\\\\windows\\\\mkl\\\\lib', 'C:/Users/Saadat.Ali/anaconda3\\\\Library\\\\include']\n",
      "lapack_mkl_info:\n",
      "    libraries = ['mkl_rt']\n",
      "    library_dirs = ['C:/Users/Saadat.Ali/anaconda3\\\\Library\\\\lib']\n",
      "    define_macros = [('SCIPY_MKL_H', None), ('HAVE_CBLAS', None)]\n",
      "    include_dirs = ['C:\\\\Program Files (x86)\\\\IntelSWTools\\\\compilers_and_libraries_2019.0.117\\\\windows\\\\mkl', 'C:\\\\Program Files (x86)\\\\IntelSWTools\\\\compilers_and_libraries_2019.0.117\\\\windows\\\\mkl\\\\include', 'C:\\\\Program Files (x86)\\\\IntelSWTools\\\\compilers_and_libraries_2019.0.117\\\\windows\\\\mkl\\\\lib', 'C:/Users/Saadat.Ali/anaconda3\\\\Library\\\\include']\n",
      "lapack_opt_info:\n",
      "    libraries = ['mkl_rt']\n",
      "    library_dirs = ['C:/Users/Saadat.Ali/anaconda3\\\\Library\\\\lib']\n",
      "    define_macros = [('SCIPY_MKL_H', None), ('HAVE_CBLAS', None)]\n",
      "    include_dirs = ['C:\\\\Program Files (x86)\\\\IntelSWTools\\\\compilers_and_libraries_2019.0.117\\\\windows\\\\mkl', 'C:\\\\Program Files (x86)\\\\IntelSWTools\\\\compilers_and_libraries_2019.0.117\\\\windows\\\\mkl\\\\include', 'C:\\\\Program Files (x86)\\\\IntelSWTools\\\\compilers_and_libraries_2019.0.117\\\\windows\\\\mkl\\\\lib', 'C:/Users/Saadat.Ali/anaconda3\\\\Library\\\\include']\n",
      "NumPy Config None\n"
     ]
    }
   ],
   "source": [
    "print(\"NumPy Version:\",np.__version__)\n",
    "print(\"NumPy Config\",np.show_config())"
   ]
  },
  {
   "cell_type": "markdown",
   "metadata": {
    "id": "ZyUUiQf5oyvE"
   },
   "source": [
    "7. Print the dimension of the array in question 3\n"
   ]
  },
  {
   "cell_type": "code",
   "execution_count": 10,
   "metadata": {
    "id": "pLXfuIqIo0vq"
   },
   "outputs": [
    {
     "name": "stdout",
     "output_type": "stream",
     "text": [
      "Dimension :  1\n"
     ]
    }
   ],
   "source": [
    "print(\"Dimension : \",v.ndim)"
   ]
  },
  {
   "cell_type": "markdown",
   "metadata": {
    "id": "JYVMuFrqpBdV"
   },
   "source": [
    "8. Create a boolean array with all the True values"
   ]
  },
  {
   "cell_type": "code",
   "execution_count": 11,
   "metadata": {
    "id": "3apZsISzpFKR"
   },
   "outputs": [
    {
     "data": {
      "text/plain": [
       "array([ True,  True,  True,  True,  True])"
      ]
     },
     "execution_count": 11,
     "metadata": {},
     "output_type": "execute_result"
    }
   ],
   "source": [
    "np.ones((5), dtype=bool)"
   ]
  },
  {
   "cell_type": "markdown",
   "metadata": {
    "id": "4zbBooWZpPBU"
   },
   "source": [
    "9. Create a two dimensional array\n",
    "\n",
    "\n"
   ]
  },
  {
   "cell_type": "code",
   "execution_count": 26,
   "metadata": {
    "id": "KfPQEiVIpdTo"
   },
   "outputs": [
    {
     "name": "stdout",
     "output_type": "stream",
     "text": [
      "Input Array : \n",
      " [[0. 0. 0.]\n",
      " [0. 0. 0.]]\n",
      "Array Dimension:  2\n"
     ]
    }
   ],
   "source": [
    "nd = np.ndarray((2,3))\n",
    "print(\"Input Array : \\n\",nd)\n",
    "print(\"Array Dimension: \",nd.ndim)"
   ]
  },
  {
   "cell_type": "markdown",
   "metadata": {
    "id": "do9wPAFbpqC7"
   },
   "source": [
    "10. Create a three dimensional array\n",
    "\n"
   ]
  },
  {
   "cell_type": "code",
   "execution_count": 33,
   "metadata": {
    "id": "ZCO_q-KZqAeW"
   },
   "outputs": [
    {
     "name": "stdout",
     "output_type": "stream",
     "text": [
      "Input Array : \n",
      " [[[0. 0. 0. 0.]\n",
      "  [0. 0. 0. 0.]\n",
      "  [0. 0. 0. 0.]]\n",
      "\n",
      " [[0. 0. 0. 0.]\n",
      "  [0. 0. 0. 0.]\n",
      "  [0. 0. 0. 0.]]\n",
      "\n",
      " [[0. 0. 0. 0.]\n",
      "  [0. 0. 0. 0.]\n",
      "  [0. 0. 0. 0.]]]\n",
      "Array Dimension:  3\n"
     ]
    }
   ],
   "source": [
    "nd3 = np.ndarray((3,3,4))\n",
    "print(\"Input Array : \\n\",nd3)\n",
    "print(\"Array Dimension: \",nd3.ndim)"
   ]
  },
  {
   "cell_type": "markdown",
   "metadata": {
    "id": "a4iysJ87qEeb"
   },
   "source": [
    "Difficulty Level **Easy**"
   ]
  },
  {
   "cell_type": "markdown",
   "metadata": {
    "id": "DehgqszSqjY6"
   },
   "source": [
    "11. Reverse a vector (first element becomes last)"
   ]
  },
  {
   "cell_type": "code",
   "execution_count": 36,
   "metadata": {
    "id": "tfevmc4VqkWu"
   },
   "outputs": [
    {
     "name": "stdout",
     "output_type": "stream",
     "text": [
      "Method 1 using np.flip :  [7 6 5 4 3 2 1 0]\n",
      "Method 2 using array indexes :  [7 6 5 4 3 2 1 0]\n"
     ]
    }
   ],
   "source": [
    "A = np.arange(8)\n",
    "print(\"Method 1 using np.flip : \", np.flip(A))\n",
    "print(\"Method 2 using array indexes : \", A[::-1])"
   ]
  },
  {
   "cell_type": "markdown",
   "metadata": {
    "id": "yoATXS-qqk_q"
   },
   "source": [
    "12. Create a null vector of size 10 but the fifth value which is 1 "
   ]
  },
  {
   "cell_type": "code",
   "execution_count": 37,
   "metadata": {
    "id": "AheZ32Owqpte"
   },
   "outputs": [
    {
     "name": "stdout",
     "output_type": "stream",
     "text": [
      "vector of size 10 but the fifth value which is 1 :  [0. 0. 0. 0. 1. 0. 0. 0. 0. 0.]\n"
     ]
    }
   ],
   "source": [
    "x = np.zeros(10)\n",
    "x[4]=1\n",
    "print(\"vector of size 10 but the fifth value which is 1 : \",x)"
   ]
  },
  {
   "cell_type": "markdown",
   "metadata": {
    "id": "RZRzOBbFsY0w"
   },
   "source": [
    "13. Create a 3x3 identity matrix"
   ]
  },
  {
   "cell_type": "code",
   "execution_count": 38,
   "metadata": {
    "id": "va2ou0BHsvEj"
   },
   "outputs": [
    {
     "name": "stdout",
     "output_type": "stream",
     "text": [
      "===: 3x3 identity matrix:===\n",
      "\n",
      "[[1. 0. 0.]\n",
      " [0. 1. 0.]\n",
      " [0. 0. 1.]]\n"
     ]
    }
   ],
   "source": [
    "array_2D=np.identity(3)\n",
    "print('===: 3x3 identity matrix:===\\n')\n",
    "print(array_2D)"
   ]
  },
  {
   "cell_type": "markdown",
   "metadata": {
    "id": "lnN5drkUs6o2"
   },
   "source": [
    "14. arr = np.array([1, 2, 3, 4, 5]) \n",
    "\n",
    "---\n",
    "\n",
    " Convert the data type of the given array from int to float "
   ]
  },
  {
   "cell_type": "code",
   "execution_count": 41,
   "metadata": {
    "id": "59EIQt6otKUB"
   },
   "outputs": [
    {
     "name": "stdout",
     "output_type": "stream",
     "text": [
      "Old dtype:  int32\n",
      "New dtype : float64\n"
     ]
    }
   ],
   "source": [
    "arr = np.array([1, 2, 3, 4, 5])\n",
    "print(\"Old dtype: \",arr.dtype)\n",
    "arr = arr.astype(float)\n",
    "print(\"New dtype :\",arr.dtype)"
   ]
  },
  {
   "cell_type": "markdown",
   "metadata": {
    "id": "fSL2AKJetTes"
   },
   "source": [
    "15. arr1 =          np.array([[1., 2., 3.],\n",
    "\n",
    "                    [4., 5., 6.]])  \n",
    "                      \n",
    "    arr2 = np.array([[0., 4., 1.],\n",
    "     \n",
    "                   [7., 2., 12.]])\n",
    "\n",
    "---\n",
    "\n",
    "\n",
    "Multiply arr1 with arr2\n"
   ]
  },
  {
   "cell_type": "code",
   "execution_count": 44,
   "metadata": {
    "id": "7VDXgRQDuJNV"
   },
   "outputs": [
    {
     "name": "stdout",
     "output_type": "stream",
     "text": [
      "===: Input arr1 :===\n",
      " [[1. 2. 3.]\n",
      " [4. 5. 6.]]\n",
      "===: Input arr2 :===\n",
      " [[ 0.  4.  1.]\n",
      " [ 7.  2. 12.]]\n",
      "===: Multiply arr1 with arr2 :===\n",
      "\n",
      "[[ 0.  8.  3.]\n",
      " [28. 10. 72.]]\n",
      "===: ====================== :===\n",
      "\n"
     ]
    }
   ],
   "source": [
    "arr1 = np.array([[1., 2., 3.],\n",
    "\n",
    "            [4., 5., 6.]])  \n",
    "\n",
    "arr2 = np.array([[0., 4., 1.],\n",
    "\n",
    "           [7., 2., 12.]])\n",
    "print('===: Input arr1 :===\\n',arr1)\n",
    "\n",
    "print('===: Input arr2 :===\\n',arr2)\n",
    "mularr = np.multiply(arr1, arr2)\n",
    "print('===: Multiply arr1 with arr2 :===\\n')\n",
    "print(mularr)\n",
    "print('===: ====================== :===\\n')"
   ]
  },
  {
   "cell_type": "markdown",
   "metadata": {
    "id": "a8yJ438-uKni"
   },
   "source": [
    "16. arr1 = np.array([[1., 2., 3.],\n",
    "                    [4., 5., 6.]]) \n",
    "                    \n",
    "    arr2 = np.array([[0., 4., 1.], \n",
    "                    [7., 2., 12.]])\n",
    "\n",
    "\n",
    "---\n",
    "\n",
    "Make an array by comparing both the arrays provided above"
   ]
  },
  {
   "cell_type": "code",
   "execution_count": 46,
   "metadata": {
    "id": "3MPDaAlYueF3"
   },
   "outputs": [
    {
     "name": "stdout",
     "output_type": "stream",
     "text": [
      "===: Input arr1 :===\n",
      " [[1. 2. 3.]\n",
      " [4. 5. 6.]]\n",
      "===: Input arr2 :===\n",
      " [[ 0.  4.  1.]\n",
      " [ 7.  2. 12.]]\n",
      "===: comparing both the arrays :===\n",
      " [[False False False]\n",
      " [False False False]]\n",
      "===: ====================== :===\n",
      "\n"
     ]
    }
   ],
   "source": [
    "arr1 = np.array([[1., 2., 3.],\n",
    "\n",
    "            [4., 5., 6.]])  \n",
    "\n",
    "arr2 = np.array([[0., 4., 1.],\n",
    "\n",
    "           [7., 2., 12.]])\n",
    "print('===: Input arr1 :===\\n',arr1)\n",
    "\n",
    "print('===: Input arr2 :===\\n',arr2)\n",
    "cmp = arr1 == arr2\n",
    "print('===: comparing both the arrays :===\\n',cmp)\n",
    "print(\"===: ====================== :===\\n\")"
   ]
  },
  {
   "cell_type": "markdown",
   "metadata": {
    "id": "3xiD0eJluewk"
   },
   "source": [
    "17. Extract all odd numbers from arr with values(0-9)"
   ]
  },
  {
   "cell_type": "code",
   "execution_count": 47,
   "metadata": {
    "id": "J_qbt_EuvM7l"
   },
   "outputs": [
    {
     "name": "stdout",
     "output_type": "stream",
     "text": [
      "all odd numbers from arr with values(0-9)\n",
      "[1 3 5 7 9]\n"
     ]
    }
   ],
   "source": [
    "arr = np.arange(10)\n",
    "filter_arr = (arr % 2 == 1)\n",
    "newarr = arr[filter_arr]\n",
    "print('all odd numbers from arr with values(0-9)')\n",
    "print(newarr)"
   ]
  },
  {
   "cell_type": "markdown",
   "metadata": {
    "id": "zpg5cyLsvPoZ"
   },
   "source": [
    "18. Replace all odd numbers to -1 from previous array"
   ]
  },
  {
   "cell_type": "code",
   "execution_count": 48,
   "metadata": {
    "id": "rXUV1-ULvQdd"
   },
   "outputs": [
    {
     "name": "stdout",
     "output_type": "stream",
     "text": [
      "Replace all odd numbers to -1\n",
      "[ 0 -1  2 -1  4 -1  6 -1  8 -1]\n"
     ]
    }
   ],
   "source": [
    "arr = np.arange(10)\n",
    "arr[arr % 2 ==1]= -1\n",
    "print('Replace all odd numbers to -1')\n",
    "print(arr)"
   ]
  },
  {
   "cell_type": "markdown",
   "metadata": {
    "id": "FWpHTWTDvjvi"
   },
   "source": [
    "19. arr = np.arange(10)\n",
    "\n",
    "\n",
    "---\n",
    "\n",
    "Replace the values of indexes 5,6,7 and 8 to **12**"
   ]
  },
  {
   "cell_type": "code",
   "execution_count": 50,
   "metadata": {
    "id": "ensZ3lqwvlSb"
   },
   "outputs": [
    {
     "name": "stdout",
     "output_type": "stream",
     "text": [
      "Input array : \n",
      " [0 1 2 3 4 5 6 7 8 9]\n",
      "Replace the values of indexes 5,6,7 and 8 to 12\n",
      "[ 0  1  2  3  4 12 12 12 12  9]\n"
     ]
    }
   ],
   "source": [
    "arr = np.arange(10)\n",
    "print('Input array : \\n',arr)\n",
    "print('Replace the values of indexes 5,6,7 and 8 to 12')\n",
    "arr[5:9] = 12\n",
    "print(arr)\n",
    "print(\"===: ====================== :===\\n\")"
   ]
  },
  {
   "cell_type": "markdown",
   "metadata": {
    "id": "ib-vBffAv0zy"
   },
   "source": [
    "20. Create a 2d array with 1 on the border and 0 inside"
   ]
  },
  {
   "cell_type": "code",
   "execution_count": 52,
   "metadata": {
    "id": "RmzcjNYrwDrM"
   },
   "outputs": [
    {
     "name": "stdout",
     "output_type": "stream",
     "text": [
      "====:Input array:====\n",
      "\n",
      "[[1. 1. 1.]\n",
      " [1. 1. 1.]\n",
      " [1. 1. 1.]]\n",
      "2d array with 1 on the border and 0 inside\n",
      "[[1. 1. 1.]\n",
      " [1. 0. 1.]\n",
      " [1. 1. 1.]]\n"
     ]
    }
   ],
   "source": [
    "x = np.ones((3,3))\n",
    "print(\"====:Input array:====\\n\")\n",
    "print(x)\n",
    "print(\"2d array with 1 on the border and 0 inside\")\n",
    "x[1:-1,1:-1]=0\n",
    "print(x)\n",
    "print(\"===: ====================== :===\\n\")"
   ]
  },
  {
   "cell_type": "markdown",
   "metadata": {
    "id": "E1diIFSEwEmh"
   },
   "source": [
    "Difficulty Level **Medium**"
   ]
  },
  {
   "cell_type": "markdown",
   "metadata": {
    "id": "eGLZmNb_wKb4"
   },
   "source": [
    "21. arr2d = np.array([[1, 2, 3],\n",
    "\n",
    "                    [4, 5, 6], \n",
    "\n",
    "                    [7, 8, 9]])\n",
    "\n",
    "---\n",
    "\n",
    "Replace the value 5 to 12"
   ]
  },
  {
   "cell_type": "code",
   "execution_count": 55,
   "metadata": {
    "id": "VdUnsUOZwJFz"
   },
   "outputs": [
    {
     "name": "stdout",
     "output_type": "stream",
     "text": [
      "====: Input Array :====\n",
      " [[1 2 3]\n",
      " [4 5 6]\n",
      " [7 8 9]]\n",
      "Replace the value 5 to 12\n",
      "[[ 1  2  3]\n",
      " [ 4 12  6]\n",
      " [ 7  8  9]]\n",
      "===: ====================== :===\n",
      "\n"
     ]
    }
   ],
   "source": [
    "arr2d = np.array([[1, 2, 3],\n",
    "            [4, 5, 6],\n",
    "            [7, 8, 9]])\n",
    "print(\"====: Input Array :====\\n\",arr2d)\n",
    "print('Replace the value 5 to 12')\n",
    "arr2d[arr2d==5]=12\n",
    "print(arr2d)\n",
    "print(\"===: ====================== :===\\n\")"
   ]
  },
  {
   "cell_type": "markdown",
   "metadata": {
    "id": "TEbFhlPZxaKO"
   },
   "source": [
    "22. arr3d = np.array([[[1, 2, 3], [4, 5, 6]], [[7, 8, 9], [10, 11, 12]]])\n",
    "\n",
    "---\n",
    "Convert all the values of 1st array to 64\n"
   ]
  },
  {
   "cell_type": "code",
   "execution_count": 58,
   "metadata": {
    "id": "eYzephU8xmsg"
   },
   "outputs": [
    {
     "name": "stdout",
     "output_type": "stream",
     "text": [
      "====: Input Array :====\n",
      " [[[ 1  2  3]\n",
      "  [ 4  5  6]]\n",
      "\n",
      " [[ 7  8  9]\n",
      "  [10 11 12]]]\n",
      "====: Output Array :====\n",
      "\n",
      "Convert all the values of 1st array to 64\n",
      "[[[64 64 64]\n",
      "  [64 64 64]]\n",
      "\n",
      " [[ 7  8  9]\n",
      "  [10 11 12]]]\n"
     ]
    }
   ],
   "source": [
    "arr3d = np.array([\n",
    "    [[1, 2, 3], [4, 5, 6]],\n",
    "    [[7, 8, 9], [10, 11, 12]]\n",
    "])\n",
    "print(\"====: Input Array :====\\n\",arr3d)\n",
    "print(\"====: Output Array :====\\n\")\n",
    "print(\"Convert all the values of 1st array to 64\")\n",
    "arr3d[0]=64\n",
    "print(arr3d)"
   ]
  },
  {
   "cell_type": "markdown",
   "metadata": {
    "id": "vZj0Ndvnx6f0"
   },
   "source": [
    "23. Make a 2-Dimensional array with values 0-9 and slice out the first 1st 1-D array from it"
   ]
  },
  {
   "cell_type": "code",
   "execution_count": 64,
   "metadata": {
    "id": "pM4e9YfdyHSv"
   },
   "outputs": [
    {
     "name": "stdout",
     "output_type": "stream",
     "text": [
      "2-Dimensional array with values 0-9 and slice out the first 1st 1-D array from it\n",
      "====: Input Array :====\n",
      " [[0 1 2 3 4]\n",
      " [5 6 7 8 9]]\n",
      "====: Output Array :====\n",
      " 0\n"
     ]
    }
   ],
   "source": [
    "arr = np.arange(10).reshape(2, 5)\n",
    "print('2-Dimensional array with values 0-9 and slice out the first 1st 1-D array from it')\n",
    "print(\"====: Input Array :====\\n\",arr)\n",
    "print(\"====: Output Array :====\\n\",arr[0])\n"
   ]
  },
  {
   "cell_type": "markdown",
   "metadata": {
    "id": "C3dkW0lZyVps"
   },
   "source": [
    "24. Make a 2-Dimensional array with values 0-9 and slice out the 2nd value from 2nd 1-D array from it"
   ]
  },
  {
   "cell_type": "code",
   "execution_count": 65,
   "metadata": {
    "id": "IrrzK2xgygqV"
   },
   "outputs": [
    {
     "name": "stdout",
     "output_type": "stream",
     "text": [
      "====: Input Array :====\n",
      " [[0 1 2 3 4]\n",
      " [5 6 7 8 9]]\n",
      "2-Dimensional array with values 0-9 and slice out the 2nd value from 2nd 1-D array from it\n",
      "====: Output Array :====\n",
      " 6\n"
     ]
    }
   ],
   "source": [
    "arr = np.arange(10).reshape(2, 5)\n",
    "print(\"====: Input Array :====\\n\",arr)\n",
    "print('2-Dimensional array with values 0-9 and slice out the 2nd value from 2nd 1-D array from it')\n",
    "print(\"====: Output Array :====\\n\",arr[1][1])\n",
    "print(\"===: ====================== :===\\n\")"
   ]
  },
  {
   "cell_type": "markdown",
   "metadata": {
    "id": "G3dLwOO9yyrE"
   },
   "source": [
    "25. Make a 2-Dimensional array with values 0-9 and slice out the third column but only the first two rows"
   ]
  },
  {
   "cell_type": "code",
   "execution_count": 67,
   "metadata": {
    "id": "5Bx4fqsLyqGD"
   },
   "outputs": [
    {
     "name": "stdout",
     "output_type": "stream",
     "text": [
      "2-Dimensional array with values 0-9 and slice out the third column but only the first two rows\n",
      "====: Input Array :====\n",
      " [[0 1 2 3 4]\n",
      " [5 6 7 8 9]]\n",
      "====: Output Array :====\n",
      " [[2]\n",
      " [7]]\n"
     ]
    }
   ],
   "source": [
    "arr = np.arange(10).reshape(2,5)\n",
    "print('2-Dimensional array with values 0-9 and slice out the third column but only the first two rows')\n",
    "print(\"====: Input Array :====\\n\",arr)\n",
    "print(\"====: Output Array :====\\n\",arr[0:2,2:3])\n",
    "print(\"===: ====================== :===\\n\")"
   ]
  },
  {
   "cell_type": "markdown",
   "metadata": {
    "id": "CQ9YST5jy0IL"
   },
   "source": [
    "26. Create a 10x10 array with random values and find the minimum and maximum values"
   ]
  },
  {
   "cell_type": "code",
   "execution_count": 68,
   "metadata": {
    "id": "lhJPugjQzG6W"
   },
   "outputs": [
    {
     "name": "stdout",
     "output_type": "stream",
     "text": [
      "====: Input Array :====\n",
      " [[ 0.98504751 -0.00746552 -0.26567237 -0.1517291  -1.21773336  1.24244462\n",
      "  -0.94797138 -1.43072692  0.43763485 -0.73253878]\n",
      " [ 1.53966146 -0.52101245 -0.06030376  0.02578793  0.17492882 -0.88942674\n",
      "   0.64353067  0.24674173  0.93089769 -0.01103851]\n",
      " [ 0.47927744  0.15932358  0.82160895 -0.45046071 -0.88027174 -0.99575098\n",
      "  -0.52000604  0.27123135  0.57256864  1.953768  ]\n",
      " [ 0.09758626 -1.369914    0.51054485  0.7945538  -0.39287164  0.29731628\n",
      "   1.30928878  2.0846642   2.36363981 -1.26051348]\n",
      " [ 0.25965921 -0.16542041 -0.07355176  1.15142916 -0.98031422  1.42787413\n",
      "  -1.04385992 -1.04651656  1.88256877 -0.05674283]\n",
      " [-1.44850879 -0.05764063  0.14752952 -0.33925371 -2.37904924  0.19163163\n",
      "  -0.1776983  -0.73065401  0.89997088  2.04391874]\n",
      " [ 0.52389401  0.26538886  0.74336186 -1.03852184 -0.51458058  0.65579473\n",
      "  -0.2983972  -1.4366642   0.30467352  0.65855431]\n",
      " [-2.18776993 -0.34906241 -0.15519734  1.20324871  1.30826752  1.19595909\n",
      "   0.32812856  0.07836866  0.01578325 -0.89208893]\n",
      " [-1.23422172 -0.63758961 -1.37179555 -1.4972967   1.44758402 -0.33280522\n",
      "  -0.66606622 -2.97887632 -1.41829488 -0.59397767]\n",
      " [ 0.48595056  0.29547883  0.82360422  0.91054359 -1.97554869 -0.37416687\n",
      "  -0.6309484   1.44716063 -1.1151505   1.91000894]]\n",
      "====: Output min in Array Method 1 using array.min() :====\n",
      " -2.9788763193274064\n",
      "====: Output min in Array Method 2 using np.min :====\n",
      " -2.9788763193274064\n",
      "====: Output min in Array Method 3 using np.amin(array):====\n",
      " -2.9788763193274064\n",
      "====: Output min in Array Method 4 using min(array.flatten()):====\n",
      " -2.9788763193274064\n",
      "====: Output min in Array Method 1 using array.max() :====\n",
      " 2.363639806363072\n",
      "====: Output min in Array Method 2 using np.max(array) :====\n",
      " 2.363639806363072\n",
      "====: Output min in Array Method 3 using np.amax(array):====\n",
      " 2.363639806363072\n",
      "====: Output min in Array Method 4 using max(array.flatten()):====\n",
      " 2.363639806363072\n"
     ]
    }
   ],
   "source": [
    "##(6) Create a 10x10 array with random values and find the minimum and maximum values\n",
    "values = np.random.randn(10,10)\n",
    "print(\"====: Input Array :====\\n\",values)\n",
    "\n",
    "print(\"====: Output min in Array Method 1 using array.min() :====\\n\",values.min())\n",
    "print(\"====: Output min in Array Method 2 using np.min :====\\n\",np.min(values))\n",
    "print(\"====: Output min in Array Method 3 using np.amin(array):====\\n\",np.amin(values))\n",
    "print(\"====: Output min in Array Method 4 using min(array.flatten()):====\\n\",min(values.flatten()))\n",
    "\n",
    "print(\"====: Output min in Array Method 1 using array.max() :====\\n\",values.max())\n",
    "print(\"====: Output min in Array Method 2 using np.max(array) :====\\n\",np.max(values))\n",
    "print(\"====: Output min in Array Method 3 using np.amax(array):====\\n\",np.amax(values))\n",
    "print(\"====: Output min in Array Method 4 using max(array.flatten()):====\\n\",max(values.flatten()))"
   ]
  },
  {
   "cell_type": "markdown",
   "metadata": {
    "id": "cAgDt6KazHk6"
   },
   "source": [
    "27. a = np.array([1,2,3,2,3,4,3,4,5,6]) b = np.array([7,2,10,2,7,4,9,4,9,8])\n",
    "---\n",
    "Find the common items between a and b\n"
   ]
  },
  {
   "cell_type": "code",
   "execution_count": 71,
   "metadata": {
    "id": "kBXZanxIzs_F"
   },
   "outputs": [
    {
     "name": "stdout",
     "output_type": "stream",
     "text": [
      "====: Input Array a:====\n",
      " [1 2 3 2 3 4 3 4 5 6]\n",
      "====: Input Array b:====\n",
      " [ 7  2 10  2  7  4  9  4  9  8]\n",
      "Common values between two arrays \n",
      " [2 4]\n"
     ]
    }
   ],
   "source": [
    "a = np.array([1,2,3,2,3,4,3,4,5,6])\n",
    "b = np.array([7,2,10,2,7,4,9,4,9,8])\n",
    "print(\"====: Input Array a:====\\n\",a)\n",
    "print(\"====: Input Array b:====\\n\",b)\n",
    "# Common values between two arrays \n",
    "print(\"Common values between two arrays \\n\",np.intersect1d(a, b))"
   ]
  },
  {
   "cell_type": "markdown",
   "metadata": {
    "id": "lF9IzWOAztpD"
   },
   "source": [
    "28. a = np.array([1,2,3,2,3,4,3,4,5,6])\n",
    "b = np.array([7,2,10,2,7,4,9,4,9,8])\n",
    "\n",
    "---\n",
    "Find the positions where elements of a and b match\n",
    "\n"
   ]
  },
  {
   "cell_type": "code",
   "execution_count": 152,
   "metadata": {
    "id": "JR-mHQLH0HY_"
   },
   "outputs": [
    {
     "name": "stdout",
     "output_type": "stream",
     "text": [
      "====: Input Array a:====\n",
      " [1 2 3 2 3 4 3 4 5 6]\n",
      "====: Input Array b:====\n",
      " [ 7  2 10  2  7  4  9  4  9  8]\n",
      "[False  True False  True False  True False  True False False]\n",
      "(array([1, 3, 5, 7], dtype=int64),)\n",
      "Indexes where element matched is :  [1 3 5 7]\n",
      "===: ====================== :===\n",
      "\n"
     ]
    }
   ],
   "source": [
    "a = np.array([1,2,3,2,3,4,3,4,5,6])\n",
    "b = np.array([7,2,10,2,7,4,9,4,9,8])\n",
    "print(\"====: Input Array a:====\\n\",a)\n",
    "print(\"====: Input Array b:====\\n\",b)\n",
    "boolArr = np.where(a==b)\n",
    "print((a==b))\n",
    "print(np.where(a==b))\n",
    "print(\"Indexes where element matched is : \",boolArr[0])\n",
    "print(\"===: ====================== :===\\n\")"
   ]
  },
  {
   "cell_type": "markdown",
   "metadata": {
    "id": "mMDiefpH0H1x"
   },
   "source": [
    "29.  names = np.array(['Bob', 'Joe', 'Will', 'Bob', 'Will', 'Joe', 'Joe'])  data = np.random.randn(7, 4)\n",
    "\n",
    "---\n",
    "Find all the values from array **data** where the values from array **names** are not equal to **Will**\n"
   ]
  },
  {
   "cell_type": "code",
   "execution_count": 79,
   "metadata": {
    "id": "gfc1Lpf81ZSR"
   },
   "outputs": [
    {
     "name": "stdout",
     "output_type": "stream",
     "text": [
      "====: Input Array names:====\n",
      " ['Bob' 'Joe' 'Will' 'Bob' 'Will' 'Joe' 'Joe']\n",
      "====:  Output Array names are not equal to 'Will' :====\n",
      "['Bob' 'Joe' 'Bob' 'Joe' 'Joe']\n",
      "===: ====================== :===\n",
      "\n"
     ]
    }
   ],
   "source": [
    "names = np.array(['Bob', 'Joe', 'Will', 'Bob', 'Will', 'Joe', 'Joe'])\n",
    "print(\"====: Input Array names:====\\n\",names)\n",
    "print(\"====:  Output Array names are not equal to 'Will' :====\")\n",
    "narr = (names !='Will')\n",
    "print(names[narr])\n",
    "print(\"===: ====================== :===\\n\")"
   ]
  },
  {
   "cell_type": "markdown",
   "metadata": {
    "id": "52zEjDMf1aXS"
   },
   "source": [
    "30. names = np.array(['Bob', 'Joe', 'Will', 'Bob', 'Will', 'Joe', 'Joe']) data = np.random.randn(7, 4)\n",
    "\n",
    "---\n",
    "Find all the values from array **data** where the values from array **names** are not equal to **Will** and **Joe**\n",
    "\n"
   ]
  },
  {
   "cell_type": "code",
   "execution_count": 83,
   "metadata": {
    "id": "8RYG0kLO1mHw"
   },
   "outputs": [
    {
     "name": "stdout",
     "output_type": "stream",
     "text": [
      "====: Input Array names:====\n",
      " ['Bob' 'Joe' 'Will' 'Bob' 'Will' 'Joe' 'Joe']\n",
      "====:  Output names are not equal to Will and Joe :====\n",
      "=>Without np.where Clause\n",
      "['Bob' 'Bob']\n",
      "=>With np.where\n",
      "['Bob' 'Bob']\n",
      "===: ====================== :===\n",
      "\n"
     ]
    }
   ],
   "source": [
    "names = np.array(['Bob', 'Joe', 'Will', 'Bob', 'Will', 'Joe', 'Joe'])\n",
    "data = np.random.randn(7, 4)\n",
    "print(\"====: Input Array names:====\\n\",names)\n",
    "\n",
    "print(\"====:  Output names are not equal to Will and Joe :====\")\n",
    "print(\"=>Without np.where Clause\")\n",
    "narr = (names !='Will') & (names !='Joe' )\n",
    "\n",
    "print(names[narr])\n",
    "print(\"=>With np.where\")\n",
    "narr1 = np.where((names !='Will')&(names !='Joe'))\n",
    "print(names[narr1])\n",
    "print(\"===: ====================== :===\\n\")"
   ]
  },
  {
   "cell_type": "markdown",
   "metadata": {
    "id": "Q7hjf2bd2dCY"
   },
   "source": [
    "Difficulty Level **Hard**"
   ]
  },
  {
   "cell_type": "markdown",
   "metadata": {
    "id": "b48g7aRA2jVM"
   },
   "source": [
    "31. Create a 2D array of shape 5x3 to contain decimal numbers between 1 and 15."
   ]
  },
  {
   "cell_type": "code",
   "execution_count": 86,
   "metadata": {
    "id": "EbwfSCrW2f9_"
   },
   "outputs": [
    {
     "name": "stdout",
     "output_type": "stream",
     "text": [
      "====: Input Array :====\n",
      " [ 1  2  3  4  5  6  7  8  9 10 11 12 13 14 15]\n",
      "====:  Output Reshape(5x3) :====\n",
      "[[ 1  2  3]\n",
      " [ 4  5  6]\n",
      " [ 7  8  9]\n",
      " [10 11 12]\n",
      " [13 14 15]]\n"
     ]
    }
   ],
   "source": [
    "arr = np.arange(1,16)\n",
    "print(\"====: Input Array :====\\n\",arr)\n",
    "\n",
    "arr = arr.reshape(5, 3)\n",
    "\n",
    "print(\"====:  Output Reshape(5x3) :====\")\n",
    "print(arr)"
   ]
  },
  {
   "cell_type": "markdown",
   "metadata": {
    "id": "Ei_nDHtO3qBk"
   },
   "source": [
    "32. Create an array of shape (2, 2, 4) with decimal numbers between 1 to 16."
   ]
  },
  {
   "cell_type": "code",
   "execution_count": 87,
   "metadata": {
    "id": "phOxVpBM4M6D"
   },
   "outputs": [
    {
     "name": "stdout",
     "output_type": "stream",
     "text": [
      "====: Input Array :====\n",
      " [ 1  2  3  4  5  6  7  8  9 10 11 12 13 14 15 16]\n",
      "====:  Output Reshape (2, 2, 4)  :====\n",
      "[[[ 1  2  3  4]\n",
      "  [ 5  6  7  8]]\n",
      "\n",
      " [[ 9 10 11 12]\n",
      "  [13 14 15 16]]]\n"
     ]
    }
   ],
   "source": [
    "arr = np.arange(1,17)\n",
    "print(\"====: Input Array :====\\n\",arr)\n",
    "arr = arr.reshape(2, 2, 4)\n",
    "print(\"====:  Output Reshape (2, 2, 4)  :====\")\n",
    "print(arr)"
   ]
  },
  {
   "cell_type": "markdown",
   "metadata": {
    "id": "uyiQaMjA4d_x"
   },
   "source": [
    "33. Swap axes of the array you created in Question 32"
   ]
  },
  {
   "cell_type": "code",
   "execution_count": 90,
   "metadata": {
    "id": "w2m9p8064VtR"
   },
   "outputs": [
    {
     "name": "stdout",
     "output_type": "stream",
     "text": [
      "====: Input Array :====\n",
      " [[[ 1  2  3  4]\n",
      "  [ 5  6  7  8]]\n",
      "\n",
      " [[ 9 10 11 12]\n",
      "  [13 14 15 16]]]\n",
      "====:  Output Swap axes  :====\n",
      "[[[ 1  5]\n",
      "  [ 2  6]\n",
      "  [ 3  7]\n",
      "  [ 4  8]]\n",
      "\n",
      " [[ 9 13]\n",
      "  [10 14]\n",
      "  [11 15]\n",
      "  [12 16]]]\n"
     ]
    }
   ],
   "source": [
    "arr = np.arange(1,17).reshape(2, 2, 4)\n",
    "print(\"====: Input Array :====\\n\",arr)\n",
    "print(\"====:  Output Swap axes  :====\")\n",
    "print(np.swapaxes(arr,1,2))"
   ]
  },
  {
   "cell_type": "markdown",
   "metadata": {
    "id": "2dlU_yUR4mVZ"
   },
   "source": [
    "34. Create an array of size 10, and find the square root of every element in the array, if the values less than 0.5, replace them with 0"
   ]
  },
  {
   "cell_type": "code",
   "execution_count": 102,
   "metadata": {
    "id": "tmBabEJ-5JgB"
   },
   "outputs": [
    {
     "name": "stdout",
     "output_type": "stream",
     "text": [
      "====: Input Array (size: 10):====\n",
      " [0 1 2 3 4 5 6 7 8 9]\n",
      "====:  Output :====\n",
      "====:  square root of every element  :====\n",
      " [0.         1.         1.41421356 1.73205081 2.         2.23606798\n",
      " 2.44948974 2.64575131 2.82842712 3.        ]\n",
      "====:  values less than 0.5, replace them with 0  :====\n",
      " [0.         1.         1.41421356 1.73205081 2.         2.23606798\n",
      " 2.44948974 2.64575131 2.82842712 3.        ]\n"
     ]
    }
   ],
   "source": [
    "arr = np.arange(10)\n",
    "\n",
    "print(f\"====: Input Array (size: {arr.size}):====\\n\",arr)\n",
    "sqrt_arr=np.sqrt(arr)\n",
    "print(\"====:  Output :====\")\n",
    "print(\"====:  square root of every element  :====\\n\",sqrt_arr)\n",
    "sqrt_arr[sqrt_arr<(0.5)]=0\n",
    "print(\"====:  values less than 0.5, replace them with 0  :====\\n\",sqrt_arr)\n"
   ]
  },
  {
   "cell_type": "markdown",
   "metadata": {
    "id": "SNAM4dpu5RKA"
   },
   "source": [
    "35. Create two random arrays of range 12 and make an array with the maximum values between each element of the two arrays"
   ]
  },
  {
   "cell_type": "code",
   "execution_count": 119,
   "metadata": {
    "id": "3pxebU2b5q9Z"
   },
   "outputs": [
    {
     "name": "stdout",
     "output_type": "stream",
     "text": [
      "====: Input Array a (size: 12):====\n",
      " [19 41  6 25  4 14 19  9 16 34  0 27]\n",
      "====: Input Array b (size: 12):====\n",
      " [ 4 32 27  4 37 31 43 35 39  5 49 27]\n",
      "====:  Output :====\n",
      "Max Value in List using np.max (A) :  41\n",
      "Max Value in List using np.max(B) :  49\n",
      "===: New Array of (Max A and Max B) :===  [41 49]\n"
     ]
    }
   ],
   "source": [
    "a = np.random.randint(50, size=(12))\n",
    "b = np.random.randint(50, size=(12))\n",
    "print(f\"====: Input Array a (size: {a.size}):====\\n\",a)\n",
    "print(f\"====: Input Array b (size: {b.size}):====\\n\",b)\n",
    "print(\"====:  Output :====\")\n",
    "#print(\"Max Value in List using array.max() (A) : \", a.max())\n",
    "#print(\"Max Value in List using array.max() (B) : \", b.max())\n",
    "print(\"Max Value in List using np.max (A) : \",np.max(a))\n",
    "print(\"Max Value in List using np.max(B) : \",np.max(b))\n",
    "newarr = np.array((np.max(a),np.max(b)))\n",
    "print(\"===: New Array of (Max A and Max B) :=== \",newarr)"
   ]
  },
  {
   "cell_type": "markdown",
   "metadata": {
    "id": "fz_bpqm28qmD"
   },
   "source": [
    "36. names = np.array(['Bob', 'Joe', 'Will', 'Bob', 'Will', 'Joe', 'Joe'])\n",
    "\n",
    "---\n",
    "Find the unique names and sort them out!\n"
   ]
  },
  {
   "cell_type": "code",
   "execution_count": 123,
   "metadata": {
    "id": "hiSNMgcY87Ey"
   },
   "outputs": [
    {
     "name": "stdout",
     "output_type": "stream",
     "text": [
      "====:Input Array:==== \n",
      "  ['Bob' 'Joe' 'Will' 'Bob' 'Will' 'Joe' 'Joe']\n",
      "====:  Output :====\n",
      "===:After Unique without Sort:==== \n",
      "  ['Bob' 'Joe' 'Will']\n",
      "====:After Sorting :==== \n",
      "  ['Bob' 'Joe' 'Will']\n",
      "\n",
      " ===================================== \n",
      "\n"
     ]
    }
   ],
   "source": [
    "names = np.array(['Bob', 'Joe', 'Will','Bob', 'Will', 'Joe', 'Joe'])\n",
    "print(\"====:Input Array:==== \\n \",names)\n",
    "\n",
    "print(\"====:  Output :====\")\n",
    "# np.lookfor('unique')\n",
    "unique_arr = np.unique(names)\n",
    "print(\"===:After Unique without Sort:==== \\n \",unique_arr)\n",
    "# np.lookfor('sort')\n",
    "unique_sort_arr = np.sort(unique_arr)\n",
    "print(\"====:After Sorting :==== \\n \",unique_sort_arr)\n",
    "print(\"\\n ===================================== \\n\")"
   ]
  },
  {
   "cell_type": "markdown",
   "metadata": {
    "id": "dguMNzob870H"
   },
   "source": [
    "37. a = np.array([1,2,3,4,5])\n",
    "b = np.array([5,6,7,8,9])\n",
    "\n",
    "---\n",
    "From array a remove all items present in array b\n",
    "\n"
   ]
  },
  {
   "cell_type": "code",
   "execution_count": 124,
   "metadata": {
    "id": "eCNJXPvK9IAr"
   },
   "outputs": [
    {
     "name": "stdout",
     "output_type": "stream",
     "text": [
      "===:Input array a:=== [1 2 3 4 5]\n",
      "===:Input array b:=== [5 6 7 8 9]\n",
      "====:  Output :====\n",
      "a not in b [1 2 3 4]\n",
      "\n",
      " ===================================== \n",
      "\n"
     ]
    }
   ],
   "source": [
    "a = np.array([1,2,3,4,5])\n",
    "b = np.array([5,6,7,8,9])\n",
    "print(\"===:Input array a:===\",a)\n",
    "print(\"===:Input array b:===\",b)\n",
    "print(\"====:  Output :====\")\n",
    "Not_in_b = np.in1d(a, b,invert=True)\n",
    "print(\"a not in b\",a[Not_in_b])\n",
    "print(\"\\n ===================================== \\n\")\n"
   ]
  },
  {
   "cell_type": "markdown",
   "metadata": {
    "id": "gz4Dvd4b_Akh"
   },
   "source": [
    "38.  Following is the input NumPy array delete column two and insert following new column in its place.\n",
    "\n",
    "---\n",
    "sampleArray = numpy.array([[34,43,73],[82,22,12],[53,94,66]]) \n",
    "\n",
    "\n",
    "---\n",
    "\n",
    "newColumn = numpy.array([[10,10,10]])\n"
   ]
  },
  {
   "cell_type": "code",
   "execution_count": 133,
   "metadata": {
    "id": "lLWAJWJJ_I3d"
   },
   "outputs": [
    {
     "name": "stdout",
     "output_type": "stream",
     "text": [
      "===:Input array sampleArray:===\n",
      " [[34 43 73]\n",
      " [82 22 12]\n",
      " [53 94 66]]\n",
      "===:Input array newColumn:===\n",
      " [[10 10 10]]\n",
      "===================================== \n",
      "\n",
      "========:  Output using reshape & Slicing:========\n",
      "reshape newColumn to column wise array \n",
      " [[10]\n",
      " [10]\n",
      " [10]]\n",
      "Method 1: Replace newColumn usingreshape & Slicing [::,1:2:] \n",
      "\n",
      "===:Before Replace:=== \n",
      " [[34 43 73]\n",
      " [82 22 12]\n",
      " [53 94 66]]\n",
      "===:Sliced Values:=== \n",
      " [[43]\n",
      " [22]\n",
      " [94]]\n",
      "===:After Replaced Sliced Values:=== \n",
      " [[34 10 73]\n",
      " [82 10 12]\n",
      " [53 10 66]]\n",
      "\n",
      " ===================================== \n",
      "\n",
      "Method 2: using np.delete & np.insert \n",
      "\n",
      "===:After Delete column two:=== \n",
      " [[34 73]\n",
      " [82 12]\n",
      " [53 66]]\n",
      "===:After Insert newColumn:=== \n",
      " [[34 10 73]\n",
      " [82 10 12]\n",
      " [53 10 66]]\n",
      "\n",
      " ===================================== \n",
      "\n"
     ]
    }
   ],
   "source": [
    "sampleArray = np.array([[34,43,73],[82,22,12],[53,94,66]])\n",
    "newColumn = np.array([[10,10,10]])\n",
    "\n",
    "print(\"===:Input array sampleArray:===\\n\",sampleArray)\n",
    "print(\"===:Input array newColumn:===\\n\",newColumn)\n",
    "print(\"===================================== \\n\")\n",
    "print(\"========:  Output using reshape & Slicing:========\")\n",
    "newColumn =newColumn.reshape(3,1)\n",
    "print(\"reshape newColumn to column wise array \\n\",newColumn)\n",
    "\n",
    "print(\"Method 1: Replace newColumn usingreshape & Slicing [::,1:2:] \\n\")\n",
    "print(\"===:Before Replace:=== \\n\",sampleArray)\n",
    "print(\"===:Sliced Values:=== \\n\",sampleArray[::,1:2:])\n",
    "sampleArray[::,1:2:]=newColumn.reshape(3,1)\n",
    "\n",
    "print(\"===:After Replaced Sliced Values:=== \\n\",sampleArray)\n",
    "\n",
    "print(\"\\n ===================================== \\n\")\n",
    "\n",
    "sampleArray = np.array([[34,43,73],[82,22,12],[53,94,66]])\n",
    "newColumn = np.array([[10,10,10]])\n",
    "#newColumn =newColumn.reshape(3,1)\n",
    "\n",
    "print(\"Method 2: using np.delete & np.insert \\n\")\n",
    "sampleArray = np.delete(sampleArray, 1, 1)\n",
    "\n",
    "print(\"===:After Delete column two:=== \\n\",sampleArray)\n",
    "\n",
    "sampleArray = np.insert(sampleArray, 1, newColumn, axis=1)\n",
    "print(\"===:After Insert newColumn:=== \\n\",sampleArray)\n",
    "\n",
    "print(\"\\n ===================================== \\n\")"
   ]
  },
  {
   "cell_type": "markdown",
   "metadata": {
    "id": "1lIfmbQt_J_W"
   },
   "source": [
    "39. x = np.array([[1., 2., 3.], [4., 5., 6.]]) y = np.array([[6., 23.], [-1, 7], [8, 9]])\n",
    "\n",
    "\n",
    "---\n",
    "Find the dot product of the above two matrix\n"
   ]
  },
  {
   "cell_type": "code",
   "execution_count": 134,
   "metadata": {
    "id": "fV2-vXcR_vmu"
   },
   "outputs": [
    {
     "name": "stdout",
     "output_type": "stream",
     "text": [
      "===:Input array x:===\n",
      " [[1. 2. 3.]\n",
      " [4. 5. 6.]]\n",
      "===:Input array y:===\n",
      " [[ 6. 23.]\n",
      " [-1.  7.]\n",
      " [ 8.  9.]]\n",
      "\n",
      " [[ 28.  64.]\n",
      " [ 67. 181.]]\n",
      "\n",
      " ===================================== \n",
      "\n"
     ]
    }
   ],
   "source": [
    "x = np.array([[1., 2., 3.], [4., 5., 6.]])\n",
    "y = np.array([[6., 23.], [-1, 7], [8, 9]])\n",
    "\n",
    "print(\"===:Input array x:===\\n\",x)\n",
    "print(\"===:Input array y:===\\n\",y)\n",
    "print(\"========:  Output dot(x,y) product using np.dot:========\")\n",
    "print(\"\\n\",np.dot(x, y))\n",
    "\n",
    "print(\"\\n ===================================== \\n\")"
   ]
  },
  {
   "cell_type": "markdown",
   "metadata": {
    "id": "5U-4odUw_wP0"
   },
   "source": [
    "40. Generate a matrix of 20 random values and find its cumulative sum"
   ]
  },
  {
   "cell_type": "code",
   "execution_count": 139,
   "metadata": {
    "id": "_oOHdiYEAF8N"
   },
   "outputs": [
    {
     "name": "stdout",
     "output_type": "stream",
     "text": [
      "===:Random Matrix (size: 5):=== \n",
      " [[42 71 37 75]\n",
      " [98 26  0 29]\n",
      " [50 72 13 11]\n",
      " [31 85 82 34]\n",
      " [64 67 41 29]]\n",
      "===:Output Cumulative sum of Random Matrix:=== \n",
      " [ 42 113 150 225 323 349 349 378 428 500 513 524 555 640 722 756 820 887\n",
      " 928 957]\n",
      "===================================== \n",
      "\n"
     ]
    }
   ],
   "source": [
    "rm = np.random.randint(100, size=(20)).reshape(5,4)\n",
    "\n",
    "\n",
    "print(f\"===:Random Matrix (size: {a.size}):=== \\n\",rm)\n",
    "print(\"===:Output Cumulative sum of Random Matrix:=== \\n\",np.cumsum(rm))\n",
    "print(\"===================================== \\n\")"
   ]
  },
  {
   "cell_type": "code",
   "execution_count": null,
   "metadata": {},
   "outputs": [],
   "source": []
  }
 ],
 "metadata": {
  "colab": {
   "name": "Numpy-Assignment-PIAIC-Batch35-Q2.ipynb",
   "provenance": []
  },
  "kernelspec": {
   "display_name": "Python 3",
   "language": "python",
   "name": "python3"
  },
  "language_info": {
   "codemirror_mode": {
    "name": "ipython",
    "version": 3
   },
   "file_extension": ".py",
   "mimetype": "text/x-python",
   "name": "python",
   "nbconvert_exporter": "python",
   "pygments_lexer": "ipython3",
   "version": "3.7.6"
  }
 },
 "nbformat": 4,
 "nbformat_minor": 1
}
